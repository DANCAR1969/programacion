{
  "nbformat": 4,
  "nbformat_minor": 0,
  "metadata": {
    "colab": {
      "provenance": [],
      "authorship_tag": "ABX9TyNcJd+zKI0MjbZhN0PC5Njg",
      "include_colab_link": true
    },
    "kernelspec": {
      "name": "python3",
      "display_name": "Python 3"
    },
    "language_info": {
      "name": "python"
    }
  },
  "cells": [
    {
      "cell_type": "markdown",
      "metadata": {
        "id": "view-in-github",
        "colab_type": "text"
      },
      "source": [
        "<a href=\"https://colab.research.google.com/github/DANCAR1969/programacion/blob/master/Diccionario.ipynb\" target=\"_parent\"><img src=\"https://colab.research.google.com/assets/colab-badge.svg\" alt=\"Open In Colab\"/></a>"
      ]
    },
    {
      "cell_type": "markdown",
      "source": [
        "Diccionarios en Python:\n",
        " son estructuras de datos que almacenan pares de clave-valor, donde cada clave es única y se utiliza para acceder a su valor correspondiente. Son mutables, lo que significa que se pueden modificar después de su creación.\n",
        "\n",
        "1. Crear un Diccionario\n",
        "\n",
        "Puedes crear un diccionario utilizando llaves {} o la función dict().\n",
        "\n",
        "Ejemplos se la sintaxis: Este diccionario Contiene tres pares clave-valor es decir : \"nombre\" es la  clave \"jose\" es el valor"
      ],
      "metadata": {
        "id": "li1mMO0mo8YO"
      }
    },
    {
      "cell_type": "code",
      "source": [
        "# Usando llaves\n",
        "diccionario = {'nombre': 'Jose', 'edad': 25, 'país': 'Colombia', \"peso\": 55.8}\n",
        "print(diccionario)\n",
        "\n",
        "# Usando dict()\n",
        "diccionario2 = dict(nombre='Maria', edad=30, país='México', peso=55.8)\n",
        "print(diccionario2)\n"
      ],
      "metadata": {
        "id": "rCmExkiiGcpM",
        "colab": {
          "base_uri": "https://localhost:8080/"
        },
        "outputId": "72b84f24-43e3-4172-f0eb-bccb585006c9"
      },
      "execution_count": null,
      "outputs": [
        {
          "output_type": "stream",
          "name": "stdout",
          "text": [
            "{'nombre': 'Jose', 'edad': 25, 'país': 'Colombia', 'peso': 55.8}\n",
            "{'nombre': 'Maria', 'edad': 30, 'país': 'México', 'peso': 55.8}\n"
          ]
        }
      ]
    },
    {
      "cell_type": "markdown",
      "source": [
        "2. Acceder a Elementos\n",
        "\n",
        "Puedes acceder a los valores utilizando sus claves.\n",
        "\n",
        "En el caso del diccionario['nombre']:\n",
        "Se coloca la clave 'nombre' entre corchetes [] después del nombre del diccionario.\n",
        "\n",
        "Python busca esta clave dentro del diccionario:\n",
        "Si la clave existe, devuelve su valor asociado ('Jose').\n",
        "\n",
        "Si la clave no existe, se genera un KeyError, lo que detiene la ejecución del programa."
      ],
      "metadata": {
        "id": "4jeLJD7TGq5l"
      }
    },
    {
      "cell_type": "code",
      "source": [
        "diccionario = {'nombre': 'Jose', 'edad': 25, 'pais': 'Colombia'}\n",
        "print(diccionario)\n",
        "# Acceso directo\n",
        "print(diccionario['nombre'])\n",
        "print(diccionario['edad'])\n",
        "print(diccionario[\"pais\"])\n",
        "\n",
        "#print(diccionario[\"genero\"])\n",
        "\n",
        "print(diccionario.get(\"nombre\", \"valor\"))\n",
        "\n",
        "\n",
        "# Usando get (evita errores si la clave no existe)\n",
        "print(diccionario.get('genero', 'no existe'))  # Salida: No especificada\n"
      ],
      "metadata": {
        "id": "ZDC7WdI_HErJ"
      },
      "execution_count": null,
      "outputs": []
    },
    {
      "cell_type": "markdown",
      "source": [
        "3. Modificar un Diccionario\n",
        "\n",
        "Los diccionarios son mutables, por lo que se pueden modificar después de crearlos.\n",
        "\n"
      ],
      "metadata": {
        "id": "j_9b7vrGIrrQ"
      }
    },
    {
      "cell_type": "markdown",
      "source": [
        "Como ejemplo Utilizamos la clave 'edad' para acceder a su valor actual 25.\n",
        "Asignamos un nuevo valor 28 a la clave 'edad'.\n",
        "\n",
        "Cómo Funciona:\n",
        "\n",
        "Python busca la clave 'edad' en el diccionario.\n",
        "Si encuentra la clave, actualiza su valor.\n"
      ],
      "metadata": {
        "id": "-dJ0xFthNB_s"
      }
    },
    {
      "cell_type": "code",
      "source": [
        "# Crear un diccionario inicial\n",
        "diccionario = {'nombre': 'Jose', 'edad': 25, 'país': 'Colombia'}\n",
        "print(diccionario)\n",
        "\n",
        "# Modificar un valor existente\n",
        "diccionario['edad'] = 38\n",
        "print(diccionario)\n",
        "\n",
        "diccionario['nombre'] = 'Maria'\n",
        "print(diccionario)\n",
        "\n",
        "diccionario['país'] = 'Chile'\n",
        "print(diccionario)\n",
        "\n",
        "# Agregar un nuevo par clave-valor\n",
        "diccionario['area'] = 56.89\n",
        "print(diccionario)\n"
      ],
      "metadata": {
        "id": "vXerElbxJIyb",
        "colab": {
          "base_uri": "https://localhost:8080/"
        },
        "outputId": "c738eeb9-f1fa-4e53-e817-acf019ce771c"
      },
      "execution_count": null,
      "outputs": [
        {
          "output_type": "stream",
          "name": "stdout",
          "text": [
            "{'nombre': 'Jose', 'edad': 25, 'país': 'Colombia'}\n",
            "{'nombre': 'Jose', 'edad': 32, 'país': 'Colombia'}\n",
            "{'nombre': 'Maria', 'edad': 32, 'país': 'Colombia'}\n",
            "{'nombre': 'Maria', 'edad': 32, 'país': 'Chile'}\n",
            "{'nombre': 'Maria', 'edad': 32, 'país': 'Chile', 'area': 56.89}\n"
          ]
        }
      ]
    },
    {
      "cell_type": "markdown",
      "source": [
        "  4. Agregar un Nuevo Par Clave-Valor  \n",
        "\n"
      ],
      "metadata": {
        "id": "oIWF0pK-Phto"
      }
    },
    {
      "cell_type": "markdown",
      "source": [
        "Como 'profesión' no existe en el diccionario, se agrega como una nueva clave.\n",
        "El valor asociado a 'profesión' es 'Ingeniero'.\n",
        "\n",
        "Cómo Funciona:\n",
        "\n",
        "Python verifica si la clave 'profesión' existe en el diccionario.\n",
        "Como no está presente, agrega la nueva clave 'profesión' con el valor 'Ingeniero'.\n",
        "\n",
        "\n"
      ],
      "metadata": {
        "id": "27J-xP5kRtVP"
      }
    },
    {
      "cell_type": "code",
      "source": [
        "diccionario = {'nombre': 'Jose', 'edad': 25, 'país': 'Colombia'}\n",
        "diccionario['profesión'] = 'Ingeniero'\n",
        "print(diccionario)"
      ],
      "metadata": {
        "id": "C-LuAFfSPub6"
      },
      "execution_count": null,
      "outputs": []
    },
    {
      "cell_type": "markdown",
      "source": [
        "  5. Eliminar Elementos\n",
        "\n",
        "Puedes eliminar elementos de varias maneras:\n",
        "\n",
        "- El uso de  Pop:\n",
        "Elimina el elemento que tiene la clave especificada del diccionario.\n",
        "Devuelve el valor asociado a esa clave.\n",
        "Si la clave no existe, lanza un KeyError.\n",
        "Ejemplo Explicado:\n",
        "Se elimina la clave 'país' y su valor 'Colombia' del diccionario.\n",
        "El valor eliminado se almacena en la variable valor_eliminado y se imprime."
      ],
      "metadata": {
        "id": "3jVylRIeQN3F"
      }
    },
    {
      "cell_type": "code",
      "source": [
        "diccionario = {'nombre': 'Jose', 'edad': 25, 'pais': 'Colombia', \"profesion\" : \"mecatronica\"}\n",
        "print(diccionario)\n",
        "# Eliminar usando pop\n",
        "nuevovalor = diccionario.pop('pais')\n",
        "print(nuevovalor)\n",
        "print(diccionario)\n"
      ],
      "metadata": {
        "id": "aT6biWV-VKBw",
        "colab": {
          "base_uri": "https://localhost:8080/"
        },
        "outputId": "74671184-835f-44f3-ce46-cab1bc1b5eed"
      },
      "execution_count": null,
      "outputs": [
        {
          "output_type": "stream",
          "name": "stdout",
          "text": [
            "{'nombre': 'Jose', 'edad': 25, 'pais': 'Colombia', 'profesion': 'mecatronica'}\n",
            "Colombia\n",
            "{'nombre': 'Jose', 'edad': 25, 'profesion': 'mecatronica'}\n"
          ]
        }
      ]
    },
    {
      "cell_type": "markdown",
      "source": [
        "- Eliminar el Último Elemento Agregado con popitem()\n",
        "\n",
        "Cómo Funciona popitem():\n",
        "Elimina y devuelve un par clave-valor del diccionario como una tupla.\n",
        "Elimina el último elemento agregado (ordenado desde Python 3.7+).\n",
        "Si el diccionario está vacío, lanza un KeyError.\n",
        "\n",
        "Ejemplo Explicado:\n",
        "El último elemento en el diccionario actual es 'edad': 25.\n",
        "Se elimina y se devuelve como una tupla ('edad', 25)."
      ],
      "metadata": {
        "id": "lajL8jAgXwSG"
      }
    },
    {
      "cell_type": "code",
      "source": [
        "diccionario = {'nombre': 'Jose', 'edad': 25, 'pais': 'Colombia', \"profesion\" : \"mecatronica\"}\n",
        "print(diccionario)\n",
        "# Eliminar el último elemento agregado\n",
        "clave = diccionario.popitem()\n",
        "print(clave)\n",
        "print(diccionario)\n"
      ],
      "metadata": {
        "id": "aVe2Bxz-XxC_",
        "colab": {
          "base_uri": "https://localhost:8080/"
        },
        "outputId": "badd7f07-ad0b-4bbb-fd90-182f483304c4"
      },
      "execution_count": null,
      "outputs": [
        {
          "output_type": "stream",
          "name": "stdout",
          "text": [
            "{'nombre': 'Jose', 'edad': 25, 'pais': 'Colombia', 'profesion': 'mecatronica'}\n",
            "('profesion', 'mecatronica')\n",
            "{'nombre': 'Jose', 'edad': 25, 'pais': 'Colombia'}\n"
          ]
        }
      ]
    },
    {
      "cell_type": "markdown",
      "source": [
        "- Eliminar usando del:\n",
        "\n",
        "Cómo Funciona: del diccionario[clave]:\n",
        "\n",
        "  - Elimina el par clave-valor correspondiente a la clave especificada.\n",
        "  - No devuelve nada.\n",
        "  - Si la clave no existe, lanza un KeyError.\n",
        "\n",
        "Ejemplo Explicado:\n",
        "\n",
        "Se elimina la clave 'nombre' y su valor 'Jose' del diccionario."
      ],
      "metadata": {
        "id": "CeQKiBuhXzfd"
      }
    },
    {
      "cell_type": "code",
      "source": [
        "diccionario = {'nombre': 'Jose', 'edad': 25, 'pais': 'Colombia'}\n",
        "print(diccionario)\n",
        "# Eliminar con del\n",
        "del diccionario['edad']\n",
        "print(diccionario)\n"
      ],
      "metadata": {
        "id": "JEg7zxqWX0WG",
        "colab": {
          "base_uri": "https://localhost:8080/"
        },
        "outputId": "cf407d7d-8628-450d-8cf9-61c6ea464877"
      },
      "execution_count": null,
      "outputs": [
        {
          "output_type": "stream",
          "name": "stdout",
          "text": [
            "{'nombre': 'Jose', 'edad': 25, 'pais': 'Colombia'}\n",
            "{'nombre': 'Jose', 'pais': 'Colombia'}\n"
          ]
        }
      ]
    },
    {
      "cell_type": "markdown",
      "source": [
        "- Vaciar el Diccionario Usando clear()\n",
        "\n",
        "Cómo Funciona:\n",
        "clear():Elimina todos los elementos del\n",
        "diccionario.\n",
        "No devuelve nada.\n",
        "El diccionario sigue existiendo, pero estará vacío.\n",
        "\n",
        "Ejemplo Explicado:\n",
        "El diccionario se vacía por completo.\n",
        "El resultado es un diccionario vacío {}."
      ],
      "metadata": {
        "id": "d0EzhrF3cF-T"
      }
    },
    {
      "cell_type": "code",
      "source": [
        "diccionario = {'nombre': 'Jose', 'edad': 25, 'país': 'Colombia'}\n",
        "print(diccionario)\n",
        "# Vaciar el diccionario\n",
        "diccionario.clear()\n",
        "print(diccionario)  # Salida: {}\n"
      ],
      "metadata": {
        "id": "Y4WVog2lctt4",
        "colab": {
          "base_uri": "https://localhost:8080/"
        },
        "outputId": "349ce18e-13bb-4d8d-8429-7f99435483d6"
      },
      "execution_count": null,
      "outputs": [
        {
          "output_type": "stream",
          "name": "stdout",
          "text": [
            "{'nombre': 'Jose', 'edad': 25, 'país': 'Colombia'}\n",
            "{}\n"
          ]
        }
      ]
    },
    {
      "cell_type": "markdown",
      "source": [
        "6. Uso del Método get() en Diccionarios de Python:\n",
        "El método get() en los diccionarios de Python es una forma segura de acceder a los valores asociados a una clave sin generar errores si la clave no existe."
      ],
      "metadata": {
        "id": "_Qj3kQoAdGuD"
      }
    },
    {
      "cell_type": "code",
      "source": [
        "from sre_constants import error\n",
        "diccionario = {'nombre': 'Jose', 'edad': 25, 'país': 'Colombia'}\n",
        "print(diccionario)\n",
        "\n",
        "valor = diccionario.get(\"clave\", \"no existe\")\n",
        "print(valor)\n",
        "print(diccionario)"
      ],
      "metadata": {
        "id": "w7sV8_KceKx8",
        "colab": {
          "base_uri": "https://localhost:8080/"
        },
        "outputId": "8b989cba-f9c3-4206-ee6d-bc63c3b70e0c"
      },
      "execution_count": null,
      "outputs": [
        {
          "output_type": "stream",
          "name": "stdout",
          "text": [
            "{'nombre': 'Jose', 'edad': 25, 'país': 'Colombia'}\n",
            "no existe\n",
            "{'nombre': 'Jose', 'edad': 25, 'país': 'Colombia'}\n"
          ]
        },
        {
          "output_type": "stream",
          "name": "stderr",
          "text": [
            "<ipython-input-5-6dc698a02767>:1: DeprecationWarning: module 'sre_constants' is deprecated\n",
            "  from sre_constants import error\n"
          ]
        }
      ]
    },
    {
      "cell_type": "markdown",
      "source": [
        "Parámetros:\n",
        "clave: La clave que deseas buscar en el diccionario.\n",
        "valor_predeterminado (opcional): El valor que se devolverá si la clave no se encuentra. Si no se especifica, se devuelve None de manera predeterminada.\n",
        "\n",
        "Valor de Retorno:\n",
        "- Si la clave existe, devuelve su valor asociado.\n",
        "- Si la clave no existe, devuelve - valor_predeterminado si se especifica, o None si no se proporciona ningún valor.\n",
        "\n",
        "Ejemplo Práctico 1: Clave Existente\n",
        "\n",
        "Explicación:\n",
        "Python busca la clave 'nombre' en el diccionario.\n",
        "Como la clave existe, devuelve su valor 'Jose'.\n"
      ],
      "metadata": {
        "id": "ltAvSrG_fS7l"
      }
    },
    {
      "cell_type": "code",
      "source": [
        "diccionario = {'nombre': 'Jose', 'edad': 25, 'país': 'Colombia'}\n",
        "\n",
        "# Acceder a una clave existente\n",
        "valor = diccionario.get('area')\n",
        "print(valor)  # Salida: Jose\n"
      ],
      "metadata": {
        "id": "jT2RovDcgKOl",
        "colab": {
          "base_uri": "https://localhost:8080/"
        },
        "outputId": "079305cf-13dc-4e18-f38f-881c36a8fcba"
      },
      "execution_count": null,
      "outputs": [
        {
          "output_type": "stream",
          "name": "stdout",
          "text": [
            "None\n"
          ]
        }
      ]
    },
    {
      "cell_type": "markdown",
      "source": [
        "\n",
        "Ejemplo Práctico 2: Clave Inexistente Sin Valor Predeterminado\n",
        "\n",
        "Explicación:\n",
        "La clave 'profesión' no existe en el diccionario.\n",
        "Como no se proporciona un valor predeterminado, se devuelve None.\n"
      ],
      "metadata": {
        "id": "JCztuPyCfI6k"
      }
    },
    {
      "cell_type": "code",
      "source": [
        "valor = diccionario.get('profesión')\n",
        "print(valor)  # Salida: None\n"
      ],
      "metadata": {
        "id": "bh4X2u40gc5-",
        "colab": {
          "base_uri": "https://localhost:8080/"
        },
        "outputId": "b3a87e76-9949-44c7-ba7d-bb9b2141dc4f"
      },
      "execution_count": null,
      "outputs": [
        {
          "output_type": "stream",
          "name": "stdout",
          "text": [
            "None\n"
          ]
        }
      ]
    },
    {
      "cell_type": "markdown",
      "source": [
        "Ejemplo Práctico 3: Clave Inexistente con Valor Predeterminado\n",
        "\n",
        "Explicación:\n",
        "La clave 'profesión' no existe.\n",
        "El método devuelve el valor predeterminado 'No especificada'.\n"
      ],
      "metadata": {
        "id": "JR7WqS-KhOpV"
      }
    },
    {
      "cell_type": "code",
      "source": [
        "valor = diccionario.get('profesión', 'No especificada')\n",
        "print(valor)  # Salida: No especificada\n"
      ],
      "metadata": {
        "id": "z1pXeKWPhf14",
        "colab": {
          "base_uri": "https://localhost:8080/"
        },
        "outputId": "b97f2c81-a448-44e5-97c9-a27e6bb78004"
      },
      "execution_count": null,
      "outputs": [
        {
          "output_type": "stream",
          "name": "stdout",
          "text": [
            "No especificada\n"
          ]
        }
      ]
    },
    {
      "cell_type": "markdown",
      "source": [
        "7. Acceso a Valores en Diccionarios Usando items(), keys() y values() en Python:\n",
        "Los métodos items(), keys() y values() son herramientas esenciales para acceder a los elementos de un diccionario en Python. Cada uno de ellos devuelve una vista especial de los datos del diccionario que permite recorrerlo de manera eficiente y organizada.\n",
        "\n",
        "\n",
        "\n",
        "- Obtener Solo las Claves con keys()\n",
        "\n",
        "Descripción:\n",
        "El método keys() devuelve una vista de claves del diccionario.\n",
        "Tipo de Retorno: dict_keys, una vista especial que se comporta como una lista inmutable."
      ],
      "metadata": {
        "id": "wDK93hPshmJS"
      }
    },
    {
      "cell_type": "code",
      "source": [
        "diccionario = {'nombre': 'Jose', 'edad': 25, 'país': 'Colombia'}\n",
        "print(diccionario)\n",
        "print(diccionario.keys())\n"
      ],
      "metadata": {
        "colab": {
          "base_uri": "https://localhost:8080/"
        },
        "id": "-I-FiTxvjDtd",
        "outputId": "f59e1347-0ced-4332-ffdd-41148808eb3c"
      },
      "execution_count": null,
      "outputs": [
        {
          "output_type": "stream",
          "name": "stdout",
          "text": [
            "{'nombre': 'Jose', 'edad': 25, 'país': 'Colombia'}\n",
            "dict_keys(['nombre', 'edad', 'país'])\n"
          ]
        }
      ]
    },
    {
      "cell_type": "markdown",
      "source": [
        "- Comprobar si una clave existe"
      ],
      "metadata": {
        "id": "iiUkoAlFj0Xa"
      }
    },
    {
      "cell_type": "code",
      "source": [
        "diccionario = {'nombre': 'Jose', 'edad': 25, 'país': 'Colombia'}\n",
        "if 'edad' in diccionario.keys():\n",
        "    print(\"La clave 'edad' existe\")\n"
      ],
      "metadata": {
        "id": "vHu50DD6lTCo",
        "colab": {
          "base_uri": "https://localhost:8080/"
        },
        "outputId": "a14dc5d6-4860-437a-df01-ac7e032bca26"
      },
      "execution_count": null,
      "outputs": [
        {
          "output_type": "stream",
          "name": "stdout",
          "text": [
            "La clave 'edad' existe\n"
          ]
        }
      ]
    },
    {
      "cell_type": "markdown",
      "source": [
        "- Obtener Solo los Valores con values()\n",
        "Descripción:\n",
        "\n",
        "El método values() devuelve una vista de valores del diccionario.\n",
        "Tipo de Retorno: dict_values, una vista que muestra todos los valores asociados a las claves del diccionario."
      ],
      "metadata": {
        "id": "tg_1RV9smBLO"
      }
    },
    {
      "cell_type": "code",
      "source": [
        "diccionario = {'nombre': 'Jose', 'edad': 25, 'país': 'Colombia'}\n",
        "print(diccionario)\n",
        "\n",
        "print(diccionario.values())\n"
      ],
      "metadata": {
        "id": "BQ_GMTRUmsRb",
        "colab": {
          "base_uri": "https://localhost:8080/"
        },
        "outputId": "349acacc-68ff-4d48-c6b2-ce747828d249"
      },
      "execution_count": null,
      "outputs": [
        {
          "output_type": "stream",
          "name": "stdout",
          "text": [
            "{'nombre': 'Jose', 'edad': 25, 'país': 'Colombia'}\n",
            "dict_values(['Jose', 25, 'Colombia'])\n"
          ]
        }
      ]
    },
    {
      "cell_type": "markdown",
      "source": [
        "- Acceso a los Valores:\n",
        "\n"
      ],
      "metadata": {
        "id": "VaE2OI6-n_92"
      }
    },
    {
      "cell_type": "code",
      "source": [
        "diccionario = {'nombre': 'Jose', 'edad': 25, 'país': 'Colombia'}\n",
        "print(diccionario)\n",
        "# Recorrer los valores\n",
        "for valor in diccionario.values():\n",
        "    print(f\"Valor: {valor}\")\n"
      ],
      "metadata": {
        "id": "4sImfvDdoJ2u"
      },
      "execution_count": null,
      "outputs": []
    },
    {
      "cell_type": "markdown",
      "source": [
        "- Obtener Pares Clave-Valor con items()\n",
        "\n",
        "Descripción:\n",
        "El método items() devuelve una vista de elementos como pares clave-valor en forma de tuplas (clave, valor).\n",
        " Tipo de Retorno: dict_items, una vista de tuplas que representa cada par clave-valor."
      ],
      "metadata": {
        "id": "pryVHR3jooL9"
      }
    },
    {
      "cell_type": "code",
      "source": [
        "diccionario = {'nombre': 'Jose', 'edad': 25, 'país': 'Colombia'}\n",
        "print(diccionario)\n",
        "print(diccionario.items())\n",
        "\n"
      ],
      "metadata": {
        "id": "dGYfapYrpNaJ",
        "colab": {
          "base_uri": "https://localhost:8080/"
        },
        "outputId": "44d0ef20-afc6-42a7-f09b-fd5874b00352"
      },
      "execution_count": null,
      "outputs": [
        {
          "output_type": "stream",
          "name": "stdout",
          "text": [
            "{'nombre': 'Jose', 'edad': 25, 'país': 'Colombia'}\n",
            "dict_items([('nombre', 'Jose'), ('edad', 25), ('país', 'Colombia')])\n"
          ]
        }
      ]
    },
    {
      "cell_type": "markdown",
      "source": [
        "- Acceso a los Pares Clave-Valor:"
      ],
      "metadata": {
        "id": "P825-vSfpZex"
      }
    },
    {
      "cell_type": "code",
      "source": [
        "diccionario = {'nombre': 'Jose', 'edad': 25, 'país': 'Colombia'}\n",
        "print(diccionario)\n",
        "# Recorrer el diccionario completo\n",
        "for clave, valor in diccionario.items():\n",
        "    print(f\"Clave: {clave}, Valor: {valor}\")\n"
      ],
      "metadata": {
        "id": "M0MSt7X0qLcp",
        "colab": {
          "base_uri": "https://localhost:8080/"
        },
        "outputId": "51a67faa-a231-4f94-c9d8-c33c656ebed3"
      },
      "execution_count": null,
      "outputs": [
        {
          "output_type": "stream",
          "name": "stdout",
          "text": [
            "{'nombre': 'Jose', 'edad': 25, 'país': 'Colombia'}\n",
            "Clave: nombre, Valor: Jose\n",
            "Clave: edad, Valor: 25\n",
            "Clave: país, Valor: Colombia\n"
          ]
        }
      ]
    },
    {
      "cell_type": "markdown",
      "source": [
        "- Buscar una clave y su valor asociado"
      ],
      "metadata": {
        "id": "pfm-KebFqYJy"
      }
    },
    {
      "cell_type": "code",
      "source": [
        "diccionario = {'nombre': 'Jose', 'edad': 25, 'país': 'Colombia'}\n",
        "\n",
        "if ('nombre', \"Jose\") in diccionario.items():\n",
        "   print(diccionario)\n"
      ],
      "metadata": {
        "id": "dOwaQ6nNqg70",
        "colab": {
          "base_uri": "https://localhost:8080/"
        },
        "outputId": "533d2b77-ba37-4148-b37a-5a1dd863a7fb"
      },
      "execution_count": null,
      "outputs": [
        {
          "output_type": "stream",
          "name": "stdout",
          "text": [
            "{'nombre': 'Jose', 'edad': 25, 'país': 'Colombia'}\n"
          ]
        }
      ]
    },
    {
      "cell_type": "markdown",
      "source": [
        "- Recorrer un Diccionario con un Bucle for\n",
        "\n",
        "Puedes usar for para recorrer claves, valores o ambos:"
      ],
      "metadata": {
        "id": "ZFn746cctFhp"
      }
    },
    {
      "cell_type": "code",
      "source": [
        "diccionario = {'nombre': 'Jose', 'edad': 25, 'país': 'Colombia'}\n",
        "# Recorrer claves\n",
        "for clave in diccionario:\n",
        "    print(f\"Clave: {clave}, Valor: {diccionario[clave]}\")\n",
        "\n",
        "# Recorrer pares clave-valor\n",
        "for clave, valor in diccionario.items():\n",
        "    print(f\"{clave}: {valor}\")\n"
      ],
      "metadata": {
        "id": "MuUrNp3mu4Pv"
      },
      "execution_count": null,
      "outputs": []
    },
    {
      "cell_type": "markdown",
      "source": [
        "- Acceso a Elementos en Diccionarios Anidados\n",
        "\n",
        "Si el diccionario contiene otros diccionarios, se puede acceder a ellos mediante múltiples claves:"
      ],
      "metadata": {
        "id": "dA1St2U7vXAk"
      }
    },
    {
      "cell_type": "code",
      "source": [
        "datos = {\n",
        "    'persona1': {'nombre': 'Luis', 'edad': 20},\n",
        "    'persona2': {'nombre': 'Laura', 'edad': 25},\n",
        "}\n",
        "\n",
        "# Acceder a un valor dentro del diccionario anidado\n",
        "print(datos['persona1']['edad'])\n"
      ],
      "metadata": {
        "id": "0NoWKV6Fvhau",
        "colab": {
          "base_uri": "https://localhost:8080/"
        },
        "outputId": "afad4f38-68e2-4e4d-e636-54b1d5e86ecd"
      },
      "execution_count": null,
      "outputs": [
        {
          "output_type": "stream",
          "name": "stdout",
          "text": [
            "20\n"
          ]
        }
      ]
    },
    {
      "cell_type": "markdown",
      "source": [
        "Métodos Comunes de Diccionarios\n",
        "\n",
        "Métodos Importantes:\n",
        "\n",
        "**Método\t               Descripción**\n",
        "- dict.keys()\t: Devuelve las claves del\n",
        "diccionario\n",
        "- dict.values() : Devuelve los valores del\n",
        "diccionario\n",
        "- dict.items() Devuelve pares clave-valor como\n",
        "tuplas\n",
        "- dict.update(otro)\tActualiza con elementos de\n",
        "otro diccionario\n",
        "dict.copy()\tCrea una copia superficial del\n",
        "            diccionario"
      ],
      "metadata": {
        "id": "9KKrOXeMxNhF"
      }
    },
    {
      "cell_type": "code",
      "source": [
        "diccionario = {'nombre': 'Ana', 'edad': 28, 'profesión': 'Médico'}\n",
        "\n",
        "# Obtener claves, valores y elementos\n",
        "print(diccionario.keys())    # Salida: dict_keys(['nombre', 'edad', 'profesión'])\n",
        "print(diccionario.values())  # Salida: dict_values(['Ana', 28, 'Médico'])\n",
        "print(diccionario.items())   # Salida: dict_items([('nombre', 'Ana'), ('edad', 28), ('profesión', 'Médico')])\n",
        "\n",
        "# Actualizar diccionario\n",
        "diccionario.update({'país': 'Chile', 'edad': 29})\n",
        "print\n"
      ],
      "metadata": {
        "colab": {
          "base_uri": "https://localhost:8080/"
        },
        "id": "ig-yIpmTxwj5",
        "outputId": "f8cd91dd-a7a2-4cdd-87d8-387af049201f"
      },
      "execution_count": null,
      "outputs": [
        {
          "output_type": "stream",
          "name": "stdout",
          "text": [
            "dict_keys(['nombre', 'edad', 'profesión'])\n",
            "dict_values(['Ana', 28, 'Médico'])\n",
            "dict_items([('nombre', 'Ana'), ('edad', 28), ('profesión', 'Médico')])\n",
            "{'nombre': 'Ana', 'edad': 29, 'profesión': 'Médico', 'país': 'Chile'}\n"
          ]
        }
      ]
    },
    {
      "cell_type": "markdown",
      "source": [
        "imprimir una sola clave valor  "
      ],
      "metadata": {
        "id": "i7oT-d0MTEKy"
      }
    },
    {
      "cell_type": "code",
      "source": [
        "# Diccionario con 5 pares clave-valor\n",
        "persona = {\"nombre\": \"Ana\",\"edad\": 30, \"ciudad\": \"Bogotá\", \"profesion\": \"Ingeniera\", \"email\": \"ana@example.com\"}\n",
        "\n",
        "# Imprimir solo la clave \"ciudad\" y su valor\n",
        "print(\"profesion\", persona[\"profesion\"])\n"
      ],
      "metadata": {
        "colab": {
          "base_uri": "https://localhost:8080/"
        },
        "id": "DoGjEpLuTOsP",
        "outputId": "d718eae0-2b27-47e0-f893-3e8a8aaceed0"
      },
      "execution_count": null,
      "outputs": [
        {
          "output_type": "stream",
          "name": "stdout",
          "text": [
            "profesion Ingeniera\n"
          ]
        }
      ]
    },
    {
      "cell_type": "code",
      "source": [],
      "metadata": {
        "id": "EJGV0lu2Ygj-"
      },
      "execution_count": null,
      "outputs": []
    }
  ]
}