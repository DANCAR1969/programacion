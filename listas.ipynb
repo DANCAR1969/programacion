{
  "nbformat": 4,
  "nbformat_minor": 0,
  "metadata": {
    "colab": {
      "provenance": [],
      "authorship_tag": "ABX9TyP7MrdnWHxR6JR5yfNqWRYu",
      "include_colab_link": true
    },
    "kernelspec": {
      "name": "python3",
      "display_name": "Python 3"
    },
    "language_info": {
      "name": "python"
    }
  },
  "cells": [
    {
      "cell_type": "markdown",
      "metadata": {
        "id": "view-in-github",
        "colab_type": "text"
      },
      "source": [
        "<a href=\"https://colab.research.google.com/github/DANCAR1969/programacion/blob/master/listas.ipynb\" target=\"_parent\"><img src=\"https://colab.research.google.com/assets/colab-badge.svg\" alt=\"Open In Colab\"/></a>"
      ]
    },
    {
      "cell_type": "markdown",
      "source": [
        "LISTAS:\n",
        "En Python, una lista es una estructura de datos que se utiliza para almacenar varios elementos en una sola variable. Estos elementos pueden ser de diferentes tipos de datos (números, cadenas de texto, booleanos, e incluso otras listas). Las listas son mutables, lo que significa que puedes cambiar su contenido después de haberlas creado (añadir, eliminar o modificar elementos).\n",
        "\n",
        "Características de las listas en Python:\n",
        "Ordenadas: Los elementos tienen un orden definido que se mantiene cuando añades o eliminas elementos.\n",
        "Indexadas: Puedes acceder a los elementos de la lista utilizando su índice, que empieza desde 0.\n",
        "Dinámicas: Puedes cambiar su tamaño agregando o eliminando elementos.\n",
        "\n",
        "¿Para qué se usan las listas?\n",
        "Las listas en Python se usan cuando necesitas almacenar un conjunto de elementos y realizar operaciones como buscar, modificar, agregar o eliminar elementos. Son útiles en una gran variedad de problemas, como:\n",
        "\n",
        "Almacenar datos temporales (como los resultados de una función).\n",
        "Manejar colecciones de datos (listas de usuarios, productos, etc.).\n",
        "Realizar operaciones repetitivas sobre un conjunto de elementos.\n",
        "Las listas son una de las estructuras de datos más versátiles y poderosas en Python.\n"
      ],
      "metadata": {
        "id": "8-vll4gnE1QG"
      }
    },
    {
      "cell_type": "code",
      "source": [
        "mi_lista = [1,2,3,4,5]\n",
        "print(mi_lista)"
      ],
      "metadata": {
        "id": "wUjHQQN5GcTX",
        "colab": {
          "base_uri": "https://localhost:8080/"
        },
        "outputId": "405cb16e-5e79-43d0-86a2-35c86dc0349c"
      },
      "execution_count": null,
      "outputs": [
        {
          "output_type": "stream",
          "name": "stdout",
          "text": [
            "[1, 2, 3, 4, 5]\n"
          ]
        }
      ]
    },
    {
      "cell_type": "markdown",
      "source": [
        "crear una lista vacia"
      ],
      "metadata": {
        "id": "EqozDBUAG-gb"
      }
    },
    {
      "cell_type": "code",
      "source": [
        "mi_lista = []\n",
        "print(mi_lista)"
      ],
      "metadata": {
        "id": "D8HEdj6THBbK",
        "colab": {
          "base_uri": "https://localhost:8080/"
        },
        "outputId": "cd07dd11-5e85-483a-986a-215ba98a8635"
      },
      "execution_count": null,
      "outputs": [
        {
          "output_type": "stream",
          "name": "stdout",
          "text": [
            "[]\n"
          ]
        }
      ]
    },
    {
      "cell_type": "markdown",
      "source": [
        "Agregar elementos a la lista: Usando el método append(), que añade elementos al final de la lista."
      ],
      "metadata": {
        "id": "c9S2nemUHIJc"
      }
    },
    {
      "cell_type": "code",
      "source": [
        "mi_lista = [1, 2, 3]\n",
        "mi_lista.append(-1)\n",
        "print(mi_lista)"
      ],
      "metadata": {
        "colab": {
          "base_uri": "https://localhost:8080/"
        },
        "id": "gTsfcBciHn80",
        "outputId": "fa7c1a1e-7638-4d97-8e56-05db1b5e3632"
      },
      "execution_count": null,
      "outputs": [
        {
          "output_type": "stream",
          "name": "stdout",
          "text": [
            "[1, 2, 3, -1]\n"
          ]
        }
      ]
    },
    {
      "cell_type": "markdown",
      "source": [
        "Modificar un elemento de la lista: Puedes cambiar el valor de un elemento especificando su índice."
      ],
      "metadata": {
        "id": "v8YsSxKAIwk0"
      }
    },
    {
      "cell_type": "code",
      "source": [
        "mi_lista = [1, 2, 3]\n",
        "mi_lista[0] = 20\n",
        "print(mi_lista)"
      ],
      "metadata": {
        "colab": {
          "base_uri": "https://localhost:8080/"
        },
        "id": "21n1SnyoJCsA",
        "outputId": "cbc24341-8eac-4bb0-dc04-7034fecfd3c1"
      },
      "execution_count": null,
      "outputs": [
        {
          "output_type": "stream",
          "name": "stdout",
          "text": [
            "[20, 2, 3]\n"
          ]
        }
      ]
    },
    {
      "cell_type": "markdown",
      "source": [
        "Eliminar un elemento de la lista: Puedes usar remove() para eliminar un elemento específico o pop() para eliminar por índice."
      ],
      "metadata": {
        "id": "HnLodMbPKse8"
      }
    },
    {
      "cell_type": "code",
      "source": [
        "mi_lista = [1, 2, 3, 4]\n",
        "mi_lista.remove(3)\n",
        "print(mi_lista)\n"
      ],
      "metadata": {
        "colab": {
          "base_uri": "https://localhost:8080/"
        },
        "id": "t-KI1rDlK9o4",
        "outputId": "e3d74e1d-4f7d-474c-c2f8-b2eaf3674788"
      },
      "execution_count": null,
      "outputs": [
        {
          "output_type": "stream",
          "name": "stdout",
          "text": [
            "[1, 2, 4]\n"
          ]
        }
      ]
    },
    {
      "cell_type": "code",
      "source": [
        "mi_lista = [1, 2, 3, 4]\n",
        "mi_lista.pop(1)\n",
        "print(mi_lista)"
      ],
      "metadata": {
        "colab": {
          "base_uri": "https://localhost:8080/"
        },
        "id": "5Wh0necvML_n",
        "outputId": "d30b2b73-6f37-403a-a2c1-74229f0d5937"
      },
      "execution_count": null,
      "outputs": [
        {
          "output_type": "stream",
          "name": "stdout",
          "text": [
            "[1, 3, 4]\n"
          ]
        }
      ]
    },
    {
      "cell_type": "code",
      "source": [
        "lista_colores = [\"rojo\",\"azul\", \"amarillo\", \"blanco\"]\n",
        "lista_colores.remove(\"azul\")\n",
        "print(lista_colores)"
      ],
      "metadata": {
        "colab": {
          "base_uri": "https://localhost:8080/"
        },
        "id": "Fsebx1liML3_",
        "outputId": "3617e92a-64bf-4fbf-a618-ff087ca35a56"
      },
      "execution_count": null,
      "outputs": [
        {
          "output_type": "stream",
          "name": "stdout",
          "text": [
            "['rojo', 'amarillo', 'blanco']\n"
          ]
        }
      ]
    },
    {
      "cell_type": "code",
      "source": [
        "lista_frutas = [\"manzana\", \"banana\", \"naranja\", \"uva\", \"manzana\"]\n",
        "lista_frutas.pop(2)\n",
        "print(\"Lista después de eliminar:\", lista_frutas)"
      ],
      "metadata": {
        "colab": {
          "base_uri": "https://localhost:8080/"
        },
        "id": "gpY3bIDEPUB7",
        "outputId": "17ffe1aa-1ed6-4bf6-d509-a8b7b24e2a52"
      },
      "execution_count": null,
      "outputs": [
        {
          "output_type": "stream",
          "name": "stdout",
          "text": [
            "Lista después de eliminar: ['manzana', 'banana', 'uva', 'manzana']\n"
          ]
        }
      ]
    },
    {
      "cell_type": "markdown",
      "source": [
        "Recorrer una lista: Puedes usar un bucle for para iterar sobre los elementos de una lista.El código siguiente imprimirá cada elemento en una nueva línea:"
      ],
      "metadata": {
        "id": "FDVsDan0QmNi"
      }
    },
    {
      "cell_type": "code",
      "source": [
        "mi_lista = [1, 2, 3]\n",
        "print(mi_lista)\n",
        "for elemento in mi_lista:\n",
        "    print(elemento)"
      ],
      "metadata": {
        "id": "PH8Y7TlbQr9o"
      },
      "execution_count": null,
      "outputs": []
    },
    {
      "cell_type": "markdown",
      "source": [
        "Comprobar si un elemento está en la lista: Puedes usar el operador in para verificar si un elemento está presente en la lista."
      ],
      "metadata": {
        "id": "GpefO34gS6bg"
      }
    },
    {
      "cell_type": "code",
      "source": [
        "mi_lista = [1, 2, \"azul\", 4.6]\n",
        "print(2 in mi_lista)\n",
        "print(\"azul\" in mi_lista)\n",
        "print(5 in mi_lista)"
      ],
      "metadata": {
        "colab": {
          "base_uri": "https://localhost:8080/"
        },
        "id": "lQs0IxssTCzA",
        "outputId": "e12f3ea6-37ad-4752-9641-b41bf3e81ea7"
      },
      "execution_count": null,
      "outputs": [
        {
          "output_type": "stream",
          "name": "stdout",
          "text": [
            "True\n",
            "True\n",
            "False\n"
          ]
        }
      ]
    },
    {
      "cell_type": "markdown",
      "source": [
        "En Python, una tupla es una estructura de datos muy similar a una lista, pero con una diferencia clave: las tuplas son inmutables, lo que significa que, una vez que se han creado, no puedes modificar, agregar ni eliminar sus elementos.\n",
        "\n",
        "Características de las tuplas en Python:\n",
        "Inmutables: No puedes cambiar su contenido después de haberlas creado. Esto las hace útiles para almacenar datos que no deben cambiar, como coordenadas geográficas o valores constantes.\n",
        "Indexadas: Al igual que las listas, los elementos de una tupla se pueden acceder utilizando índices, y los índices empiezan desde 0.\n",
        "Heterogéneas: Pueden contener diferentes tipos de datos (números, cadenas, listas, etc.).\n",
        "Ordenadas: Mantienen el orden en que los elementos fueron añadidos."
      ],
      "metadata": {
        "id": "ZRNBzD5ScZO4"
      }
    },
    {
      "cell_type": "markdown",
      "source": [
        "sintaxis de la Tupla"
      ],
      "metadata": {
        "id": "-nAF6axHcjr0"
      }
    },
    {
      "cell_type": "code",
      "source": [
        "mi_tupla = (1, 2, 3)\n",
        "cordenadas_geograficas = (40.7128, -74.0060)\n",
        "mi_TUPLA = 1, 2, 3\n",
        "print(mi_tupla)\n",
        "print(mi_TUPLA)"
      ],
      "metadata": {
        "colab": {
          "base_uri": "https://localhost:8080/"
        },
        "id": "xiTVyGXycqFN",
        "outputId": "1871ba15-5667-478b-83e3-9e7da0613d2a"
      },
      "execution_count": null,
      "outputs": [
        {
          "output_type": "stream",
          "name": "stdout",
          "text": [
            "(1, 2, 3)\n",
            "(1, 2, 3)\n"
          ]
        }
      ]
    },
    {
      "cell_type": "markdown",
      "source": [
        "crear una tupla vacia"
      ],
      "metadata": {
        "id": "_LQPu_sdfX10"
      }
    },
    {
      "cell_type": "code",
      "source": [
        "\n",
        "# Inicializar una tupla vacía\n",
        "mi_tupla = ()\n",
        "\n",
        "# Simular alguna condición para añadir datos\n",
        "if 5 > 3:\n",
        "    mi_tupla = (10, 20, 30)\n",
        "\n",
        "print(mi_tupla)  # Resultado: (10, 20, 30)\n",
        "\n"
      ],
      "metadata": {
        "colab": {
          "base_uri": "https://localhost:8080/"
        },
        "id": "GPeATHeWflsP",
        "outputId": "c619ad9d-7615-4264-d40a-091d0cf61844"
      },
      "execution_count": null,
      "outputs": [
        {
          "output_type": "stream",
          "name": "stdout",
          "text": [
            "(10, 20, 30)\n"
          ]
        }
      ]
    }
  ]
}