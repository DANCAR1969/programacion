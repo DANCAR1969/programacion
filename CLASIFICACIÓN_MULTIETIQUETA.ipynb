{
  "nbformat": 4,
  "nbformat_minor": 0,
  "metadata": {
    "colab": {
      "provenance": [],
      "authorship_tag": "ABX9TyOVvdMQK3mOQgkKHMeRl5CJ",
      "include_colab_link": true
    },
    "kernelspec": {
      "name": "python3",
      "display_name": "Python 3"
    },
    "language_info": {
      "name": "python"
    }
  },
  "cells": [
    {
      "cell_type": "markdown",
      "metadata": {
        "id": "view-in-github",
        "colab_type": "text"
      },
      "source": [
        "<a href=\"https://colab.research.google.com/github/DANCAR1969/programacion/blob/master/CLASIFICACI%C3%93N_MULTIETIQUETA.ipynb\" target=\"_parent\"><img src=\"https://colab.research.google.com/assets/colab-badge.svg\" alt=\"Open In Colab\"/></a>"
      ]
    },
    {
      "cell_type": "markdown",
      "source": [
        "**MODELO DE CALSIFICACION MULTIETIQUETA**"
      ],
      "metadata": {
        "id": "dqCe0QPYQsyQ"
      }
    },
    {
      "cell_type": "markdown",
      "source": [
        "Cada muestra puede pertenecer a más de una clase a la vez. Por ejemplo, una película puede ser \"comedia\", \"acción\" y \"familiar\" al mismo tiempo."
      ],
      "metadata": {
        "id": "38NMSfDLQ1G7"
      }
    },
    {
      "cell_type": "code",
      "source": [
        "# Clasificación multietiqueta usando MultiOutputClassifier\n",
        "\n",
        "from sklearn.datasets import make_multilabel_classification\n",
        "from sklearn.multioutput import MultiOutputClassifier\n",
        "from sklearn.ensemble import RandomForestClassifier\n",
        "# Import the train_test_split function\n",
        "from sklearn.model_selection import train_test_split\n",
        "from sklearn.metrics import classification_report\n",
        "\n",
        "# Crear datos sintéticos multietiqueta\n",
        "X, y = make_multilabel_classification(n_samples=1000, n_features=20, n_classes=3, n_labels=2)\n",
        "\n",
        "# Dividir\n",
        "X_train, X_test, y_train, y_test = train_test_split(X, y, test_size=0.3)\n",
        "\n",
        "# Clasificador multietiqueta\n",
        "forest = RandomForestClassifier()\n",
        "multi_target_clf = MultiOutputClassifier(forest)\n",
        "multi_target_clf.fit(X_train, y_train)\n",
        "\n",
        "# Evaluación\n",
        "y_pred = multi_target_clf.predict(X_test)\n",
        "print(\"Predicción multietiqueta completada\")\n",
        "\n",
        "# Muestro la precisión, recall y F1-score para cada etiqueta.\n",
        "print(classification_report(y_test, y_pred, zero_division=1))\n"
      ],
      "metadata": {
        "colab": {
          "base_uri": "https://localhost:8080/"
        },
        "id": "W3FDWTlDRcP3",
        "outputId": "ddf53a01-96b1-4bc5-c554-ccfaf86a2c1d"
      },
      "execution_count": null,
      "outputs": [
        {
          "output_type": "stream",
          "name": "stdout",
          "text": [
            "Predicción multietiqueta completada\n",
            "              precision    recall  f1-score   support\n",
            "\n",
            "           0       0.84      0.94      0.88       184\n",
            "           1       0.86      0.84      0.85       161\n",
            "           2       0.82      0.70      0.75       140\n",
            "\n",
            "   micro avg       0.84      0.84      0.84       485\n",
            "   macro avg       0.84      0.83      0.83       485\n",
            "weighted avg       0.84      0.84      0.84       485\n",
            " samples avg       0.86      0.90      0.81       485\n",
            "\n"
          ]
        }
      ]
    }
  ]
}