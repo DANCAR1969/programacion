{
  "nbformat": 4,
  "nbformat_minor": 0,
  "metadata": {
    "colab": {
      "provenance": [],
      "authorship_tag": "ABX9TyOE0JDK3LqKcJ/jvORy1kvD",
      "include_colab_link": true
    },
    "kernelspec": {
      "name": "python3",
      "display_name": "Python 3"
    },
    "language_info": {
      "name": "python"
    }
  },
  "cells": [
    {
      "cell_type": "markdown",
      "metadata": {
        "id": "view-in-github",
        "colab_type": "text"
      },
      "source": [
        "<a href=\"https://colab.research.google.com/github/DANCAR1969/programacion/blob/master/EstadisticaDA2.ipynb\" target=\"_parent\"><img src=\"https://colab.research.google.com/assets/colab-badge.svg\" alt=\"Open In Colab\"/></a>"
      ]
    },
    {
      "cell_type": "markdown",
      "source": [
        "Aplicaciones Estadísticas en Análisis de Datos\n",
        "\n",
        "En el análisis de datos, las técnicas estadísticas permiten obtener conclusiones válidas a partir de datos recopilados. A continuación se presentan ejemplos detallados que se pueden implementar en Spyder-Anaconda utilizando Python.\n",
        "\n",
        "1. Inferencia Estadística (Pruebas de Hipótesis y Análisis de Varianza)\n",
        "\n",
        "La Inferencia Estadística utiliza muestras para hacer conclusiones sobre una población. Pruebas de Hipótesis evalúan afirmaciones mediante estadísticas, mientras que el Análisis de Varianza (ANOVA) compara medias de múltiples grupos para determinar diferencias significativas, ayudando en la toma de decisiones basadas en datos.\n",
        "\n",
        "Pruebas de Hipótesis\n",
        "\n",
        "Ejemplo: Prueba t de muestras independientes para comparar dos medias."
      ],
      "metadata": {
        "id": "D2RmwQ187psT"
      }
    },
    {
      "cell_type": "code",
      "execution_count": null,
      "metadata": {
        "id": "Q8gyPTFJ88Fn"
      },
      "outputs": [],
      "source": [
        "import scipy.stats as stats\n",
        "import numpy as np\n",
        "\n",
        "# Datos ficticios\n",
        "grupo1 = np.random.normal(70, 10, 30)\n",
        "grupo2 = np.random.normal(75, 10, 30)\n",
        "\n",
        "# Prueba t\n",
        "stat, p_value = stats.ttest_ind(grupo1, grupo2)\n",
        "print(f'Estadístico t: {stat}, Valor p: {p_value}')"
      ]
    },
    {
      "cell_type": "markdown",
      "source": [
        "1. Importación de Bibliotecas\n",
        "\n",
        "import scipy.stats as stats\n",
        "scipy.stats: Módulo que contiene funciones estadísticas, como la prueba t.\n",
        "\n",
        "import numpy as np\n",
        "numpy: Biblioteca para manejar arreglos y generar datos aleatorios.\n",
        "\n",
        "2. Generación de Datos Ficticios\n",
        "\n",
        "grupo1 = np.random.normal(70, 10, 30)\n",
        "grupo2 = np.random.normal(75, 10, 30)\n",
        "Se generan dos muestras de datos usando la función np.random.normal(), que crea valores distribuidos normalmente (campana de Gauss).\n",
        "\n",
        "Parámetros de np.random.normal():\n",
        "Media (loc): 70 para grupo1, 75 para grupo2 (centro de la distribución).\n",
        "\n",
        "Desviación estándar (scale): 10 (dispersión de los valores).\n",
        "\n",
        "Tamaño de la muestra (size): 30 datos para cada grupo.\n",
        "\n",
        "Esto simula dos conjuntos de datos con características ligeramente diferentes.\n",
        "\n",
        "3. Realización de la Prueba t\n",
        "stat, p_value = stats.ttest_ind(grupo1, grupo2)\n",
        "La función ttest_ind() realiza una prueba t para comparar las medias de dos muestras independientes.\n",
        "\n",
        "Salidas:\n",
        "Desglose de la impresion:\n",
        "f\": Indica el uso de una f-string, que permite insertar variables dentro de una cadena de texto.\n",
        "stat (Estadístico t): Mide la diferencia relativa entre las medias en términos de desviaciones estándar. Cuanto mayor sea su valor absoluto, mayor será la diferencia entre los grupos.\n",
        "\n",
        "p_value (Valor p): Indica la probabilidad de obtener una diferencia tan extrema como la observada, bajo la hipótesis nula (H0: las medias son iguales). Si el valor p es pequeño (usualmente menor que 0.05), se rechaza la hipótesis nula.\n",
        "\n",
        "4. Presentación de Resultados\n",
        "\n",
        "print(f'Estadístico t: {stat}, Valor p: {p_value}')\n",
        "Se imprimen los resultados del estadístico t y el valor p. Dependiendo del valor p, se puede interpretar si hay una diferencia estadísticamente significativa entre los grupos.\n",
        "\n",
        "Interpretación de Resultados\n",
        "Si p_value < 0.05: Rechazamos la hipótesis nula. Las medias de grupo1 y grupo2 son significativamente diferentes.\n",
        "Si p_value >= 0.05: No hay evidencia suficiente para rechazar la hipótesis nula. Las medias no son significativamente diferentes.\n"
      ],
      "metadata": {
        "id": "3Pzpl6SC7nYS"
      }
    },
    {
      "cell_type": "markdown",
      "source": [],
      "metadata": {
        "id": "QqV8_oPjDYzE"
      }
    },
    {
      "cell_type": "code",
      "source": [
        "from scipy.stats import f_oneway\n",
        "\n",
        "# Tres grupos de datos ficticios\n",
        "grupo_a = np.random.normal(50, 5, 30)\n",
        "grupo_b = np.random.normal(55, 5, 30)\n",
        "grupo_c = np.random.normal(60, 5, 30)\n",
        "\n",
        "# ANOVA\n",
        "f_stat, p_value = f_oneway(grupo_a, grupo_b, grupo_c)\n",
        "print(f'Estadístico F: {f_stat}, Valor p: {p_value}')"
      ],
      "metadata": {
        "id": "r8q5xw3f9RYY"
      },
      "execution_count": null,
      "outputs": []
    }
  ]
}