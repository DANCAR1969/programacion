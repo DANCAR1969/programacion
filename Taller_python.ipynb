{
  "nbformat": 4,
  "nbformat_minor": 0,
  "metadata": {
    "colab": {
      "provenance": [],
      "include_colab_link": true
    },
    "kernelspec": {
      "name": "python3",
      "display_name": "Python 3"
    },
    "language_info": {
      "name": "python"
    }
  },
  "cells": [
    {
      "cell_type": "markdown",
      "metadata": {
        "id": "view-in-github",
        "colab_type": "text"
      },
      "source": [
        "<a href=\"https://colab.research.google.com/github/DANCAR1969/programacion/blob/master/Taller_python.ipynb\" target=\"_parent\"><img src=\"https://colab.research.google.com/assets/colab-badge.svg\" alt=\"Open In Colab\"/></a>"
      ]
    },
    {
      "cell_type": "markdown",
      "source": [
        "**Reto 1**. Crear un código ue imprima las cuatro principales clases de variables"
      ],
      "metadata": {
        "id": "azYElOg5ggTY"
      }
    },
    {
      "cell_type": "code",
      "source": [
        "print (\"Estas son los cuatro tipos de variables mas importantes: La variable str es  una variable tipo texto, ABC...etc\", type(\"ABC\") , \"; La variable int, comprende a los numeros enteros 1,2,3...etc\" , type(1) , \"; La variable float (flotante) comprende los numeros decimales, ejemplo: 1.23\" , type(1.23) , \"y la variable boleana  solo comprende los valores verdadero o falso\" , type(False) )\n",
        "\n",
        "\n",
        "\n",
        "\n"
      ],
      "metadata": {
        "id": "QZ51R6nEg0sN"
      },
      "execution_count": null,
      "outputs": []
    },
    {
      "cell_type": "markdown",
      "source": [
        "**Reto 2** Tomar un párrafo, buscar la palabra que más se repita y reemplazarla por otra pero que el texto mantenga sentido.\n",
        "Imprimir la longitud de la cadena y la longitud de la palabra más larga.\n"
      ],
      "metadata": {
        "id": "tEwL1rDFUFxz"
      }
    },
    {
      "cell_type": "markdown",
      "source": [
        "Se plantea la solución al mismo ejercicio desde dos códigos diferentes:"
      ],
      "metadata": {
        "id": "Odb1xOEyZtYw"
      }
    },
    {
      "cell_type": "code",
      "source": [
        "from os import replace\n",
        "from typing import Counter\n",
        "\n",
        "texto = \"la inteligencia artificial IA está transformando rápidamente todos los aspectos de nuestra vida cotidiana. la IA, en particular, está revolucionando la forma en que interactuamos con tecnología.\"\n",
        "\n",
        "print(\"la logitud del texto es:\", len(texto))\n",
        "\n",
        "# Convertir el texto en una lista de palabras\n",
        "palabras = texto.lower().split()\n",
        "\n",
        "# Contar las palabras\n",
        "conteo = Counter(palabras)\n",
        "\n",
        "# Encontrar la palabra más repetida\n",
        "PalabraMasRepetida, frecuencia = conteo.most_common(1)[0]\n",
        "texto_modificado = texto.replace(PalabraMasRepetida, \"intelecto\")\n",
        "print(f\"La palabra más repetida es '{PalabraMasRepetida}' con {frecuencia} apariciones.\")\n",
        "print(\"La palabra\",  PalabraMasRepetida, \"se reemplazó por'con'\")\n",
        "\n",
        "# Reemplazar una palabra\n",
        "nuevo_texto = texto.replace(\"la\", \"con\")\n",
        "print(\"\\ntexto modificado:\\n\")\n",
        "print(nuevo_texto)"
      ],
      "metadata": {
        "id": "dew-vTvcZjuM"
      },
      "execution_count": null,
      "outputs": []
    },
    {
      "cell_type": "code",
      "source": [
        "import re # esta es la biblioteca de expresiones regulares en phyton\n",
        "from collections import Counter\n",
        "parrafo = (\"La inteligencia artificial avanza rápidamente en áreas como la generación de contenido, la automatización y la salud, mejorando la productividad y acelerando procesos clave. Modelos como ChatGPT y DALL·E están revolucionando la creatividad, mientras que herramientas como Copilot optimizan el trabajo profesional. Sin embargo, estos avances plantean desafíos éticos y regulatorios, ya que el uso indebido de la IA puede generar sesgos y desinformación. Además, la interacción con estos sistemas es cada vez más natural y precisa, lo que facilita su integración en la vida cotidiana. A medida que la IA sigue evolucionando, es crucial abordar sus riesgos con responsabilidad.\")\n",
        "# se normaliza el texto eliminando la puntuación y pasandolo a minusculas\n",
        "palabras = re.findall(r'\\b\\w+\\b', parrafo.lower()) # para extraer solo las palabras, ignora signos y con lower lo pasamos a minusculas\n",
        "conteo = Counter(palabras)\n",
        "palabra_comun = conteo.most_common(1)[0]\n",
        "palabra_mas_larga = max(palabras, key=len)\n",
        "print (\"La palabra más comun es\" , palabra_comun)\n",
        "print (\"La palabra más larga es:\", palabra_mas_larga)\n",
        "print (\"La cantidad de palabras que tiene el párrafo es de\" , len(parrafo) , \"palabras\")\n",
        "nuevo_parrafo = parrafo.replace(\"inteligencia artificial\", \"IA\")\n",
        "print (\"El párrafo nuevo quedaría así:\" , nuevo_parrafo)"
      ],
      "metadata": {
        "id": "ARNJAVzqUMUn"
      },
      "execution_count": null,
      "outputs": []
    },
    {
      "cell_type": "markdown",
      "source": [
        "**Reto 3** Calcular el día de la semana, dando inicio en lunes y que el usaurio ingrese el día a saber con un input"
      ],
      "metadata": {
        "id": "MPrttDFLYxJZ"
      }
    },
    {
      "cell_type": "code",
      "source": [
        "def dia_correspondiente(numero): # esta función devuelve el día correspondiente a un numero del 1 al que le pongamos\n",
        "  dias = [\"Lunes\", \"Martes\", \"Miercoles\", \"Jueves\", \"Viernes\", \"Sabado\", \"Domingo\"] # creamos una lista con los días de la semana\n",
        "  if 1 <= numero <= 31: #este es el condicional\n",
        "    indice = (numero - 1) % 7 # permite que los dias se repitan en ciclos de 7\n",
        "    return dias[indice]\n",
        "  else:\n",
        "    return \"numero no valido\"\n",
        "numero = int(input(\"Ingrese un numero del 1 al 31: \")) # creamos el input y que lo tome como un entero\n",
        "dia = dia_correspondiente(numero)\n",
        "print(dia_correspondiente(numero))\n"
      ],
      "metadata": {
        "id": "Mc_DsLhvY_8j"
      },
      "execution_count": null,
      "outputs": []
    },
    {
      "cell_type": "markdown",
      "source": [
        "**Reto 4**. con Titanic,  teniendo como imput la clase y el nombre, debe dar una salida que diga pasajero de que clase social es. Si no aparece en la lista, debe imprimir un warning.\n"
      ],
      "metadata": {
        "id": "E2jr2LMGotpq"
      }
    },
    {
      "cell_type": "code",
      "source": [
        "import pandas as pd\n",
        "import numpy as np\n",
        "import matplotlib.pyplot as plt\n",
        "#LECTURA DE DATOS\n",
        "train=pd.read_csv('train.csv')\n",
        "\n",
        "\n",
        "reto4= train['Name']\n",
        "\n",
        "nombre= input('Escriba un nombre para buscar en BBDD Titanic: ')\n",
        "\n",
        "\n",
        "resultado = reto4[reto4.str.contains(nombre, case=False, na=False)]\n",
        "\n",
        "if resultado.empty:\n",
        "    print('El nombre no está en la BBDD Titanic')\n",
        "else:\n",
        "  print('El Pasajero '+ resultado + ' se encontraba en el titanic' )"
      ],
      "metadata": {
        "id": "R5eO8MkOh-fg"
      },
      "execution_count": null,
      "outputs": []
    }
  ]
}