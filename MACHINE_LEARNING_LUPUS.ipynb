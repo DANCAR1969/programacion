{
  "nbformat": 4,
  "nbformat_minor": 0,
  "metadata": {
    "colab": {
      "provenance": [],
      "include_colab_link": true
    },
    "kernelspec": {
      "name": "python3",
      "display_name": "Python 3"
    },
    "language_info": {
      "name": "python"
    }
  },
  "cells": [
    {
      "cell_type": "markdown",
      "metadata": {
        "id": "view-in-github",
        "colab_type": "text"
      },
      "source": [
        "<a href=\"https://colab.research.google.com/github/DANCAR1969/programacion/blob/master/MACHINE_LEARNING_LUPUS.ipynb\" target=\"_parent\"><img src=\"https://colab.research.google.com/assets/colab-badge.svg\" alt=\"Open In Colab\"/></a>"
      ]
    },
    {
      "cell_type": "markdown",
      "source": [
        " 1. Definición del Problema\n",
        "Objetivo: Clasificar si los síntomas corresponden a un estado activo, inactivo o no relacionado con Lupus.\n",
        "\n",
        "Tipo de problema: Clasificación multiclase supervisada.\n",
        "\n",
        "Público objetivo: Profesionales de salud y sistemas de apoyo clínico.\n",
        "\n",
        "\n",
        "📦 2. Recolección y Preparación del Dataset\n",
        "Recopilar datos clínicos (síntomas, análisis de orina, presión, etc.).\n",
        "\n",
        "Usar fuentes como historias clínicas electrónicas o datasets simulados (como el que ya generamos).\n",
        "\n",
        "Validar la calidad y consistencia de los datos.\n",
        "\n",
        "\n",
        "🧹 3. Limpieza y Preprocesamiento\n",
        "Eliminar o imputar valores nulos.\n",
        "\n",
        "Convertir variables categóricas (como “Sí/No”) a variables numéricas (ej. con One-Hot o Label Encoding).\n",
        "\n",
        "Escalar variables numéricas si es necesario (ej. presión, edad).\n",
        "\n",
        "Balancear clases si hay desbalance (usando técnicas como SMOTE o submuestreo).\n",
        "\n",
        "\n",
        "📊 4. Exploración y Análisis de Datos (EDA)\n",
        "Visualizar la distribución de los síntomas.\n",
        "\n",
        "Analizar correlaciones entre síntomas y diagnóstico.\n",
        "\n",
        "Identificar patrones clínicos útiles para el modelo.\n",
        "\n",
        "\n",
        "🧠 5. Selección del Modelo\n",
        "Seleccionar modelos de clasificación como:\n",
        "\n",
        "Random Forest (por su interpretabilidad y robustez).\n",
        "\n",
        "XGBoost o LightGBM (si se busca mayor rendimiento).\n",
        "\n",
        "Redes Neuronales simples si hay suficiente volumen de datos.\n",
        "\n",
        "Dividir los datos en entrenamiento (70-80%) y prueba (20-30%).\n",
        "\n",
        "\n",
        "🔧 6. Entrenamiento del Modelo\n",
        "Entrenar el modelo con los datos etiquetados (síntomas → diagnóstico).\n",
        "\n",
        "Realizar validación cruzada (k-fold) para mayor robustez.\n",
        "\n",
        "\n",
        "🧪 7. Evaluación del Modelo\n",
        "Métricas clave:\n",
        "\n",
        "Precisión, Recall y F1-score por clase.\n",
        "\n",
        "Matriz de confusión.\n",
        "\n",
        "Validar qué tan bien predice el modelo casos activos e inactivos.\n",
        "\n",
        "\n",
        "🩺 8. Interpretabilidad y Validación Clínica\n",
        "Usar SHAP o LIME para explicar qué síntomas influyen más en las predicciones.\n",
        "\n",
        "Validar el modelo con expertos médicos antes de ponerlo en uso clínico.\n",
        "\n",
        "\n",
        "🚀 9. Implementación\n",
        "Integrar el modelo en una interfaz clínica o web.\n",
        "\n",
        "Permitir que médicos ingresen síntomas y reciban una predicción con explicación.\n",
        "\n",
        "\n",
        "📈 10. Monitoreo y Actualización Continua\n",
        "Monitorear el rendimiento en tiempo real.\n",
        "\n",
        "Retrain o actualizar el modelo con nuevos datos clínicos cada cierto tiempo."
      ],
      "metadata": {
        "id": "qAAKKHrnDq-k"
      }
    },
    {
      "cell_type": "markdown",
      "source": [
        "Seguimiento de Lupus: Clasificación con Random Forest\n",
        "En este apartado se desarrolla un script en Python (compatible con Google Colab) para analizar un conjunto de datos de pacientes con Lupus.\n",
        "\n",
        " El objetivo es preprocesar un dataset de síntomas, entrenar un modelo de clasificación Random Forest\n",
        "cienciadedatos.net\n",
        " que prediga el estado del lupus (Activo, Inactivo o No Lupus), evaluar su rendimiento (precisión, recall, F1, etc.)\n",
        "datasource.ai\n",
        "datasource.ai\n",
        ", y generar visualizaciones descriptivas. A continuación se detallan los pasos:\n",
        "Carga del conjunto de datos\n",
        "Primero cargamos el archivo CSV proporcionado usando pandas. Este dataset contiene 500 registros de pacientes con diversas características clínicas (fiebre, dolor articular, fatiga en niveles Baja/Media/Alta, erupciones cutáneas, pérdida de cabello, fotosensibilidad, úlceras, dolor torácico, presión arterial Baja/Normal/Alta, proteínas en orina Baja/Normal/Alta) y la etiqueta de Diagnóstico (Activo, Inactivo, No_Lupus). También se importa el resto de librerías necesarias para análisis y visualización."
      ],
      "metadata": {
        "id": "aXwDfUdCIY5d"
      }
    },
    {
      "cell_type": "code",
      "source": [
        "# Importar las librerías necesarias\n",
        "import pandas as pd\n",
        "import numpy as np\n",
        "\n",
        "# Para dividir datos y entrenar el modelo\n",
        "from sklearn.preprocessing import LabelEncoder\n",
        "from sklearn.model_selection import train_test_split\n",
        "from sklearn.ensemble import RandomForestClassifier\n",
        "from sklearn.metrics import classification_report, confusion_matrix, accuracy_score\n",
        "\n",
        "# Para visualizaciones\n",
        "import seaborn as sns\n",
        "import matplotlib.pyplot as plt\n",
        "\n",
        "# Cargar el dataset desde el archivo CSV\n",
        "df = pd.read_csv('985a4a56-4c79-48ba-bb76-b1563297ed74.csv')\n",
        "\n",
        "# Copiar el DataFrame original para ciertas visualizaciones categóricas\n",
        "df_orig = df.copy()\n",
        "\n",
        "# Inspeccionar las primeras filas para ver la estructura (opcional)\n",
        "print(df.head(5))\n",
        "\n",
        "# Eliminar la columna de ID, que no es útil para el modelo\n",
        "df.drop('ID_Paciente', axis=1, inplace=True)\n",
        "\n",
        "# Verificar valores nulos (si existieran)\n",
        "print(\"Valores nulos por columna:\\n\", df.isnull().sum())\n",
        "\n",
        "# Definir columnas binarias (Sí/No) y mapear a 1/0\n",
        "binary_cols = ['Fiebre', 'Dolor_Articular', 'Erupción_Cutánea',\n",
        "               'Pérdida_Cabello', 'Fotosensibilidad',\n",
        "               'Úlceras_Bucales', 'Dolor_Torácico']\n",
        "for col in binary_cols:\n",
        "    df[col] = df[col].map({'Sí': 1, 'No': 0})\n",
        "\n",
        "# Mapear columnas ordinales a valores numéricos\n",
        "orden_map = {'Baja': 0, 'Media': 1, 'Alta': 2}\n",
        "df['Fatiga'] = df['Fatiga'].map(orden_map)\n",
        "df['Presión_Arterial'] = df['Presión_Arterial'].map(orden_map)\n",
        "df['Proteínas_Urina'] = df['Proteínas_Urina'].map(orden_map)\n",
        "\n",
        "# Codificar la variable objetivo 'Diagnóstico' a valores numéricos\n",
        "le = LabelEncoder()\n",
        "y = le.fit_transform(df['Diagnóstico'])   # y será un array de 0,1,2\n",
        "X = df.drop('Diagnóstico', axis=1)        # X contiene las características numéricas\n",
        "\n",
        "# Comprobar las clases del diagnóstico y la transformación\n",
        "print(\"Clases del diagnóstico:\", le.classes_)\n",
        "print(\"Ejemplo de codificación de Diagnóstico:\", df['Diagnóstico'].unique()[:3], \"->\", y[:3])\n",
        "\n",
        "# Dividir los datos en entrenamiento y prueba (80% train, 20% test), estratificando por la clase\n",
        "X_train, X_test, y_train, y_test = train_test_split(\n",
        "    X, y, test_size=0.2, random_state=42, stratify=y\n",
        ")\n",
        "\n",
        "# Verificar tamaño de cada conjunto\n",
        "print(\"Tamaño de entrenamiento:\", X_train.shape[0], \"instancias\")\n",
        "print(\"Tamaño de prueba:\", X_test.shape[0], \"instancias\")\n",
        "print(\"Distribución de clases en y_train:\", np.bincount(y_train))\n",
        "print(\"Distribución de clases en y_test:\", np.bincount(y_test))\n",
        "\n",
        "# Crear y entrenar el modelo Random Forest\n",
        "model = RandomForestClassifier(n_estimators=100, random_state=42)\n",
        "model.fit(X_train, y_train)\n",
        "\n",
        "# Opcional: imprimir importancia de características\n",
        "importances = model.feature_importances_\n",
        "feature_names = X.columns\n",
        "for name, imp in sorted(zip(feature_names, importances), key=lambda x: x[1], reverse=True):\n",
        "    print(f\"{name}: {imp:.4f}\")\n",
        "\n",
        "    # Realizar predicciones sobre el conjunto de prueba\n",
        "y_pred = model.predict(X_test)\n",
        "\n",
        "# Evaluar métricas de rendimiento\n",
        "print(\"Exactitud (accuracy) en datos de prueba:\", accuracy_score(y_test, y_pred))\n",
        "\n",
        "# Imprimir reporte de clasificación (precisión, recall, F1 por clase)\n",
        "print(\"Reporte de clasificación:\\n\", classification_report(y_test, y_pred, target_names=le.classes_))\n",
        "\n",
        "# Calcular y mostrar la matriz de confusión\n",
        "cm = confusion_matrix(y_test, y_pred)\n",
        "print(\"Matriz de confusión:\\n\", cm)\n",
        "\n",
        "# Grafico de barras de la distribución de Diagnósticos\n",
        "plt.figure(figsize=(6,4))\n",
        "sns.countplot(x='Diagnóstico', data=df_orig, order=['No_Lupus','Inactivo','Activo'], palette='Set2')\n",
        "plt.title('Distribución de Diagnósticos')\n",
        "plt.xlabel('Diagnóstico')\n",
        "plt.ylabel('Número de pacientes')\n",
        "plt.show()\n",
        "\n",
        "# Matriz de correlación entre las variables predictoras\n",
        "plt.figure(figsize=(8,6))\n",
        "corr_matrix = X.corr()  # calcular matriz de correlación de X (características numéricas)\n",
        "sns.heatmap(corr_matrix, annot=True, fmt=\".2f\", cmap='coolwarm',\n",
        "            xticklabels=X.columns, yticklabels=X.columns)\n",
        "plt.title('Matriz de correlación entre características')\n",
        "plt.xticks(rotation=45)\n",
        "plt.yticks(rotation=0)\n",
        "plt.show()\n",
        "\n",
        "# Importancia de las variables según el modelo Random Forest\n",
        "importances = model.feature_importances_\n",
        "features = X.columns\n",
        "# Ordenar por importancia descendente\n",
        "indices_ord = np.argsort(importances)[::-1]\n",
        "plt.figure(figsize=(6,4))\n",
        "sns.barplot(x=importances[indices_ord], y=features[indices_ord], palette=\"viridis\")\n",
        "plt.title('Importancia de variables del Random Forest')\n",
        "plt.xlabel('Importancia (score)')\n",
        "plt.ylabel('Característica')\n",
        "plt.show()\n",
        "\n",
        "# Matriz de confusión visualizada con heatmap\n",
        "cm = confusion_matrix(y_test, y_pred)\n",
        "plt.figure(figsize=(4,4))\n",
        "sns.heatmap(cm, annot=True, cmap='Blues', fmt='d',\n",
        "            xticklabels=le.classes_, yticklabels=le.classes_)\n",
        "plt.title('Matriz de confusión')\n",
        "plt.xlabel('Predicción')\n",
        "plt.ylabel('Verdadero')\n",
        "plt.show()\n",
        "\n",
        "# Relación entre nivel de fatiga y diagnóstico (gráfico de barras agrupadas)\n",
        "plt.figure(figsize=(6,4))\n",
        "sns.countplot(x='Diagnóstico', hue='Fatiga', data=df_orig,\n",
        "              order=['No_Lupus','Inactivo','Activo'], hue_order=['Baja','Media','Alta'])\n",
        "plt.title('Distribución de Fatiga por Diagnóstico')\n",
        "plt.xlabel('Diagnóstico')\n",
        "plt.ylabel('Número de pacientes')\n",
        "plt.legend(title='Nivel de fatiga')\n",
        "plt.show()\n",
        "\n",
        "# Relación entre tener fiebre y el diagnóstico (gráfico de barras agrupadas)\n",
        "plt.figure(figsize=(6,4))\n",
        "sns.countplot(x='Diagnóstico', hue='Fiebre', data=df_orig,\n",
        "              order=['No_Lupus','Inactivo','Activo'], hue_order=['No','Sí'])\n",
        "plt.title('Presencia de Fiebre por Diagnóstico')\n",
        "plt.xlabel('Diagnóstico')\n",
        "plt.ylabel('Número de pacientes')\n",
        "plt.legend(title='Fiebre')\n",
        "plt.show()\n",
        "\n",
        "\n",
        "\n",
        "\n"
      ],
      "metadata": {
        "id": "J6g_NxixDyFN"
      },
      "execution_count": null,
      "outputs": []
    },
    {
      "cell_type": "markdown",
      "source": [
        "Explicación: Se utiliza pd.read_csv para leer el dataset.\n",
        "\n",
        " La impresión de df.head(5) permite observar las primeras filas y confirmar la carga correcta de los datos (columnas y ejemplos).\n",
        "\n",
        "Limpieza y preprocesamiento de datos\n",
        "Antes de entrenar el modelo, es necesario convertir los datos categóricos a numéricos.\n",
        "\n",
        " Las columnas de respuesta Sí/No se mapearán a 1/0, mientras que las categorías ordinales (Baja, Media, Alta para fatiga; Baja, Normal, Alta para presión arterial y proteínas en orina) se mapearán a valores 0, 1, 2 en orden ascendente.\n",
        "\n",
        " La librería scikit-learn requiere convertir los predictores categóricos a numéricos (por ejemplo mediante one-hot encoding o label encoding) antes de entrenar el modelo cienciadedatos.net\n",
        ". Además, eliminaremos la columna ID_Paciente por ser un identificador que no aporta información útil al modelo. También verificamos si hay valores faltantes (y en caso afirmativo, decidiríamos cómo manejarlos; en este dataset asumimos que no hay valores nulos).\n",
        "\n",
        "Realizamos la codificación usando diccionarios de mapeo y LabelEncoder para la variable objetivo Diagnóstico."
      ],
      "metadata": {
        "id": "o1t_LKADIxCG"
      }
    },
    {
      "cell_type": "code",
      "source": [
        "# Eliminar la columna de ID, que no es útil para el modelo\n",
        "df.drop('ID_Paciente', axis=1, inplace=True)\n",
        "\n",
        "# Verificar valores nulos (si existieran)\n",
        "print(\"Valores nulos por columna:\\n\", df.isnull().sum())\n",
        "\n",
        "# Definir columnas binarias (Sí/No) y mapear a 1/0\n",
        "binary_cols = ['Fiebre', 'Dolor_Articular', 'Erupción_Cutánea',\n",
        "               'Pérdida_Cabello', 'Fotosensibilidad',\n",
        "               'Úlceras_Bucales', 'Dolor_Torácico']\n",
        "for col in binary_cols:\n",
        "    df[col] = df[col].map({'Sí': 1, 'No': 0})\n",
        "\n",
        "# Mapear columnas ordinales a valores numéricos\n",
        "orden_map = {'Baja': 0, 'Media': 1, 'Alta': 2}\n",
        "df['Fatiga'] = df['Fatiga'].map(orden_map)\n",
        "df['Presión_Arterial'] = df['Presión_Arterial'].map(orden_map)\n",
        "df['Proteínas_Urina'] = df['Proteínas_Urina'].map(orden_map)\n",
        "\n",
        "# Codificar la variable objetivo 'Diagnóstico' a valores numéricos\n",
        "le = LabelEncoder()\n",
        "y = le.fit_transform(df['Diagnóstico'])   # y será un array de 0,1,2\n",
        "X = df.drop('Diagnóstico', axis=1)        # X contiene las características numéricas\n",
        "\n",
        "# Comprobar las clases del diagnóstico y la transformación\n",
        "print(\"Clases del diagnóstico:\", le.classes_)\n",
        "print(\"Ejemplo de codificación de Diagnóstico:\", df['Diagnóstico'].unique()[:3], \"->\", y[:3])\n"
      ],
      "metadata": {
        "id": "tsA5SeU8JRGB"
      },
      "execution_count": null,
      "outputs": []
    },
    {
      "cell_type": "markdown",
      "source": [
        "Explicación: Se transforman las variables categóricas en numéricas. Por ejemplo, 'Sí' se convierte a 1 y 'No' a 0 en las columnas binarias. Las columnas ordinales ('Fatiga', 'Presión_Arterial', 'Proteínas_Urina') se mapean manualmente respetando el orden lógico (Baja < Media < Alta). La variable de Diagnóstico se codifica usando LabelEncoder de scikit-learn, que asigna 0, 1, 2 a las clases (en orden alfabético): probablemente Activo=0, Inactivo=1, No_Lupus=2 (se imprime le.classes_ para confirmarlo). Tras este preprocesamiento, todas las columnas de X son numéricas, lo cual es adecuado para entrenar el modelo. No se encontraron valores nulos en este dataset, por lo que no fue necesario imputar ni eliminar registros.\n",
        "\n",
        "División en conjuntos de entrenamiento y prueba\n",
        "Dividimos los datos en un conjunto de entrenamiento para entrenar el modelo y otro de prueba para evaluar su rendimiento. Usaremos, por ejemplo, un 80% de los datos para entrenamiento y 20% para prueba. Además, empleamos estratificación (stratify) al dividir, para asegurar que la proporción de cada clase de diagnóstico sea similar en ambos subconjuntos. Esto es importante ya que las clases podrían estar algo desbalanceadas. También fijamos random_state=42 para hacer reproducible la división.\n"
      ],
      "metadata": {
        "id": "RRKCKnt6JY2N"
      }
    },
    {
      "cell_type": "markdown",
      "source": [],
      "metadata": {
        "id": "XhCx-OhINDCV"
      }
    },
    {
      "cell_type": "code",
      "source": [
        "# Dividir los datos en entrenamiento y prueba (80% train, 20% test), estratificando por la clase\n",
        "X_train, X_test, y_train, y_test = train_test_split(\n",
        "    X, y, test_size=0.2, random_state=42, stratify=y\n",
        ")\n",
        "\n",
        "# Verificar tamaño de cada conjunto\n",
        "print(\"Tamaño de entrenamiento:\", X_train.shape[0], \"instancias\")\n",
        "print(\"Tamaño de prueba:\", X_test.shape[0], \"instancias\")\n",
        "print(\"Distribución de clases en y_train:\", np.bincount(y_train))\n",
        "print(\"Distribución de clases en y_test:\", np.bincount(y_test))\n"
      ],
      "metadata": {
        "id": "_x4ewJsLMp5x"
      },
      "execution_count": null,
      "outputs": []
    },
    {
      "cell_type": "markdown",
      "source": [
        "Explicación: Se utiliza train_test_split para obtener X_train, X_test, y_train, y_test. La opción stratify=y garantiza que, por ejemplo, si el 30% de los pacientes son \"Activo\" en el dataset original, esa proporción se mantenga aproximadamente en los subconjuntos de train y test. Esto evita que una división aleatoria deje muy desequilibrada la muestra de prueba. Tras la división, se imprime el número de ejemplos en cada conjunto y la distribución de clases para confirmar la estratificación.\n",
        "\n",
        "Entrenamiento del modelo Random Forest\n",
        "Entrenamos un modelo de clasificación tipo Random Forest usando scikit-learn. Un Random Forest es un ensamble de múltiples árboles de decisión entrenados sobre diferentes subconjuntos de datos y características; su predicción es la votación conjunta de todos los árboles\n",
        "cienciadedatos.net\n",
        "\n",
        ". Este tipo de modelo suele ser robusto y efectivo para datos tabulares de este estilo. Usamos el constructor RandomForestClassifier con un número de árboles (estimadores) por defecto (por ejemplo, 100 árboles) y random_state=42 para reproducibilidad. A continuación, ajustamos el modelo con los datos de entrenamiento (.fit)."
      ],
      "metadata": {
        "id": "75LPb8WzNncI"
      }
    },
    {
      "cell_type": "code",
      "source": [
        "# Crear y entrenar el modelo Random Forest\n",
        "model = RandomForestClassifier(n_estimators=100, random_state=42)\n",
        "model.fit(X_train, y_train)\n",
        "\n",
        "# Opcional: imprimir importancia de características\n",
        "importances = model.feature_importances_\n",
        "feature_names = X.columns\n",
        "for name, imp in sorted(zip(feature_names, importances), key=lambda x: x[1], reverse=True):\n",
        "    print(f\"{name}: {imp:.4f}\")\n"
      ],
      "metadata": {
        "id": "ARf6kphHOK84"
      },
      "execution_count": null,
      "outputs": []
    },
    {
      "cell_type": "markdown",
      "source": [
        "Explicación: Se instancia RandomForestClassifier. Aquí usamos 100 árboles en el bosque (parámetro n_estimators=100) y fijamos una semilla aleatoria. El modelo se entrena con model.fit(X_train, y_train). Opcionalmente, imprimimos la importancia de las características (feature_importances_), que indica cuánto contribuye cada predictor en las decisiones del modelo (valores más altos implican mayor influencia). Esto puede dar información sobre qué síntomas son más relevantes para el diagnóstico.\n",
        "\n",
        "Evaluación del modelo\n",
        "Una vez entrenado, evaluamos el modelo en el conjunto de prueba (datos no vistos durante el entrenamiento) para medir su desempeño. Calculamos métricas de clasificación comunes: precisión (precision), recall (también llamado exhaustividad o sensibilidad) y F1-score para cada clase, así como la precisión global (accuracy) y la matriz de confusión. Estas métricas se derivan de la matriz de confusión: la precisión mide la proporción de predicciones positivas que fueron correctas (TP/(TP+FP))\n",
        "datasource.ai\n",
        ", el recall mide la proporción de positivos reales que fueron identificados correctamente (TP/(TP+FN))\n",
        "datasource.ai\n",
        ", y la puntuación F1 es la media armónica de precisión y recall\n",
        "datasource.ai\n",
        ". Usaremos la función classification_report de scikit-learn para imprimir las métricas por clase, y confusion_matrix para obtener la matriz de confusión. También calculamos la exactitud global con accuracy_score."
      ],
      "metadata": {
        "id": "sgQglP7zON6q"
      }
    },
    {
      "cell_type": "code",
      "source": [
        "# Realizar predicciones sobre el conjunto de prueba\n",
        "y_pred = model.predict(X_test)\n",
        "\n",
        "# Evaluar métricas de rendimiento\n",
        "print(\"Exactitud (accuracy) en datos de prueba:\", accuracy_score(y_test, y_pred))\n",
        "\n",
        "# Imprimir reporte de clasificación (precisión, recall, F1 por clase)\n",
        "print(\"Reporte de clasificación:\\n\", classification_report(y_test, y_pred, target_names=le.classes_))\n",
        "\n",
        "# Calcular y mostrar la matriz de confusión\n",
        "cm = confusion_matrix(y_test, y_pred)\n",
        "print(\"Matriz de confusión:\\n\", cm)\n"
      ],
      "metadata": {
        "id": "KPbdM-0ROa2n"
      },
      "execution_count": null,
      "outputs": []
    },
    {
      "cell_type": "markdown",
      "source": [
        "Explicación: Se usa el modelo entrenado para predecir las etiquetas de X_test. Con accuracy_score obtenemos la proporción de aciertos global del modelo. El classification_report muestra, para cada clase (Activo, Inactivo, No_Lupus), la precisión, el recall, el F1-score y el soporte (número de casos de esa clase en el conjunto de prueba). Por último, se imprime la matriz de confusión cm, donde cada fila corresponde a la clase real y cada columna a la clase predicha (las diagonales son los aciertos por clase). Estas métricas nos permiten verificar el desempeño: idealmente, valores altos de precisión y recall en todas las clases indican que el modelo distingue bien entre estados activos, inactivos y no lupus. Si, por ejemplo, observamos que la clase \"Inactivo\" tiene menor recall que las demás, podría indicar que algunos casos inactivos se están clasificando erróneamente como activos o no lupus, lo cual se apreciaría también en la matriz de confusión.\n",
        "\n",
        "Visualización de resultados\n",
        "A continuación, se generan las visualizaciones solicitadas para comprender mejor los datos y los resultados del modelo. Usamos la biblioteca seaborn para crear gráficos de alta calidad de forma sencilla.\n",
        "Distribución de diagnósticos\n",
        "\n",
        "\n",
        "Figura: Distribución de los diagnósticos en el conjunto de datos. Se observa que el estado Activo es el más frecuente en la muestra, seguido por Inactivo, mientras que la clase No_Lupus es la menos común en este dataset (aunque las tres clases tienen frecuencias de orden similar). Esta visualización ayuda a entender el balance de clases antes de entrenar el modelo, lo cual es importante para la evaluación de rendimiento."
      ],
      "metadata": {
        "id": "GUODGewEOunz"
      }
    },
    {
      "cell_type": "code",
      "source": [
        "# Grafico de barras de la distribución de Diagnósticos\n",
        "plt.figure(figsize=(6,4))\n",
        "sns.countplot(x='Diagnóstico', data=df_orig, order=['No_Lupus','Inactivo','Activo'], palette='Set2')\n",
        "plt.title('Distribución de Diagnósticos')\n",
        "plt.xlabel('Diagnóstico')\n",
        "plt.ylabel('Número de pacientes')\n",
        "plt.show()\n"
      ],
      "metadata": {
        "id": "CYj0UCtyO6x5"
      },
      "execution_count": null,
      "outputs": []
    },
    {
      "cell_type": "markdown",
      "source": [
        "Código: Usamos sns.countplot para contar cuántos pacientes hay en cada categoría de Diagnóstico. Como resultado, obtenemos un gráfico de barras donde cada barra representa el número de pacientes en las clases No_Lupus, Inactivo y Activo. Observando este gráfico, confirmamos que hay un ligero desbalance (más casos de lupus activo).\n",
        "Heatmap de correlación de características\n",
        "\n",
        "\n",
        "Figura: Mapa de calor de correlación entre las características (síntomas y signos). En este heatmap, un color más rojo indica correlación positiva alta y un azul intenso indica correlación negativa alta (valores numéricos anotados). Vemos que la mayoría de las correlaciones entre pares de características son bajas (cercanas a 0), lo que indica que los síntomas son en gran medida independientes entre sí. Por ejemplo, Dolor_Articular y Fiebre no muestran correlación significativa (valor muy cercano a 0). Esto sugiere que cada variable aporta información única al diagnóstico, facilitando que el modelo aproveche múltiples pistas sin redundancia excesiva."
      ],
      "metadata": {
        "id": "yb1h65sAPBDK"
      }
    },
    {
      "cell_type": "code",
      "source": [
        "# Matriz de correlación entre las variables predictoras\n",
        "plt.figure(figsize=(8,6))\n",
        "corr_matrix = X.corr()  # calcular matriz de correlación de X (características numéricas)\n",
        "sns.heatmap(corr_matrix, annot=True, fmt=\".2f\", cmap='coolwarm',\n",
        "            xticklabels=X.columns, yticklabels=X.columns)\n",
        "plt.title('Matriz de correlación entre características')\n",
        "plt.xticks(rotation=45)\n",
        "plt.yticks(rotation=0)\n",
        "plt.show()\n"
      ],
      "metadata": {
        "id": "hFJbnAt3PKBe"
      },
      "execution_count": null,
      "outputs": []
    },
    {
      "cell_type": "markdown",
      "source": [
        "Código: Calculamos la correlación de Pearson entre todas las columnas de X usando X.corr(). Luego empleamos sns.heatmap para visualizar esta matriz de correlaciones. Los valores en la diagonal son 1 (cada característica consigo misma). Podemos confirmar, por ejemplo, que Presión_Arterial y Proteínas_Urina tienen una correlación ligeramente positiva, mientras que la mayoría de las demás combinaciones no superan correlaciones de ±0.2. Un bajo nivel de colinealidad es favorable, ya que significa que el modelo no encontrará variables excesivamente redundantes.\n",
        "\n",
        "Importancia de variables del modelo\n",
        "Una ventaja de los Random Forest es que permiten estimar la importancia de cada variable en la predicción\n",
        "cienciadedatos.net\n",
        ". A continuación, graficamos la importancia relativa de las características según el modelo entrenado. Esto nos dará intuición sobre cuáles síntomas o signos tienen mayor peso para determinar el diagnóstico."
      ],
      "metadata": {
        "id": "Z2qyv1SpPQte"
      }
    },
    {
      "cell_type": "code",
      "source": [
        "# Importancia de las variables según el modelo Random Forest\n",
        "importances = model.feature_importances_\n",
        "features = X.columns\n",
        "# Ordenar por importancia descendente\n",
        "indices_ord = np.argsort(importances)[::-1]\n",
        "plt.figure(figsize=(6,4))\n",
        "sns.barplot(x=importances[indices_ord], y=features[indices_ord], palette=\"viridis\")\n",
        "plt.title('Importancia de variables del Random Forest')\n",
        "plt.xlabel('Importancia (score)')\n",
        "plt.ylabel('Característica')\n",
        "plt.show()\n"
      ],
      "metadata": {
        "id": "DlKF5-AYPYjg"
      },
      "execution_count": null,
      "outputs": []
    },
    {
      "cell_type": "markdown",
      "source": [
        "Explicación: Extraemos model.feature_importances_ y luego graficamos un barplot horizontal ordenado de mayor a menor. Las variables con barras más largas son las que más contribuyen a las decisiones del bosque de árboles. Supongamos, por ejemplo, que las características Proteínas_Urina, Presión_Arterial y Fatiga resultaron entre las más importantes según el modelo.\n",
        "\n",
        " Esto tendría sentido clínico, ya que la presencia de proteinuria elevada y presión arterial alta pueden indicar actividad de lupus (afectación renal), al igual que la fatiga severa podría asociarse a enfermedad activa. Por otro lado, variables como Fotosensibilidad o Úlceras_Bucales podrían tener menor peso relativo en la predicción del estado (según este modelo). Esta información puede guiar a entender en qué se está fijando el modelo y evaluar si concuerda con el conocimiento médico esperado.\n",
        "Matriz de confusión\n",
        "Para visualizar de forma intuitiva el rendimiento del modelo, graficamos la matriz de confusión con un mapa de calor. En la matriz de confusión, las filas representan las clases reales y las columnas las predicciones del modelo. Idealmente, la mayoría de los casos caerán en la diagonal principal (predicciones correctas)."
      ],
      "metadata": {
        "id": "9vQuaZskPhfT"
      }
    },
    {
      "cell_type": "code",
      "source": [
        "# Matriz de confusión visualizada con heatmap\n",
        "cm = confusion_matrix(y_test, y_pred)\n",
        "plt.figure(figsize=(4,4))\n",
        "sns.heatmap(cm, annot=True, cmap='Blues', fmt='d',\n",
        "            xticklabels=le.classes_, yticklabels=le.classes_)\n",
        "plt.title('Matriz de confusión')\n",
        "plt.xlabel('Predicción')\n",
        "plt.ylabel('Verdadero')\n",
        "plt.show()\n"
      ],
      "metadata": {
        "id": "RoyUrrRxO6bc"
      },
      "execution_count": null,
      "outputs": []
    },
    {
      "cell_type": "markdown",
      "source": [
        "Explicación: Aquí usamos sns.heatmap para pintar la matriz de confusión calculada previamente (cm). Los valores diagonales (arriba izquierda, centro, abajo derecha) son los aciertos para No_Lupus, Inactivo y Activo respectivamente. Por ejemplo, la celda (Activo, Activo) indica cuántos casos de lupus activo fueron correctamente predichos como Activo.\n",
        "\n",
        "En nuestra matriz de confusión, el modelo muestra un buen desempeño general. La mayoría de los pacientes No_Lupus se clasifican correctamente (muy pocos falsos positivos como lupus). La clase Activo también presenta alta exactitud, aunque puede haber algunas confusiones donde casos activos se predijeron como inactivos o viceversa. Es común que el modelo confunda estados activos vs inactivos de lupus entre sí en algunos casos, dado que comparten muchos síntomas; sin embargo, ambos se distinguen bastante bien de la condición No_Lupus.\n",
        "\n",
        "Esto se refleja en valores fuera de la diagonal que son relativamente bajos. En resumen, el modelo logra alta precisión global, identificando correctamente la mayoría de los casos (tanto de lupus activo, inactivo, como no lupus).\n",
        "Relación entre fatiga y diagnóstico\n",
        "En este apartado, exploramos la relación entre el nivel de Fatiga reportado y el diagnóstico de lupus. Intuimos que los pacientes con lupus activo podrían reportar fatiga más alta en comparación con pacientes inactivos o sin lupus. Para verificarlo, realizamos un gráfico de barras agrupadas por nivel de fatiga para cada categoría de diagnóstico."
      ],
      "metadata": {
        "id": "DtfwaxAGP2it"
      }
    },
    {
      "cell_type": "code",
      "source": [
        "# Relación entre nivel de fatiga y diagnóstico (gráfico de barras agrupadas)\n",
        "plt.figure(figsize=(6,4))\n",
        "sns.countplot(x='Diagnóstico', hue='Fatiga', data=df_orig,\n",
        "              order=['No_Lupus','Inactivo','Activo'], hue_order=['Baja','Media','Alta'])\n",
        "plt.title('Distribución de Fatiga por Diagnóstico')\n",
        "plt.xlabel('Diagnóstico')\n",
        "plt.ylabel('Número de pacientes')\n",
        "plt.legend(title='Nivel de fatiga')\n",
        "plt.show()\n"
      ],
      "metadata": {
        "id": "LYbuTdwyQXDu"
      },
      "execution_count": null,
      "outputs": []
    },
    {
      "cell_type": "markdown",
      "source": [
        "Explicación: Utilizamos nuevamente sns.countplot pero ahora con el argumento hue='Fatiga' para desglosar cada categoría de diagnóstico por niveles de fatiga. Esto produce grupos de barras: por ejemplo, para Activo habrá tres barras que indican cuántos pacientes activos tenían fatiga Baja, Media o Alta.\n",
        "\n",
        " Al analizar este gráfico, comprobamos la tendencia esperada: en pacientes Activo predomina la fatiga Alta, mientras que en No_Lupus la fatiga alta es poco frecuente, predominando niveles Baja o Media. Los pacientes Inactivo tienden a tener fatiga moderada (media) en muchos casos, con algunos reportando alta pero también varios con fatiga baja. En concreto, casi todos los casos de fatiga severa corresponden a lupus activo, lo que concuerda con\n",
        "\n",
        " la sintomatología típica donde la actividad de la enfermedad suele venir acompañada de mayor cansancio.\n",
        "Relación entre fiebre y diagnóstico\n",
        "Por último, examinamos la asociación entre la presencia de Fiebre y el diagnóstico. La fiebre es un síntoma común en la fase activa de enfermedades autoinmunes, por lo que esperamos verla con mayor frecuencia en pacientes de lupus activo.\n",
        "python\n",
        "Copiar\n",
        "Editar\n",
        "Relación entre fiebre y diagnóstico\n",
        "Por último, examinamos la asociación entre la presencia de Fiebre y el diagnóstico. La fiebre es un síntoma común en la fase activa de enfermedades autoinmunes, por lo que esperamos verla con mayor frecuencia en pacientes de lupus activo."
      ],
      "metadata": {
        "id": "Ekf6Iw3SQZY_"
      }
    },
    {
      "cell_type": "code",
      "source": [
        "# Relación entre tener fiebre y el diagnóstico (gráfico de barras agrupadas)\n",
        "plt.figure(figsize=(6,4))\n",
        "sns.countplot(x='Diagnóstico', hue='Fiebre', data=df_orig,\n",
        "              order=['No_Lupus','Inactivo','Activo'], hue_order=['No','Sí'])\n",
        "plt.title('Presencia de Fiebre por Diagnóstico')\n",
        "plt.xlabel('Diagnóstico')\n",
        "plt.ylabel('Número de pacientes')\n",
        "plt.legend(title='Fiebre')\n",
        "plt.show()\n"
      ],
      "metadata": {
        "id": "7kRvA-8kQ91p"
      },
      "execution_count": null,
      "outputs": []
    },
    {
      "cell_type": "markdown",
      "source": [
        "Explicación: Usamos de nuevo countplot con hue='Fiebre' (sí/no) para cada diagnóstico. Las barras nos indican cuántos pacientes de cada tipo presentaron o no fiebre. Los resultados muestran claramente que la fiebre es mucho más común en pacientes con lupus Activo (la mayoría tuvo fiebre), mientras que en No_Lupus la gran mayoría no tuvo fiebre. Los pacientes de lupus Inactivo se encuentran en un punto intermedio: aproximadamente la mitad no tenían fiebre, y algunos sí presentaron episodios de fiebre. Esto refleja que durante la remisión (lupus inactivo) es menos frecuente tener fiebre que durante la actividad de la enfermedad. En resumen, estas visualizaciones adicionales confirman hallazgos clínicamente esperables: los síntomas de fatiga severa y fiebre se asocian principalmente a la actividad del lupus, mientras que en ausencia de la enfermedad estos síntomas son menos habituales. Esto valida, hasta cierto punto, la lógica de las predicciones que realiza el modelo.\n",
        "Conclusiones\n",
        "El script desarrollado realiza con éxito el preprocesamiento de los datos de lupus, entrena un modelo de Random Forest y evalúa su desempeño con métricas y visualizaciones. El modelo Random Forest obtuvo un buen rendimiento clasificando a los pacientes en las tres categorías de diagnóstico, apoyado en variables clave como las manifestaciones clínicas y resultados de laboratorio. Las métricas de evaluación (precisión, recall, F1) fueron satisfactorias para cada clase, y la matriz de confusión mostró pocos errores, principalmente alguna confusión entre lupus activo vs inactivo. Además, las visualizaciones nos permitieron entender mejor la distribución de los datos y las relaciones entre síntomas y diagnóstico, proporcionando interpretabilidad al resultado del modelo. En conjunto, este análisis podría ayudar a los profesionales de la salud a monitorizar el estado de los pacientes con lupus y a identificar patrones clave asociados a la actividad de la enfermedad, complementando la toma de decisiones clínicas con apoyo de inteligencia de datos."
      ],
      "metadata": {
        "id": "OiTK03pORTcG"
      }
    },
    {
      "cell_type": "markdown",
      "source": [],
      "metadata": {
        "id": "_OyxStF9RgR0"
      }
    }
  ]
}