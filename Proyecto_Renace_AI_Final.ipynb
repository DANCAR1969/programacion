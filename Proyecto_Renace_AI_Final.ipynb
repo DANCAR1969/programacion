{
  "nbformat": 4,
  "nbformat_minor": 0,
  "metadata": {
    "colab": {
      "private_outputs": true,
      "provenance": [],
      "cell_execution_strategy": "setup",
      "include_colab_link": true
    },
    "kernelspec": {
      "name": "python3",
      "display_name": "Python 3"
    },
    "language_info": {
      "name": "python"
    }
  },
  "cells": [
    {
      "cell_type": "markdown",
      "metadata": {
        "id": "view-in-github",
        "colab_type": "text"
      },
      "source": [
        "<a href=\"https://colab.research.google.com/github/DANCAR1969/programacion/blob/master/Proyecto_Renace_AI_Final.ipynb\" target=\"_parent\"><img src=\"https://colab.research.google.com/assets/colab-badge.svg\" alt=\"Open In Colab\"/></a>"
      ]
    },
    {
      "cell_type": "markdown",
      "source": [
        "📘 1. Introducción\n",
        "Título del Proyecto: Renace AI - Asistente Emocional\n",
        "\n",
        "Objetivo: Desarrollar un modelo de clasificación de emociones basado en texto para apoyar a mujeres en situaciones vulnerables.\n",
        "\n",
        "Contexto: Este proyecto busca brindar apoyo emocional mediante la identificación de emociones en frases escritas por usuarias, utilizando técnicas de procesamiento de lenguaje natural y aprendizaje automático."
      ],
      "metadata": {
        "id": "NnD2g3_YLqqS"
      }
    },
    {
      "cell_type": "code",
      "source": [
        "# 2. Importación de Librerías\n",
        "\n",
        "import pandas as pd\n",
        "import numpy as np\n",
        "import matplotlib.pyplot as plt\n",
        "import seaborn as sns\n",
        "import joblib\n",
        "from sklearn.model_selection import train_test_split\n",
        "from sklearn.feature_extraction.text import TfidfVectorizer\n",
        "from sklearn.linear_model import LogisticRegression\n",
        "from sklearn.metrics import classification_report, confusion_matrix\n",
        "import pandas as pd\n",
        "from sklearn.model_selection import train_test_split\n",
        "from sklearn.linear_model import LogisticRegression\n",
        "from sklearn.metrics import classification_report\n",
        "\n"
      ],
      "metadata": {
        "id": "TWGNnRHaLyvC"
      },
      "execution_count": null,
      "outputs": []
    },
    {
      "cell_type": "code",
      "source": [
        "# 3. Carga y Exploración del Dataset\n",
        "\n",
        "# Montar Google Drive\n",
        "\n",
        "from google.colab import drive\n",
        "drive.mount('/content/drive')\n",
        "\n",
        "# Cargar el dataset\n",
        "ruta = '/content/drive/MyDrive/RenaceAI/dataset_ampliado.csv'\n",
        "df = pd.read_csv(ruta)\n",
        "\n",
        "# Mostrar las primeras filas\n",
        "df.head()\n",
        "\n",
        "df.columns\n",
        "df.isnull().sum()\n",
        "df['emocion'].value_counts()\n",
        "\n"
      ],
      "metadata": {
        "id": "gkMuk4ijL_bV",
        "collapsed": true
      },
      "execution_count": null,
      "outputs": []
    },
    {
      "cell_type": "code",
      "source": [
        "# 4. Preprocesamiento de Datos\n",
        "\n",
        "# Verificar valores nulos\n",
        "df.isnull().sum()\n",
        "\n",
        "# Distribución de clases\n",
        "df['emocion'].value_counts().plot(kind='bar', title='Distribución de Emociones')\n",
        "plt.xlabel('Emoción')\n",
        "plt.ylabel('Cantidad')\n",
        "plt.show()\n",
        "plt.figure(figsize=(6,4))\n",
        "df['emocion'].value_counts().plot(kind='bar', color='skyblue', edgecolor='black')\n",
        "plt.title('Distribución de Emociones')\n",
        "plt.xlabel('Emoción')\n",
        "plt.ylabel('Cantidad')\n",
        "plt.grid(axis='y', linestyle='--', alpha=0.7)\n",
        "plt.tight_layout()\n",
        "plt.show()\n",
        "\n"
      ],
      "metadata": {
        "collapsed": true,
        "id": "vi7oInVEMPVC"
      },
      "execution_count": null,
      "outputs": []
    },
    {
      "cell_type": "code",
      "source": [
        "# 5. Vectorización del Texto\n",
        "\n",
        "# Separar características y etiquetas\n",
        "X = df['texto']\n",
        "y = df['emocion']\n",
        "\n",
        "# Vectorizar el texto\n",
        "vectorizer = TfidfVectorizer()\n",
        "X_vectorized = vectorizer.fit_transform(X)\n"
      ],
      "metadata": {
        "id": "_vH5aLoqMabO"
      },
      "execution_count": null,
      "outputs": []
    },
    {
      "cell_type": "code",
      "source": [
        "# 6. División del Conjunto de Datos\n",
        "\n",
        "# Dividir en entrenamiento y prueba\n",
        "X_train, X_test, y_train, y_test = train_test_split(X_vectorized, y, test_size=0.2, random_state=42)\n",
        "\n"
      ],
      "metadata": {
        "id": "MLnT5a9nMgOV"
      },
      "execution_count": null,
      "outputs": []
    },
    {
      "cell_type": "code",
      "source": [
        "# 7. Entrenamiento del Modelo\n",
        "\n",
        "# Entrenar el modelo\n",
        "modelo = LogisticRegression(max_iter=1000)\n",
        "modelo.fit(X_train, y_train)\n"
      ],
      "metadata": {
        "collapsed": true,
        "id": "nEH_BnCxMmR5"
      },
      "execution_count": null,
      "outputs": []
    },
    {
      "cell_type": "code",
      "source": [
        "# 8. Evaluación del Modelo\n",
        "\n",
        "# Predicciones\n",
        "y_pred = modelo.predict(X_test)\n",
        "\n",
        "# Reporte de clasificación\n",
        "print(classification_report(y_test, y_pred))\n",
        "\n",
        "# Matriz de confusión\n",
        "matriz = confusion_matrix(y_test, y_pred, labels=modelo.classes_)\n",
        "plt.figure(figsize=(8, 6))\n",
        "sns.heatmap(matriz, annot=True, fmt='d', cmap='Blues', xticklabels=modelo.classes_, yticklabels=modelo.classes_)\n",
        "plt.title('Matriz de Confusión')\n",
        "plt.xlabel('Predicción')\n",
        "plt.ylabel('Real')\n",
        "plt.show()\n"
      ],
      "metadata": {
        "collapsed": true,
        "id": "0OEowCbMMu-K"
      },
      "execution_count": null,
      "outputs": []
    },
    {
      "cell_type": "code",
      "source": [
        "# 9. Guardar el Modelo y el Vectorizador\n",
        "\n",
        "# Guardar el modelo y el vectorizador\n",
        "import joblib\n",
        "from google.colab import files\n",
        "\n",
        "\n",
        "# Suponiendo que usaste TfidfVectorizer o CountVectorizer\n",
        "\n",
        "joblib.dump(modelo, 'modelo_entrenado.pkl')\n",
        "joblib.dump(vectorizer, 'vectorizer.pkl')  # ¡Muy importante!\n",
        "\n",
        "files.download('modelo_entrenado.pkl')\n",
        "files.download('vectorizer.pkl')\n"
      ],
      "metadata": {
        "collapsed": true,
        "id": "C2Z3VluVM7LX"
      },
      "execution_count": null,
      "outputs": []
    },
    {
      "cell_type": "code",
      "source": [
        "# 10. Prueba con Nuevas Frases\n",
        "\n",
        "# Cargar el modelo y el vectorizador\n",
        "import joblib\n",
        "\n",
        "# Guarda ambos\n",
        "joblib.dump(modelo, 'modelo_entrenado.pkl')\n",
        "joblib.dump(vectorizer, 'vectorizer.pkl')  # ¡Muy importante!\n",
        "\n",
        "\n",
        "# Ingresar una nueva frase\n",
        "nueva_frase = \"Siento que todo está perdido\"\n",
        "vector_frase = vectorizer.transform([nueva_frase])\n",
        "prediccion = modelo.predict(vector_frase)\n",
        "print(f\"Emoción detectada: {prediccion[0]}\")\n",
        "nueva_frase = \"Dios, te olvidaste de mi\"\n",
        "vector_frase = vectorizer.transform([nueva_frase])\n",
        "prediccion = modelo.predict(vector_frase)\n",
        "print(f\"Emoción detectada: {prediccion[0]}\")\n",
        "nueva_frase = \"todo se derrumba ante mis ojos\"\n",
        "vector_frase = vectorizer.transform([nueva_frase])\n",
        "prediccion = modelo.predict(vector_frase)\n",
        "print(f\"Emoción detectada: {prediccion[0]}\")\n",
        "nueva_frase = \"nada me sale bien\"\n",
        "vector_frase = vectorizer.transform([nueva_frase])\n",
        "prediccion = modelo.predict(vector_frase)\n",
        "print(f\"Emoción detectada: {prediccion[0]}\")\n",
        "nueva_frase = \"siento ganas de llorar\"\n",
        "vector_frase = vectorizer.transform([nueva_frase])\n",
        "prediccion = modelo.predict(vector_frase)\n",
        "print(f\"Emoción detectada: {prediccion[0]}\")\n",
        "nueva_frase = \"por que todo me sale mal\n",
        "\"\n",
        "vector_frase = vectorizer.transform([nueva_frase])\n",
        "prediccion = modelo.predict(vector_frase)\n",
        "print(f\"Emoción detectada: {prediccion[0]}\")"
      ],
      "metadata": {
        "id": "CLkRnck1NDSf"
      },
      "execution_count": null,
      "outputs": []
    }
  ]
}