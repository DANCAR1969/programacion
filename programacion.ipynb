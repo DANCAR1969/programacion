{
 "cells": [
  {
   "cell_type": "markdown",
   "metadata": {},
   "source": [
    "1. uso de print"
   ]
  },
  {
   "cell_type": "code",
   "execution_count": null,
   "metadata": {},
   "outputs": [],
   "source": [
    "print(\"cual es tu vehiculo\")"
   ]
  },
  {
   "cell_type": "markdown",
   "metadata": {},
   "source": [
    "2. Uso  de vaiables\n",
    "- para crear variable se requiere  colocarle un nombre  el signo =           marca=\"sony”\n",
    "    - para imprimir  la variable no se usa comilllas                                      print(marca)\n",
    "- para combinar una variable de cadena con otra cadena"
   ]
  },
  {
   "cell_type": "code",
   "execution_count": null,
   "metadata": {},
   "outputs": [],
   "source": [
    "marca=\"sony\"\n",
    "serie=\"platino\"\n",
    "mejorTecnologia = \"la mejor \" + marca + \" \" + serie\n",
    "#print(mejorTecnologia)\n",
    "print(type(mejorTecnologia))\n"
   ]
  },
  {
   "cell_type": "markdown",
   "metadata": {},
   "source": [
    "3.  para verificar el tipo de dato de una variable  : class STR osea es una cadena  "
   ]
  },
  {
   "cell_type": "code",
   "execution_count": 2,
   "metadata": {},
   "outputs": [
    {
     "name": "stdout",
     "output_type": "stream",
     "text": [
      "<class 'str'>\n"
     ]
    }
   ],
   "source": [
    "marca=\"sony\"\n",
    "#print(\"la mejor imagen \"+ marca)\n",
    "print(type(marca))"
   ]
  },
  {
   "cell_type": "markdown",
   "metadata": {},
   "source": [
    "4. para juntar variables del mismo tipo de datos"
   ]
  },
  {
   "cell_type": "code",
   "execution_count": 5,
   "metadata": {},
   "outputs": [
    {
     "name": "stdout",
     "output_type": "stream",
     "text": [
      "sony platino\n"
     ]
    }
   ],
   "source": [
    "marca=\"sony \"\n",
    "serie=\"platino\"\n",
    "\n",
    "mejorTecnologia= marca + serie\n",
    "print(mejorTecnologia)"
   ]
  },
  {
   "cell_type": "markdown",
   "metadata": {},
   "source": [
    "5. para concatenar cadenas y unir variables "
   ]
  },
  {
   "cell_type": "code",
   "execution_count": 6,
   "metadata": {},
   "outputs": [
    {
     "name": "stdout",
     "output_type": "stream",
     "text": [
      "la mejor sony platino\n"
     ]
    }
   ],
   "source": [
    "marca=\"sony\"\n",
    "serie=\"platino\"\n",
    "mejorTecnologia = \"la mejor \" + marca + \" \" + serie\n",
    "print(mejorTecnologia)"
   ]
  },
  {
   "cell_type": "markdown",
   "metadata": {},
   "source": [
    "6. El dato int : entero- Para la creación de las variables  con enteros no se usa  comillas , en el código sigiente  se le suma a la variable  10 y resultado  es 55"
   ]
  },
  {
   "cell_type": "code",
   "execution_count": 7,
   "metadata": {},
   "outputs": [
    {
     "name": "stdout",
     "output_type": "stream",
     "text": [
      "55\n"
     ]
    }
   ],
   "source": [
    "cantidad = 45\n",
    "cantidad= cantidad + 10\n",
    "print(cantidad)"
   ]
  },
  {
   "cell_type": "markdown",
   "metadata": {},
   "source": [
    "7. para combinar cadenas con enteros se hce el siguiente proceso "
   ]
  },
  {
   "cell_type": "code",
   "execution_count": 9,
   "metadata": {},
   "outputs": [
    {
     "name": "stdout",
     "output_type": "stream",
     "text": [
      "el numero de televisres es 55\n"
     ]
    }
   ],
   "source": [
    "cantidad = 45\n",
    "cantidad= cantidad + 10\n",
    "print(\"el numero de televisres es \" + str (cantidad))"
   ]
  },
  {
   "cell_type": "markdown",
   "metadata": {},
   "source": [
    "8.Para combinar cadenas  y enteros  "
   ]
  },
  {
   "cell_type": "code",
   "execution_count": 11,
   "metadata": {},
   "outputs": [
    {
     "name": "stdout",
     "output_type": "stream",
     "text": [
      "<class 'str'>\n",
      "el numero de televisres sony es 55\n"
     ]
    }
   ],
   "source": [
    "marca=\"sony\"\n",
    "serie=\"platino\"\n",
    "mejorTecnologia = \"la mejor \" + marca + \" \" + serie\n",
    "print(type(mejorTecnologia))\n",
    "\n",
    "\n",
    "cantidad = 45\n",
    "cantidad= cantidad + 10\n",
    "print(\"el numero de televisres \" +marca +\" \" + \"es \" + str (cantidad))"
   ]
  },
  {
   "cell_type": "markdown",
   "metadata": {},
   "source": [
    "9. El dato tipo float son mumeros enteros con  decimales "
   ]
  },
  {
   "cell_type": "code",
   "execution_count": 12,
   "metadata": {},
   "outputs": [
    {
     "name": "stdout",
     "output_type": "stream",
     "text": [
      "50.5\n",
      "<class 'float'>\n"
     ]
    }
   ],
   "source": [
    "dimencion=50.5\n",
    "print(dimencion)\n",
    "print(type (dimencion))\n"
   ]
  },
  {
   "cell_type": "markdown",
   "metadata": {},
   "source": [
    "10. Conbinar  dato flotante con cadenas y con enteros"
   ]
  },
  {
   "cell_type": "code",
   "execution_count": 13,
   "metadata": {},
   "outputs": [
    {
     "name": "stdout",
     "output_type": "stream",
     "text": [
      "el televisor  de mayor nivel es  sony platino de 45 pulgadas  con un nucleo de 50.5\n"
     ]
    }
   ],
   "source": [
    "marca=\"sony\"\n",
    "serie=\"platino\"\n",
    "cantidad = 45\n",
    "dimencion=50.5\n",
    "print(\"el televisor  de mayor nivel es  \"+marca + \" \"+ serie+\" \"+  \"de \"+ str(cantidad)+\" \"+ \"pulgadas  con un nucleo de \"+ str(dimencion))"
   ]
  },
  {
   "cell_type": "markdown",
   "metadata": {},
   "source": [
    "11. El dato tipo booleano:  bool (false or true)"
   ]
  },
  {
   "cell_type": "code",
   "execution_count": 14,
   "metadata": {},
   "outputs": [
    {
     "name": "stdout",
     "output_type": "stream",
     "text": [
      "True\n"
     ]
    }
   ],
   "source": [
    "estrategia = True\n",
    "print(estrategia)"
   ]
  },
  {
   "cell_type": "markdown",
   "metadata": {},
   "source": [
    "12. verificar que el anterior es booleano y la conbinalcion con str, int, float y bool"
   ]
  },
  {
   "cell_type": "code",
   "execution_count": 18,
   "metadata": {},
   "outputs": [
    {
     "name": "stdout",
     "output_type": "stream",
     "text": [
      "a continuacion  se demostrara que  los televisores sony platino de 45 pulgadas con un nucleo de 50.5 esto es True\n"
     ]
    }
   ],
   "source": [
    "marca=\"sony\"\n",
    "serie=\"platino\"\n",
    "cantidad = 45\n",
    "dimencion=50.5\n",
    "estrategia = True\n",
    "\n",
    "print(\"a continuacion  se demostrara que \"+ \" \"+ \"los televisores \"+ marca + \" \"+serie + \" de \"+ str(cantidad )+ \" \" +\"pulgadas \"+ \"con un nucleo de \"+ str(dimencion)+ \" \" +\"esto es \"+ str(estrategia))"
   ]
  },
  {
   "cell_type": "markdown",
   "metadata": {},
   "source": [
    "13. Asignaciones múltiples  en Python :  es  escribir las  variables de diferentes datos  en forma lineal"
   ]
  },
  {
   "cell_type": "code",
   "execution_count": 19,
   "metadata": {},
   "outputs": [
    {
     "name": "stdout",
     "output_type": "stream",
     "text": [
      "robotica\n",
      "24\n",
      "30.8\n",
      "True\n"
     ]
    }
   ],
   "source": [
    "materia= \"robotica\"\n",
    "modulos= 24\n",
    "secciones= 30.8\n",
    "validacion= True\n",
    "print(materia)\n",
    "print(modulos)\n",
    "print(secciones)\n",
    "print(validacion)"
   ]
  },
  {
   "cell_type": "markdown",
   "metadata": {},
   "source": [
    "para acortar en forma lineal"
   ]
  },
  {
   "cell_type": "code",
   "execution_count": 20,
   "metadata": {},
   "outputs": [
    {
     "name": "stdout",
     "output_type": "stream",
     "text": [
      "robotica\n",
      "24\n",
      "30.8\n",
      "True\n"
     ]
    }
   ],
   "source": [
    "materia,modulos,secciones,validacion= \"robotica\", 24, 30.8,True\n",
    "print(materia)\n",
    "print(modulos)\n",
    "print(secciones)\n",
    "print(validacion)"
   ]
  },
  {
   "cell_type": "markdown",
   "metadata": {},
   "source": [
    "De la misma manera cuando se utiliza variables con el mismo valor se usa agnominación múltiple así"
   ]
  },
  {
   "cell_type": "code",
   "execution_count": 22,
   "metadata": {},
   "outputs": [
    {
     "name": "stdout",
     "output_type": "stream",
     "text": [
      "70\n",
      "70\n",
      "70\n",
      "70\n"
     ]
    }
   ],
   "source": [
    "valor1 = 70\n",
    "valor2 = 70\n",
    "valor3 = 70\n",
    "valor4 = 70\n",
    "print(valor1)\n",
    "print(valor2)\n",
    "print(valor3)\n",
    "print(valor4)"
   ]
  },
  {
   "cell_type": "markdown",
   "metadata": {},
   "source": [
    "para acortar en forma lineal"
   ]
  },
  {
   "cell_type": "code",
   "execution_count": 23,
   "metadata": {},
   "outputs": [
    {
     "name": "stdout",
     "output_type": "stream",
     "text": [
      "70\n",
      "70\n",
      "70\n",
      "70\n"
     ]
    }
   ],
   "source": [
    "valor1=valor2=valor3=valor4=70\n",
    "print(valor1)\n",
    "print(valor2)\n",
    "print(valor3)\n",
    "print(valor4)"
   ]
  },
  {
   "cell_type": "markdown",
   "metadata": {},
   "source": [
    "14. Métodos para cadena de texto"
   ]
  },
  {
   "cell_type": "markdown",
   "metadata": {},
   "source": [
    "14.1 método para imprimir  la longitud de nuestra variable, se usa len en el  print"
   ]
  },
  {
   "cell_type": "code",
   "execution_count": 24,
   "metadata": {},
   "outputs": [
    {
     "name": "stdout",
     "output_type": "stream",
     "text": [
      "8\n"
     ]
    }
   ],
   "source": [
    "metodomateria=\"robotica\"\n",
    "print(len(materia))"
   ]
  },
  {
   "cell_type": "markdown",
   "metadata": {},
   "source": [
    "14.2 método de búsqueda de algún carácter  de nuestra variable, se usa find"
   ]
  },
  {
   "cell_type": "code",
   "execution_count": 25,
   "metadata": {},
   "outputs": [
    {
     "name": "stdout",
     "output_type": "stream",
     "text": [
      "2\n"
     ]
    }
   ],
   "source": [
    "materia=\"robotica\"\n",
    "print(materia.find(\"b\"))"
   ]
  },
  {
   "cell_type": "markdown",
   "metadata": {},
   "source": [
    "14.3 método para colocar la primera letra de la variable en  mayúscula se usa capitalice\n"
   ]
  },
  {
   "cell_type": "code",
   "execution_count": 26,
   "metadata": {},
   "outputs": [
    {
     "name": "stdout",
     "output_type": "stream",
     "text": [
      "Robotica\n"
     ]
    }
   ],
   "source": [
    "materia=\"robotica\"\n",
    "print(materia.capitalize())"
   ]
  },
  {
   "cell_type": "markdown",
   "metadata": {},
   "source": [
    "14.4 Método para para colocar toda nuestra variable en mayúsculas se usa upper"
   ]
  },
  {
   "cell_type": "code",
   "execution_count": 27,
   "metadata": {},
   "outputs": [
    {
     "name": "stdout",
     "output_type": "stream",
     "text": [
      "ROBOTICA\n"
     ]
    }
   ],
   "source": [
    "materia=\"robotica\"\n",
    "print(materia.upper())"
   ]
  },
  {
   "cell_type": "markdown",
   "metadata": {},
   "source": [
    "14.5 Método para para colocar toda nuestra variable en minúsculas se usa lower"
   ]
  },
  {
   "cell_type": "code",
   "execution_count": 28,
   "metadata": {},
   "outputs": [
    {
     "name": "stdout",
     "output_type": "stream",
     "text": [
      "iinnovacion\n"
     ]
    }
   ],
   "source": [
    "proyecto=\"iINNOVACION\"\n",
    "print(proyecto.lower())"
   ]
  },
  {
   "cell_type": "markdown",
   "metadata": {},
   "source": [
    "14.6 Método para verificar si una variable es un digito se usa isdigit"
   ]
  },
  {
   "cell_type": "code",
   "execution_count": 29,
   "metadata": {},
   "outputs": [
    {
     "name": "stdout",
     "output_type": "stream",
     "text": [
      "False\n"
     ]
    }
   ],
   "source": [
    "materia=\"robotica\"\n",
    "print(materia.isdigit())"
   ]
  },
  {
   "cell_type": "markdown",
   "metadata": {},
   "source": [
    "14.7 Método para verificar si en la  variable hay un carácter especial o espacio  se usa isalpha"
   ]
  },
  {
   "cell_type": "code",
   "execution_count": 30,
   "metadata": {},
   "outputs": [
    {
     "name": "stdout",
     "output_type": "stream",
     "text": [
      "False\n",
      "True\n",
      "False\n"
     ]
    }
   ],
   "source": [
    "marca=\"sony music\"\n",
    "print(marca.isalpha())\n",
    "\n",
    "materia= \"roboticaveloz\"\n",
    "print(materia.isalpha())\n",
    "\n",
    "proyecto= \"innovacion-luke\"\n",
    "print(proyecto.isalpha())"
   ]
  },
  {
   "cell_type": "markdown",
   "metadata": {},
   "source": [
    "14.8 método  que nos permite contar cuantos caracteres hay de un tipo de dato se usa count"
   ]
  },
  {
   "cell_type": "code",
   "execution_count": 31,
   "metadata": {},
   "outputs": [
    {
     "name": "stdout",
     "output_type": "stream",
     "text": [
      "2\n",
      "3\n",
      "3\n"
     ]
    }
   ],
   "source": [
    "marca= \"sony music\"\n",
    "print(marca.count(\"s\"))\n",
    "\n",
    "materia= \"robotica  boleana\"\n",
    "print(materia.count(\"o\"))\n",
    "\n",
    "proyecto= \"innovacion  tecnologica\"\n",
    "print(proyecto.count(\"c\"))"
   ]
  },
  {
   "cell_type": "markdown",
   "metadata": {},
   "source": [
    "14.9 metodo que nos permite remplazar caracteres dentro de una cadena se usa repalace"
   ]
  },
  {
   "cell_type": "code",
   "execution_count": 32,
   "metadata": {},
   "outputs": [
    {
     "name": "stdout",
     "output_type": "stream",
     "text": [
      "soky\n",
      "inovation\n",
      "rovotica\n"
     ]
    }
   ],
   "source": [
    "marca= \"sony\"\n",
    "print(marca.replace(\"n\",\"k\"))\n",
    "\n",
    "proyecto= \"inovacion\"\n",
    "print(proyecto.replace(\"c\",\"t\"))\n",
    "\n",
    "materia= \"robotica\"\n",
    "print(materia.replace(\"b\",\"v\"))"
   ]
  },
  {
   "cell_type": "markdown",
   "metadata": {},
   "source": [
    "14.10 característica para repetir  la variable n veces"
   ]
  },
  {
   "cell_type": "code",
   "execution_count": 33,
   "metadata": {},
   "outputs": [
    {
     "name": "stdout",
     "output_type": "stream",
     "text": [
      "sonysonysonysonysonysony\n",
      "innovacioninnovacioninnovacion\n",
      "roboticarobotica\n"
     ]
    }
   ],
   "source": [
    "marca= \"sony\"\n",
    "print(marca*6)\n",
    "\n",
    "proyecto= \"innovacion\"\n",
    "print(proyecto*3)\n",
    "\n",
    "materia= \"robotica\"\n",
    "print(materia*2)"
   ]
  },
  {
   "cell_type": "markdown",
   "metadata": {},
   "source": [
    "14.11 metodo para convertir al tipo de dato necesario "
   ]
  },
  {
   "cell_type": "code",
   "execution_count": 34,
   "metadata": {},
   "outputs": [
    {
     "name": "stdout",
     "output_type": "stream",
     "text": [
      "23\n",
      "10.5\n",
      "4\n",
      "10\n",
      "4\n",
      "23\n",
      "<class 'str'>\n",
      "10.5\n",
      "<class 'str'>\n",
      "23.0\n",
      "4.0\n",
      "<class 'float'>\n"
     ]
    }
   ],
   "source": [
    "x= 23\n",
    "y= 10.5\n",
    "z= \"4\"\n",
    "\n",
    "print(x)\n",
    "print(y)\n",
    "print(z)\n",
    "\n",
    "print(int(y))\n",
    "print(int(z))\n",
    "\n",
    "print(str(x))\n",
    "print(type(str(x)))\n",
    "\n",
    "print(str(y))\n",
    "print(type(str(y)))\n",
    "\n",
    "print(float(x))\n",
    "print(float(z))\n",
    "print(type(float(x)))"
   ]
  },
  {
   "cell_type": "markdown",
   "metadata": {},
   "source": [
    "De esta manera se realizan las operaciones haciendo las conversiones necesarias  de los datos"
   ]
  },
  {
   "cell_type": "code",
   "execution_count": 37,
   "metadata": {},
   "outputs": [
    {
     "name": "stdout",
     "output_type": "stream",
     "text": [
      "estos son los datos para diseñar 23 de ancho 10.5 de alto 4 de grosor\n",
      "23\n",
      "10.5\n",
      "4\n",
      "10\n",
      "4\n",
      "23\n",
      "<class 'str'>\n",
      "10.5\n",
      "<class 'str'>\n",
      "23.0\n",
      "4.0\n",
      "<class 'float'>\n",
      "920\n",
      "2656.5\n"
     ]
    }
   ],
   "source": [
    "x= 23\n",
    "y= 10.5\n",
    "z= \"4\"\n",
    "\n",
    "print(\"estos son los datos para diseñar \" + str(x) + \" de ancho \"+ str(y)+ \" de alto \"+ z +\" de grosor\")\n",
    "\n",
    "print(x)\n",
    "print(y)\n",
    "print(z)\n",
    "\n",
    "print(int(y))\n",
    "print(int(z))\n",
    "\n",
    "print(str(x))\n",
    "print(type(str(x)))\n",
    "\n",
    "print(str(y))\n",
    "print(type(str(y)))\n",
    "\n",
    "print(float(x))\n",
    "print(float(z))\n",
    "print(type(float(x)))\n",
    "\n",
    "x= 23\n",
    "y= 10.5\n",
    "z= \"4\"\n",
    "\n",
    "y= int(y)\n",
    "z= int(z)\n",
    "\n",
    "print(x*y*z)\n",
    "\n",
    "print((x+y)*(y+z)*(x/z))\n",
    "\n"
   ]
  },
  {
   "cell_type": "markdown",
   "metadata": {},
   "source": [
    "14.12 Como pedir datos a un usuario en Python, se usa input"
   ]
  },
  {
   "cell_type": "code",
   "execution_count": 38,
   "metadata": {},
   "outputs": [
    {
     "name": "stdout",
     "output_type": "stream",
     "text": [
      "kia es una excelnte marca \n",
      "soluto es el  de mayor potencia\n",
      "18 caballos de fuerza  \n",
      "diesel que le da mayor rendimiento\n"
     ]
    }
   ],
   "source": [
    "marca= input(\"cual es tu marca de vehiculo? \")\n",
    "print(marca +\" \" + \"es una excelnte marca \")\n",
    "serie= input(\"Que seire de \" + marca + \" \"+ \"es la de tu vehiculo \" )\n",
    "print(serie +\" \" + \"es el  de mayor potencia\" )\n",
    "potencia= input(\"Que potencia tiene tu \" + marca +\" \" + serie + \" \")\n",
    "print(potencia + \" \"+ \"caballos de fuerza  \")\n",
    "combustible= input(\"Que tipo de combustible usa tu \" + marca + serie+\" \")\n",
    "print(combustible +\" \"+ \"que le da mayor rendimiento\")"
   ]
  },
  {
   "cell_type": "markdown",
   "metadata": {},
   "source": [
    "14.13 uso de una libreria en python\n",
    "\n",
    "### Pasos para instalar una librería en Visual Studio Code:\n",
    "\n",
    "1. **Abre la terminal en Visual Studio Code**  \n",
    "   - Puedes abrir la terminal desde el menú superior:  \n",
    "     `Terminal -> Nueva terminal`  \n",
    "   - O usando el atajo de teclado:  \n",
    "     `Ctrl + Ñ` (en distribuciones de teclado español).\n",
    "\n",
    "2. **Ejecuta el siguiente comando en la terminal**  \n",
    "   Reemplaza `nombre_libreria` con el nombre de la librería que deseas instalar:\n",
    "   ```bash\n",
    "   pip install nombre_libreria\n"
   ]
  },
  {
   "cell_type": "code",
   "execution_count": 41,
   "metadata": {},
   "outputs": [
    {
     "name": "stdout",
     "output_type": "stream",
     "text": [
      "Saludos cordiales jose\n",
      "20 años de experiencia\n",
      "ing datos e ia muestra su idoneidad\n",
      "8 estás avanzado\n"
     ]
    }
   ],
   "source": [
    "#pyttsx3 es una biblioteca de conversión de texto a voz en Python\n",
    "import pyttsx3\n",
    "\n",
    "# Inicializar el motor de texto a voz\n",
    "engine = pyttsx3.init()\n",
    "\n",
    "# Función para hablar y también imprimir en consola\n",
    "def speak_and_print(text):\n",
    "    print(text)\n",
    "    engine.say(text)  # Lo que se quiere decir\n",
    "    engine.runAndWait()  # Ejecuta la conversión a voz\n",
    "\n",
    "# Pedir el nombre\n",
    "nombre = input(\"¿Cómo te llamas? \")\n",
    "speak_and_print(\"Saludos cordiales \" + nombre)\n",
    "\n",
    "# Pedir la edad\n",
    "edad = input(\"¿Cuál es tu edad? \")\n",
    "speak_and_print(edad + \" años de experiencia\")\n",
    "\n",
    "# Pedir la carrera\n",
    "profesion = input(\"¿Qué carrera estudias? \")\n",
    "speak_and_print(profesion + \" muestra su idoneidad\")\n",
    "\n",
    "# Pedir el número de semestres\n",
    "tiempo = input(\"¿Cuántos semestres son? \")\n",
    "speak_and_print(tiempo + \" estás avanzado\")"
   ]
  },
  {
   "cell_type": "markdown",
   "metadata": {},
   "source": [
    "14.14 funciones matematicas en python "
   ]
  },
  {
   "cell_type": "code",
   "execution_count": 42,
   "metadata": {},
   "outputs": [
    {
     "name": "stdout",
     "output_type": "stream",
     "text": [
      "-5\n",
      "-4\n",
      "-5\n",
      "4.85\n",
      "23.522499999999997\n",
      "10.954451150103322\n",
      "45\n",
      "15\n"
     ]
    }
   ],
   "source": [
    "import math\n",
    "IVA = -4.85\n",
    "print(round(IVA)) #redondear al entero\n",
    "print(math.ceil(IVA))#redondear al mayor\n",
    "print(math.floor(IVA))#redondear al menor\n",
    "print(abs(IVA))#obtener valor absoluto\n",
    "print(pow(IVA,2)) #para elevar a la potencia\n",
    "print(math.sqrt(120))# obtener la raiz cuadrada\n",
    "\n",
    "x = 15\n",
    "y = 30\n",
    "z = 45\n",
    "print(max(x,y,z))#imprime el mayor vaalor\n",
    "print(min(x,y,z))#imprime el menor valor"
   ]
  },
  {
   "cell_type": "markdown",
   "metadata": {},
   "source": [
    "14.15 como manipular las cadenas de datos se hace por indexación o usando slice"
   ]
  },
  {
   "cell_type": "code",
   "execution_count": 43,
   "metadata": {},
   "outputs": [
    {
     "name": "stdout",
     "output_type": "stream",
     "text": [
      "land\n",
      "Cruizer\n",
      "ln rie\n",
      "reziurC dnal\n",
      "youtube\n"
     ]
    }
   ],
   "source": [
    "#esto es indexacion\n",
    "marca = \"land Cruizer\"\n",
    "#marca1= marca[0:4] imprimir del dato 0 al 4\n",
    "#marca2= marca[5:11] imprimir del dato 5 al 11\n",
    "#marca3= marca[0:11:2] imprimir cada dos caracteres\n",
    "marca1= marca[:4] # forma simmplicada del 0 al 4\n",
    "marca2= marca[5:] # forma simmplicada del 5 al 11\n",
    "marca3= marca[::2] # forma simmplicada de manipular la cadena cada 2 caracters\n",
    "marca4= marca[::-1]#invertir una cadena en python\n",
    "\n",
    "print(marca1)\n",
    "print(marca2)\n",
    "print(marca3)\n",
    "print(marca4)\n",
    "\n",
    "# eliminar y crear una subcadena de la cadena  en python \n",
    "# usando slice\n",
    "website = \"https://www.youtube.com\"\n",
    "slice= slice(12,-4)\n",
    "print(website[slice])"
   ]
  },
  {
   "cell_type": "markdown",
   "metadata": {},
   "source": [
    "14.16 Uso del if  y else"
   ]
  },
  {
   "cell_type": "code",
   "execution_count": 45,
   "metadata": {},
   "outputs": [
    {
     "name": "stdout",
     "output_type": "stream",
     "text": [
      "jose es un nombre profetico \n",
      "eres una persona mayor de edad ya puedes tomar cerveza \n",
      "kia es la marca mas vendida del mercado\n",
      "soluto es la version mas confortable \n",
      "es el de potencia standar \n"
     ]
    }
   ],
   "source": [
    "nombre = input(\"como te llamas? \" )\n",
    "print(nombre +\" \"+ \"es un nombre profetico \")\n",
    "edad = int(input(\"que edad tienes? \" ))\n",
    "if edad >= 18: \n",
    "    print(\"eres una persona mayor de edad ya puedes tomar cerveza \")\n",
    "else:\n",
    "     print(\"eres menor de edad conformate con la leche \")\n",
    "\n",
    "marca = input(\"que marca es tu vehiculo? \")\n",
    "print(marca + \" \"+ \"es la marca mas vendida del mercado\")\n",
    "serie = input(\"Cual es la serie de tu vehivulo? \")\n",
    "print(serie + \" \"+ \"es la version mas confortable \")\n",
    "potencia = int(input(\"Que cilindraje tine tu? \" + marca +\" \" ))\n",
    "if potencia == 3500:\n",
    "        print(\"tu \"+ marca + \" \"+ serie + \" \"+ \"es el de mayor potencia \")\n",
    "elif potencia >= 2000:\n",
    "        print(\"tu \"+ marca + \" \"+ serie + \" \"+ \"es el de potencia robusta\")\n",
    "else:\n",
    "        print(\"es el de potencia standar \")"
   ]
  },
  {
   "cell_type": "markdown",
   "metadata": {},
   "source": [
    "14.17 uso del if y else  con funcion de voz y sonido usando la libreria pyttsx3"
   ]
  },
  {
   "cell_type": "code",
   "execution_count": 46,
   "metadata": {},
   "outputs": [
    {
     "name": "stdout",
     "output_type": "stream",
     "text": [
      "kia es la marca mas vendida del mercado\n",
      "soluto es la version mas confortable \n",
      "es el de potencia standar \n"
     ]
    }
   ],
   "source": [
    "#pyttsx3 es una biblioteca de conversión de texto a voz en Python\n",
    "import pyttsx3\n",
    "\n",
    "# Inicializar el motor de texto a voz\n",
    "engine = pyttsx3.init()\n",
    "\n",
    "# Función para hablar y también imprimir en consola\n",
    "def speak_and_print(text):\n",
    "    print(text)\n",
    "    engine.say(text)  # Lo que se quiere decir\n",
    "    engine.runAndWait()  # Ejecuta la conversión a voz\n",
    "\n",
    "marca = input(\"que marca es tu vehiculo? \")\n",
    "speak_and_print(marca + \" \"+ \"es la marca mas vendida del mercado\")\n",
    "serie = input(\"Cual es la serie de tu vehivulo? \")\n",
    "speak_and_print(serie + \" \"+ \"es la version mas confortable \")\n",
    "potencia = int(input(\"Que cilindraje tine tu? \" + marca +\" \" ))\n",
    "if potencia == 3500:\n",
    "        speak_and_print(\"tu \"+ marca + \" \"+ serie + \" \"+ \"es el de mayor potencia \")\n",
    "elif potencia >= 2000:\n",
    "        speak_and_print(\"tu \"+ marca + \" \"+ serie + \" \"+ \"es el de potencia robusta\")\n",
    "else:\n",
    "        speak_and_print(\"es el de potencia standar \")   "
   ]
  }
 ],
 "metadata": {
  "kernelspec": {
   "display_name": "Python 3",
   "language": "python",
   "name": "python3"
  },
  "language_info": {
   "codemirror_mode": {
    "name": "ipython",
    "version": 3
   },
   "file_extension": ".py",
   "mimetype": "text/x-python",
   "name": "python",
   "nbconvert_exporter": "python",
   "pygments_lexer": "ipython3",
   "version": "3.11.9"
  }
 },
 "nbformat": 4,
 "nbformat_minor": 2
}
