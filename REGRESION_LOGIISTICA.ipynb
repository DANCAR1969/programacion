{
  "nbformat": 4,
  "nbformat_minor": 0,
  "metadata": {
    "colab": {
      "provenance": [],
      "authorship_tag": "ABX9TyP44Uh1+0NaAIjF2ZveKr4e",
      "include_colab_link": true
    },
    "kernelspec": {
      "name": "python3",
      "display_name": "Python 3"
    },
    "language_info": {
      "name": "python"
    }
  },
  "cells": [
    {
      "cell_type": "markdown",
      "metadata": {
        "id": "view-in-github",
        "colab_type": "text"
      },
      "source": [
        "<a href=\"https://colab.research.google.com/github/DANCAR1969/programacion/blob/master/REGRESION_LOGIISTICA.ipynb\" target=\"_parent\"><img src=\"https://colab.research.google.com/assets/colab-badge.svg\" alt=\"Open In Colab\"/></a>"
      ]
    },
    {
      "cell_type": "markdown",
      "source": [
        "**MODELO DE REGRECIÓN LOGÍSTICA**"
      ],
      "metadata": {
        "id": "JDp3rTs2n8G-"
      }
    },
    {
      "cell_type": "markdown",
      "source": [
        "Aunque su nombre sugiere \"regresión\", en realidad se utiliza para clasificación binaria (dos clases). Estima la probabilidad de que un ejemplo pertenezca a una clase utilizando la función sigmoide."
      ],
      "metadata": {
        "id": "JRJwTcOUoRAI"
      }
    },
    {
      "cell_type": "code",
      "source": [
        "# Instalar bibliotecas si es necesario\n",
        "!pip install -q scikit-learn matplotlib\n",
        "\n",
        "# Importar librerías\n",
        "from sklearn.datasets import load_breast_cancer\n",
        "from sklearn.linear_model import LogisticRegression\n",
        "from sklearn.model_selection import train_test_split\n",
        "from sklearn.metrics import classification_report\n",
        "\n",
        "# Cargar datos\n",
        "X, y = load_breast_cancer(return_X_y=True)\n",
        "\n",
        "# División de datos\n",
        "X_train, X_test, y_train, y_test = train_test_split(X, y, test_size=0.3, random_state=0)\n",
        "\n",
        "# Modelo de regresión logística\n",
        "model = LogisticRegression(max_iter=10000)\n",
        "model.fit(X_train, y_train)\n",
        "\n",
        "# Predicciones\n",
        "y_pred = model.predict(X_test)\n",
        "\n",
        "# Evaluación\n",
        "print(classification_report(y_test, y_pred))\n"
      ],
      "metadata": {
        "colab": {
          "base_uri": "https://localhost:8080/"
        },
        "id": "30w0OlQFoeP7",
        "outputId": "51cedc0a-ef4e-4fdf-fe81-ecb26fe7f506"
      },
      "execution_count": null,
      "outputs": [
        {
          "output_type": "stream",
          "name": "stdout",
          "text": [
            "              precision    recall  f1-score   support\n",
            "\n",
            "           0       0.91      0.98      0.95        63\n",
            "           1       0.99      0.94      0.97       108\n",
            "\n",
            "    accuracy                           0.96       171\n",
            "   macro avg       0.95      0.96      0.96       171\n",
            "weighted avg       0.96      0.96      0.96       171\n",
            "\n"
          ]
        }
      ]
    }
  ]
}