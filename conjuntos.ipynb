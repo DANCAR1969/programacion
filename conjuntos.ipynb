{
  "nbformat": 4,
  "nbformat_minor": 0,
  "metadata": {
    "colab": {
      "provenance": [],
      "authorship_tag": "ABX9TyPxNaGFizYxAhbI9W0zpsa8",
      "include_colab_link": true
    },
    "kernelspec": {
      "name": "python3",
      "display_name": "Python 3"
    },
    "language_info": {
      "name": "python"
    }
  },
  "cells": [
    {
      "cell_type": "markdown",
      "metadata": {
        "id": "view-in-github",
        "colab_type": "text"
      },
      "source": [
        "<a href=\"https://colab.research.google.com/github/DANCAR1969/programacion/blob/master/conjuntos.ipynb\" target=\"_parent\"><img src=\"https://colab.research.google.com/assets/colab-badge.svg\" alt=\"Open In Colab\"/></a>"
      ]
    },
    {
      "cell_type": "markdown",
      "source": [],
      "metadata": {
        "id": "Eq8JTZs7-EZh"
      }
    },
    {
      "cell_type": "markdown",
      "source": [
        "\n",
        "clase de conjuntos"
      ],
      "metadata": {
        "id": "0VKsrmeWqW1p"
      }
    },
    {
      "cell_type": "code",
      "source": [
        "consecutivo = {1, 2, 4, 5}\n",
        "\n",
        "# Agregar un elemento al conjunto\n",
        "consecutivo.add(3)\n",
        "print( \"mi nuevo  conjunto es:\", consecutivo)"
      ],
      "metadata": {
        "colab": {
          "base_uri": "https://localhost:8080/"
        },
        "id": "bVxvsW5mql5a",
        "outputId": "13c0d14d-3333-4954-a833-1aa6ddd23851"
      },
      "execution_count": null,
      "outputs": [
        {
          "output_type": "stream",
          "name": "stdout",
          "text": [
            "mi nuevo  conjunto es: {1, 2, 3, 4, 5}\n"
          ]
        }
      ]
    },
    {
      "cell_type": "markdown",
      "source": [],
      "metadata": {
        "id": "tHStWVl0xJas"
      }
    },
    {
      "cell_type": "markdown",
      "source": [
        "Eliminar un elemento"
      ],
      "metadata": {
        "id": "OC8eIDHtwjE6"
      }
    },
    {
      "cell_type": "code",
      "source": [
        "consecutivo = {1, 2, 3, 4, 5}\n",
        "consecutivo.remove(2)\n",
        "print(\"mi conjunto despues de eliminar es:\", consecutivo)"
      ],
      "metadata": {
        "colab": {
          "base_uri": "https://localhost:8080/"
        },
        "id": "7qomCO0hxBzc",
        "outputId": "8ee6b4a3-c95d-451a-adaf-8fa2bbef3e18"
      },
      "execution_count": null,
      "outputs": [
        {
          "output_type": "stream",
          "name": "stdout",
          "text": [
            "mi conjunto despues de eliminar es: {1, 3, 4, 5}\n"
          ]
        }
      ]
    },
    {
      "cell_type": "markdown",
      "source": [
        "Agregar un numero duplicado"
      ],
      "metadata": {
        "id": "N6eFZiaRyiVS"
      }
    },
    {
      "cell_type": "code",
      "source": [
        "conjunto = {1, 2, 3, 4, 5}\n",
        "conjunto.add(7)\n",
        "print(\"Después de intentar agregar duplicado:\", conjunto)"
      ],
      "metadata": {
        "colab": {
          "base_uri": "https://localhost:8080/"
        },
        "id": "XmGEKo7Yy3yc",
        "outputId": "9906433f-3d29-4fbf-c366-cdca062f3970"
      },
      "execution_count": null,
      "outputs": [
        {
          "output_type": "stream",
          "name": "stdout",
          "text": [
            "Después de intentar agregar duplicado: {1, 2, 3, 4, 5, 7}\n"
          ]
        }
      ]
    },
    {
      "cell_type": "markdown",
      "source": [
        "Vericacion de un elmento en el conjunto"
      ],
      "metadata": {
        "id": "wReLGJxy663I"
      }
    },
    {
      "cell_type": "code",
      "source": [
        "carrera = {1, 2, 3, 4, 5, 6,7, 8}\n",
        "print(\"¿El 10 está en el conjunto?\", 10 in carrera)"
      ],
      "metadata": {
        "colab": {
          "base_uri": "https://localhost:8080/"
        },
        "id": "z5wKKl1d7DeU",
        "outputId": "29e5a458-3fdb-45c3-abb4-a9af9b83a5ea"
      },
      "execution_count": null,
      "outputs": [
        {
          "output_type": "stream",
          "name": "stdout",
          "text": [
            "¿El 10 está en el conjunto? False\n"
          ]
        }
      ]
    },
    {
      "cell_type": "markdown",
      "source": [
        "**Operaciones entre conjuntos**"
      ],
      "metadata": {
        "id": "cX_KuiKIF9pf"
      }
    },
    {
      "cell_type": "markdown",
      "source": [
        "Union de conjuntos"
      ],
      "metadata": {
        "id": "vosLs7cYGYj9"
      }
    },
    {
      "cell_type": "code",
      "source": [
        "conjunto = {1, 2, 3, 4, 5}\n",
        "conjunto2 = {4, 5, 6, 7}\n",
        "union = conjunto | conjunto2\n",
        "print(\"union\", union)"
      ],
      "metadata": {
        "colab": {
          "base_uri": "https://localhost:8080/"
        },
        "id": "o-15Bi5eGh9X",
        "outputId": "e7aaab63-da42-40ed-bff9-98e50513f0ca"
      },
      "execution_count": null,
      "outputs": [
        {
          "output_type": "stream",
          "name": "stdout",
          "text": [
            "union {1, 2, 3, 4, 5, 6, 7}\n"
          ]
        }
      ]
    },
    {
      "cell_type": "markdown",
      "source": [
        "Interseccion de conjuntos"
      ],
      "metadata": {
        "id": "49JF4MYhIkgR"
      }
    },
    {
      "cell_type": "code",
      "source": [
        "estrategia = {2,4,6,8}\n",
        "tactica = {1,3,5,2, 7,9}\n",
        "interseccion = estrategia & tactica\n",
        "print(\"la interseccion de mis  conjuntos es \", interseccion)"
      ],
      "metadata": {
        "colab": {
          "base_uri": "https://localhost:8080/"
        },
        "id": "Ah37Ep_LItm8",
        "outputId": "37aec439-eda4-4811-b61e-ed3965b070a2"
      },
      "execution_count": null,
      "outputs": [
        {
          "output_type": "stream",
          "name": "stdout",
          "text": [
            "la interseccion de mis  conjuntos es  {2}\n"
          ]
        }
      ]
    },
    {
      "cell_type": "markdown",
      "source": [
        "diferencia entre coonjuntos"
      ],
      "metadata": {
        "id": "eBNW8WJ9LBrv"
      }
    },
    {
      "cell_type": "code",
      "source": [
        "estrategia = {2,4,6,8}\n",
        "tactica = {1,3,5,2, 7,9}\n",
        "#diferencia = estrategia - tactica\n",
        "#print(\"la difrencia e mis conjuntos es \", diferencia)\n",
        "diferencia = tactica - estrategia\n",
        "print(\"la diferencia es \" , diferencia)"
      ],
      "metadata": {
        "colab": {
          "base_uri": "https://localhost:8080/"
        },
        "id": "fGD4o3bMLGjB",
        "outputId": "ccf84ae3-f668-4578-e4a8-97e5274b7901"
      },
      "execution_count": null,
      "outputs": [
        {
          "output_type": "stream",
          "name": "stdout",
          "text": [
            "la diferencia es  {1, 3, 5, 7, 9}\n"
          ]
        }
      ]
    }
  ]
}