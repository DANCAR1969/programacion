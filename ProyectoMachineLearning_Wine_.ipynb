{
  "nbformat": 4,
  "nbformat_minor": 0,
  "metadata": {
    "colab": {
      "provenance": [],
      "include_colab_link": true
    },
    "kernelspec": {
      "name": "python3",
      "display_name": "Python 3"
    },
    "language_info": {
      "name": "python"
    }
  },
  "cells": [
    {
      "cell_type": "markdown",
      "metadata": {
        "id": "view-in-github",
        "colab_type": "text"
      },
      "source": [
        "<a href=\"https://colab.research.google.com/github/DANCAR1969/programacion/blob/master/ProyectoMachineLearning_Wine_.ipynb\" target=\"_parent\"><img src=\"https://colab.research.google.com/assets/colab-badge.svg\" alt=\"Open In Colab\"/></a>"
      ]
    },
    {
      "cell_type": "markdown",
      "source": [
        "**Descripción del conjunto de datos \"Wine\":**\n",
        "\n",
        "El conjunto de datos Wine contiene 178 muestras de vinos provenientes de tres cultivos diferentes. Cada vino tiene 13 características numéricas que corresponden a propiedades físico-químicas del vino, como el contenido de alcohol, la acidez, los flavonoides, entre otros.\n",
        "\n",
        "Estructura del dataset:\n",
        "\n",
        "13 características numéricas sobre el vino.\n",
        "\n",
        "3 clases de vino (cada una correspondiente a un tipo diferente de vino)."
      ],
      "metadata": {
        "id": "PWu0GIhf6klq"
      }
    },
    {
      "cell_type": "code",
      "source": [
        "#Importación de librerías\n",
        "import numpy as np  # Operaciones matemáticas y arrays\n",
        "import pandas as pd  # Importa pandas para manipulación y análisis de datos\n",
        "import seaborn as sns  # Seaborn para visualización estadística\n",
        "import matplotlib.pyplot as plt  # Matplotlib para crear gráficos\n",
        "from sklearn.model_selection import train_test_split  # Función para dividir los datos en entrenamiento y prueba\n",
        "from sklearn.preprocessing import StandardScaler  # Escalador estándar para normalizar los datos\n",
        "from sklearn.linear_model import LogisticRegression  # Modelo de regresión logística\n",
        "from sklearn.metrics import accuracy_score, classification_report, confusion_matrix  # Métricas para evaluar el modelo\n"
      ],
      "metadata": {
        "id": "OSUusnwk9Rxp"
      },
      "execution_count": null,
      "outputs": []
    },
    {
      "cell_type": "code",
      "source": [
        "#Importar Datasafe\n",
        "#https://archive.ics.uci.edu/dataset/109/wine\n",
        "from sklearn.datasets import load_wine  # Importa la función para cargar el dataset Wine de sklearn\n",
        "data = load_wine()  # Carga el dataset Wine y lo asigna a la variable 'data'\n",
        "df = pd.DataFrame(data.data, columns=data.feature_names)  # Convierte los datos de características en un DataFrame de pandas\n",
        "df['target'] = data.target  # Añade la columna 'target' al DataFrame con las etiquetas de las clases (tipos de vino)\n",
        "\n",
        "# Mapea las etiquetas numéricas de 'target' a los nombres de las clases (tipos de vino)\n",
        "df['target'] = df['target'].map({0: 'Clase 1', 1: 'Clase 2', 2: 'Clase 3'})"
      ],
      "metadata": {
        "id": "Gr1snPOE95XN"
      },
      "execution_count": null,
      "outputs": []
    },
    {
      "cell_type": "code",
      "source": [
        "# Exploración inicial\n",
        "display(df.head())  # Muestra las primeras 5 filas del DataFrame para una vista previa rápida\n",
        "print(df.info())  # Muestra información general sobre el DataFrame (como el tipo de datos y los valores nulos)\n",
        "print(df.describe())  # Muestra estadísticas descriptivas de las columnas numéricas del DataFrame\n"
      ],
      "metadata": {
        "id": "Y0G2zEDr-Fzo"
      },
      "execution_count": null,
      "outputs": []
    },
    {
      "cell_type": "code",
      "source": [
        "# Visualización de datos\n",
        "#Elección de columnas para el gráfico de pares\n",
        "columnas_a_mostrar = ['alcohol', 'malic_acid', 'flavanoids', 'alcalinity_of_ash', 'proanthocyanins', 'total_phenols', 'color_intensity']\n",
        "# Crear un gráfico de pares solo para las columnas seleccionadas\n",
        "sns.pairplot(df, hue='target', vars=columnas_a_mostrar)\n",
        "plt.show()  # Muestra el gráfico generado\n",
        "\n"
      ],
      "metadata": {
        "id": "XaxDC2bT-KdQ"
      },
      "execution_count": null,
      "outputs": []
    },
    {
      "cell_type": "code",
      "source": [
        "# Correlación entre variables\n",
        "plt.figure(figsize=(8, 6))  # Establece el tamaño de la figura para el gráfico\n",
        "sns.heatmap(df.corr(numeric_only=True), annot=True, cmap='coolwarm')  # Crea un mapa de calor de la matriz de correlación entre las variables numéricas\n",
        "plt.title(\"Matriz de Correlación\")  # Añade un título al gráfico\n",
        "plt.show()  # Muestra el gráfico generado\n"
      ],
      "metadata": {
        "id": "8lyGR3q3-Nfd"
      },
      "execution_count": null,
      "outputs": []
    },
    {
      "cell_type": "code",
      "source": [
        "# División en conjunto de entrenamiento y prueba\n",
        "X = df.drop(columns=['target'])  # Elimina la columna 'target' para obtener las características (X)\n",
        "y = df['target']  # Asigna la columna 'target' como las etiquetas (y)\n",
        "X_train, X_test, y_train, y_test = train_test_split(X, y, test_size=0.2, random_state=42)  # Divide los datos en conjuntos de entrenamiento y prueba (80% entrenamiento, 20% prueba)\n"
      ],
      "metadata": {
        "id": "0s-1i7w8-QAb"
      },
      "execution_count": null,
      "outputs": []
    },
    {
      "cell_type": "code",
      "source": [
        "# Estandarización de datos\n",
        "scaler = StandardScaler()  # Crea una instancia del escalador para normalizar los datos\n",
        "X_train_scaled = scaler.fit_transform(X_train)  # Ajusta el escalador a los datos de entrenamiento y los escala\n",
        "X_test_scaled = scaler.transform(X_test)  # Escala los datos de prueba usando el mismo escalador ajustado"
      ],
      "metadata": {
        "id": "0YTxUFf9-Xwl"
      },
      "execution_count": null,
      "outputs": []
    },
    {
      "cell_type": "code",
      "source": [
        "# Modelo de Regresión Logística\n",
        "model = LogisticRegression(multi_class='ovr', max_iter=200)  # Crea una instancia del modelo de regresión logística con clasificación multi-clase (uno contra el resto) y 200 iteraciones\n",
        "model.fit(X_train_scaled, y_train)  # Entrena el modelo utilizando los datos de entrenamiento escalados\n",
        "y_pred = model.predict(X_test_scaled)  # Realiza predicciones sobre los datos de prueba escalados\n"
      ],
      "metadata": {
        "id": "DzTR0QXe-dWA"
      },
      "execution_count": null,
      "outputs": []
    },
    {
      "cell_type": "code",
      "execution_count": null,
      "metadata": {
        "id": "QHabIeyc6grP"
      },
      "outputs": [],
      "source": [
        "\n",
        "# Evaluación del modelo\n",
        "print(\"Accuracy:\", accuracy_score(y_test, y_pred))  # Imprime la precisión del modelo al comparar las predicciones con las etiquetas reales\n",
        "print(\"\\nReporte de clasificación:\\n\", classification_report(y_test, y_pred))  # Imprime un reporte con métricas como precisión, recall y f1-score para cada clase\n",
        "print(\"\\nMatriz de confusión:\\n\", confusion_matrix(y_test, y_pred))  # Imprime la matriz de confusión para evaluar el desempeño del modelo\n"
      ]
    }
  ]
}