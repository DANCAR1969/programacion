{
  "nbformat": 4,
  "nbformat_minor": 0,
  "metadata": {
    "colab": {
      "provenance": [],
      "authorship_tag": "ABX9TyMjv9NexXXCz0NYbdOspfGj",
      "include_colab_link": true
    },
    "kernelspec": {
      "name": "python3",
      "display_name": "Python 3"
    },
    "language_info": {
      "name": "python"
    }
  },
  "cells": [
    {
      "cell_type": "markdown",
      "metadata": {
        "id": "view-in-github",
        "colab_type": "text"
      },
      "source": [
        "<a href=\"https://colab.research.google.com/github/DANCAR1969/programacion/blob/master/Calidad_de_dadatos.ipynb\" target=\"_parent\"><img src=\"https://colab.research.google.com/assets/colab-badge.svg\" alt=\"Open In Colab\"/></a>"
      ]
    },
    {
      "cell_type": "markdown",
      "source": [
        "# Sección nueva"
      ],
      "metadata": {
        "id": "NKuhMUqQgG8Z"
      }
    },
    {
      "cell_type": "code",
      "execution_count": null,
      "metadata": {
        "colab": {
          "base_uri": "https://localhost:8080/"
        },
        "id": "QViRetEZf_84",
        "outputId": "d6aa46a4-0cc3-40ca-d7d9-42080a38222c"
      },
      "outputs": [
        {
          "output_type": "stream",
          "name": "stdout",
          "text": [
            "Valores faltantes:\n",
            "nombre            1\n",
            "edad              0\n",
            "email             0\n",
            "fecha_registro    1\n",
            "dtype: int64\n",
            "\n",
            "Edades fuera de rango:\n",
            "  nombre  edad      email fecha_registro\n",
            "2   None    -1  sin_email     2022-13-45\n",
            "\n",
            "Emails inválidos:\n",
            "  nombre  edad      email fecha_registro\n",
            "2   None    -1  sin_email     2022-13-45\n",
            "\n",
            "Fechas inválidas:\n",
            "Error al convertir fechas: time data \"2022-13-45\" doesn't match format \"%Y-%m-%d\", at position 2. You might want to try:\n",
            "    - passing `format` if your strings have a consistent format;\n",
            "    - passing `format='ISO8601'` if your strings are all ISO8601 but not necessarily in exactly the same format;\n",
            "    - passing `format='mixed'`, and the format will be inferred for each element individually. You might want to use `dayfirst` alongside this.\n",
            "\n",
            "Datos corregidos:\n",
            "        nombre  edad            email fecha_registro\n",
            "0       Carlos    34  carlos@mail.com     2022-01-10\n",
            "1          Ana    29     ana@mail.com     2022-02-15\n",
            "2  Desconocido    -1        sin_email     2022-13-45\n",
            "3         Luis    42    luis@mail.com           None\n"
          ]
        }
      ],
      "source": [
        "import pandas as pd\n",
        "\n",
        "# Cargar datos\n",
        "df = pd.DataFrame({\n",
        "    \"nombre\": [\"Carlos\", \"Ana\", None, \"Luis\"],\n",
        "    \"edad\": [34, 29, -1, 42],\n",
        "    \"email\": [\"carlos@mail.com\", \"ana@mail.com\", \"sin_email\", \"luis@mail.com\"],\n",
        "    \"fecha_registro\": [\"2022-01-10\", \"2022-02-15\", \"2022-13-45\", None],\n",
        "})\n",
        "\n",
        "# 1. Verificar valores faltantes\n",
        "print(\"Valores faltantes:\")\n",
        "print(df.isnull().sum())\n",
        "\n",
        "# 2. Verificar valores inválidos\n",
        "# Edad negativa o fuera de rango\n",
        "print(\"\\nEdades fuera de rango:\")\n",
        "print(df[(df['edad'] < 0) | (df['edad'] > 120)])\n",
        "\n",
        "# Emails inválidos\n",
        "print(\"\\nEmails inválidos:\")\n",
        "print(df[~df['email'].str.contains(\"@\")])\n",
        "\n",
        "# Fechas inválidas\n",
        "print(\"\\nFechas inválidas:\")\n",
        "try:\n",
        "    df['fecha_registro'] = pd.to_datetime(df['fecha_registro'])\n",
        "except Exception as e:\n",
        "    print(f\"Error al convertir fechas: {e}\")\n",
        "\n",
        "# 3. Completar valores faltantes\n",
        "# Reemplazar None en 'nombre' con \"Desconocido\"\n",
        "df['nombre'] = df['nombre'].fillna(\"Desconocido\")\n",
        "\n",
        "# 4. Verificar consistencia\n",
        "# Nombres en mayúsculas para uniformidad\n",
        "df['nombre'] = df['nombre'].str.title()\n",
        "\n",
        "print(\"\\nDatos corregidos:\")\n",
        "print(df)\n"
      ]
    }
  ]
}