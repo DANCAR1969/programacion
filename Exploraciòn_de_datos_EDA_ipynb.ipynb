{
  "nbformat": 4,
  "nbformat_minor": 0,
  "metadata": {
    "colab": {
      "provenance": [],
      "include_colab_link": true
    },
    "kernelspec": {
      "name": "python3",
      "display_name": "Python 3"
    },
    "language_info": {
      "name": "python"
    }
  },
  "cells": [
    {
      "cell_type": "markdown",
      "metadata": {
        "id": "view-in-github",
        "colab_type": "text"
      },
      "source": [
        "<a href=\"https://colab.research.google.com/github/DANCAR1969/programacion/blob/master/Exploraci%C3%B2n_de_datos_EDA_ipynb.ipynb\" target=\"_parent\"><img src=\"https://colab.research.google.com/assets/colab-badge.svg\" alt=\"Open In Colab\"/></a>"
      ]
    },
    {
      "cell_type": "markdown",
      "source": [
        "**EJERCICIO 1.**\n",
        "Clasificación de especies utilizando el Data set Iris"
      ],
      "metadata": {
        "id": "iu9dc94TGPkM"
      }
    },
    {
      "cell_type": "markdown",
      "source": [
        "1. Cargando datos usando Pandas"
      ],
      "metadata": {
        "id": "Sdq8k9vYGa3K"
      }
    },
    {
      "cell_type": "code",
      "source": [
        "import pandas as pd\n",
        "\n",
        "Iris = pd.read_csv(\"Iris.csv\")\n",
        "print(Iris.head())\n"
      ],
      "metadata": {
        "colab": {
          "base_uri": "https://localhost:8080/"
        },
        "id": "Q-GE9KWuGpqI",
        "outputId": "b8dbccf1-b34d-429e-dbdb-3273982b92ce"
      },
      "execution_count": null,
      "outputs": [
        {
          "output_type": "stream",
          "name": "stdout",
          "text": [
            "   Id  SepalLengthCm  SepalWidthCm  PetalLengthCm  PetalWidthCm      Species\n",
            "0   1            5.1           3.5            1.4           0.2  Iris-setosa\n",
            "1   2            4.9           3.0            1.4           0.2  Iris-setosa\n",
            "2   3            4.7           3.2            1.3           0.2  Iris-setosa\n",
            "3   4            4.6           3.1            1.5           0.2  Iris-setosa\n",
            "4   5            5.0           3.6            1.4           0.2  Iris-setosa\n"
          ]
        }
      ]
    },
    {
      "cell_type": "markdown",
      "source": [
        "Verificando"
      ],
      "metadata": {
        "id": "vWnfHnT3aZr_"
      }
    },
    {
      "cell_type": "markdown",
      "source": [
        "1.1 Importando numpy y matplotlib.pyplot"
      ],
      "metadata": {
        "id": "HocqTYmghPEf"
      }
    },
    {
      "cell_type": "code",
      "source": [
        "import numpy as np\n",
        "import matplotlib.pyplot as plt"
      ],
      "metadata": {
        "id": "HUCbO9WahZr8"
      },
      "execution_count": null,
      "outputs": []
    },
    {
      "cell_type": "markdown",
      "source": [
        "Explorar datos"
      ],
      "metadata": {
        "id": "VomRpNyC2XNu"
      }
    },
    {
      "cell_type": "markdown",
      "source": [
        "Verificando que columnas tienen los datos"
      ],
      "metadata": {
        "id": "a4K6aOol2jat"
      }
    },
    {
      "cell_type": "code",
      "source": [
        "Iris.columns"
      ],
      "metadata": {
        "colab": {
          "base_uri": "https://localhost:8080/"
        },
        "id": "AxI2wfQw2ZOt",
        "outputId": "3eae599a-c2a5-43c8-8fe8-eb19192de7b4"
      },
      "execution_count": null,
      "outputs": [
        {
          "output_type": "execute_result",
          "data": {
            "text/plain": [
              "Index(['Id', 'SepalLengthCm', 'SepalWidthCm', 'PetalLengthCm', 'PetalWidthCm',\n",
              "       'Species'],\n",
              "      dtype='object')"
            ]
          },
          "metadata": {},
          "execution_count": 61
        }
      ]
    },
    {
      "cell_type": "markdown",
      "source": [
        "Verificando el tamaño de los datos"
      ],
      "metadata": {
        "id": "I7rXFK1i2sWD"
      }
    },
    {
      "cell_type": "code",
      "source": [
        "Iris.shape"
      ],
      "metadata": {
        "colab": {
          "base_uri": "https://localhost:8080/"
        },
        "id": "4VX6LcQR2vL7",
        "outputId": "29f4c02e-9365-4dfc-90e2-a52cab559557"
      },
      "execution_count": null,
      "outputs": [
        {
          "output_type": "execute_result",
          "data": {
            "text/plain": [
              "(150, 6)"
            ]
          },
          "metadata": {},
          "execution_count": 62
        }
      ]
    },
    {
      "cell_type": "markdown",
      "source": [
        "Revisando si existen valores nulos"
      ],
      "metadata": {
        "id": "OlTUGYtP22XO"
      }
    },
    {
      "cell_type": "code",
      "source": [
        "Iris.info()"
      ],
      "metadata": {
        "colab": {
          "base_uri": "https://localhost:8080/"
        },
        "id": "AUt1hOo5242k",
        "outputId": "00d3224b-87f6-4f5e-ea5c-79b50795b53b"
      },
      "execution_count": null,
      "outputs": [
        {
          "output_type": "stream",
          "name": "stdout",
          "text": [
            "<class 'pandas.core.frame.DataFrame'>\n",
            "RangeIndex: 150 entries, 0 to 149\n",
            "Data columns (total 6 columns):\n",
            " #   Column         Non-Null Count  Dtype  \n",
            "---  ------         --------------  -----  \n",
            " 0   Id             150 non-null    int64  \n",
            " 1   SepalLengthCm  150 non-null    float64\n",
            " 2   SepalWidthCm   150 non-null    float64\n",
            " 3   PetalLengthCm  150 non-null    float64\n",
            " 4   PetalWidthCm   150 non-null    float64\n",
            " 5   Species        150 non-null    object \n",
            "dtypes: float64(4), int64(1), object(1)\n",
            "memory usage: 7.2+ KB\n"
          ]
        }
      ]
    },
    {
      "cell_type": "markdown",
      "source": [
        "2.1 Describiendo variables númericas"
      ],
      "metadata": {
        "id": "X86QsvpLgvbh"
      }
    },
    {
      "cell_type": "code",
      "source": [
        "Iris.describe()"
      ],
      "metadata": {
        "colab": {
          "base_uri": "https://localhost:8080/",
          "height": 300
        },
        "id": "efWzItBdkLyC",
        "outputId": "cf0771d6-d3a7-473a-870b-c392a0dedb49"
      },
      "execution_count": null,
      "outputs": [
        {
          "output_type": "execute_result",
          "data": {
            "text/plain": [
              "               Id  SepalLengthCm  SepalWidthCm  PetalLengthCm  PetalWidthCm\n",
              "count  150.000000     150.000000    150.000000     150.000000    150.000000\n",
              "mean    75.500000       5.843333      3.054000       3.758667      1.198667\n",
              "std     43.445368       0.828066      0.433594       1.764420      0.763161\n",
              "min      1.000000       4.300000      2.000000       1.000000      0.100000\n",
              "25%     38.250000       5.100000      2.800000       1.600000      0.300000\n",
              "50%     75.500000       5.800000      3.000000       4.350000      1.300000\n",
              "75%    112.750000       6.400000      3.300000       5.100000      1.800000\n",
              "max    150.000000       7.900000      4.400000       6.900000      2.500000"
            ],
            "text/html": [
              "\n",
              "  <div id=\"df-3670081a-127c-4f57-8a57-6b0ac7444673\" class=\"colab-df-container\">\n",
              "    <div>\n",
              "<style scoped>\n",
              "    .dataframe tbody tr th:only-of-type {\n",
              "        vertical-align: middle;\n",
              "    }\n",
              "\n",
              "    .dataframe tbody tr th {\n",
              "        vertical-align: top;\n",
              "    }\n",
              "\n",
              "    .dataframe thead th {\n",
              "        text-align: right;\n",
              "    }\n",
              "</style>\n",
              "<table border=\"1\" class=\"dataframe\">\n",
              "  <thead>\n",
              "    <tr style=\"text-align: right;\">\n",
              "      <th></th>\n",
              "      <th>Id</th>\n",
              "      <th>SepalLengthCm</th>\n",
              "      <th>SepalWidthCm</th>\n",
              "      <th>PetalLengthCm</th>\n",
              "      <th>PetalWidthCm</th>\n",
              "    </tr>\n",
              "  </thead>\n",
              "  <tbody>\n",
              "    <tr>\n",
              "      <th>count</th>\n",
              "      <td>150.000000</td>\n",
              "      <td>150.000000</td>\n",
              "      <td>150.000000</td>\n",
              "      <td>150.000000</td>\n",
              "      <td>150.000000</td>\n",
              "    </tr>\n",
              "    <tr>\n",
              "      <th>mean</th>\n",
              "      <td>75.500000</td>\n",
              "      <td>5.843333</td>\n",
              "      <td>3.054000</td>\n",
              "      <td>3.758667</td>\n",
              "      <td>1.198667</td>\n",
              "    </tr>\n",
              "    <tr>\n",
              "      <th>std</th>\n",
              "      <td>43.445368</td>\n",
              "      <td>0.828066</td>\n",
              "      <td>0.433594</td>\n",
              "      <td>1.764420</td>\n",
              "      <td>0.763161</td>\n",
              "    </tr>\n",
              "    <tr>\n",
              "      <th>min</th>\n",
              "      <td>1.000000</td>\n",
              "      <td>4.300000</td>\n",
              "      <td>2.000000</td>\n",
              "      <td>1.000000</td>\n",
              "      <td>0.100000</td>\n",
              "    </tr>\n",
              "    <tr>\n",
              "      <th>25%</th>\n",
              "      <td>38.250000</td>\n",
              "      <td>5.100000</td>\n",
              "      <td>2.800000</td>\n",
              "      <td>1.600000</td>\n",
              "      <td>0.300000</td>\n",
              "    </tr>\n",
              "    <tr>\n",
              "      <th>50%</th>\n",
              "      <td>75.500000</td>\n",
              "      <td>5.800000</td>\n",
              "      <td>3.000000</td>\n",
              "      <td>4.350000</td>\n",
              "      <td>1.300000</td>\n",
              "    </tr>\n",
              "    <tr>\n",
              "      <th>75%</th>\n",
              "      <td>112.750000</td>\n",
              "      <td>6.400000</td>\n",
              "      <td>3.300000</td>\n",
              "      <td>5.100000</td>\n",
              "      <td>1.800000</td>\n",
              "    </tr>\n",
              "    <tr>\n",
              "      <th>max</th>\n",
              "      <td>150.000000</td>\n",
              "      <td>7.900000</td>\n",
              "      <td>4.400000</td>\n",
              "      <td>6.900000</td>\n",
              "      <td>2.500000</td>\n",
              "    </tr>\n",
              "  </tbody>\n",
              "</table>\n",
              "</div>\n",
              "    <div class=\"colab-df-buttons\">\n",
              "\n",
              "  <div class=\"colab-df-container\">\n",
              "    <button class=\"colab-df-convert\" onclick=\"convertToInteractive('df-3670081a-127c-4f57-8a57-6b0ac7444673')\"\n",
              "            title=\"Convert this dataframe to an interactive table.\"\n",
              "            style=\"display:none;\">\n",
              "\n",
              "  <svg xmlns=\"http://www.w3.org/2000/svg\" height=\"24px\" viewBox=\"0 -960 960 960\">\n",
              "    <path d=\"M120-120v-720h720v720H120Zm60-500h600v-160H180v160Zm220 220h160v-160H400v160Zm0 220h160v-160H400v160ZM180-400h160v-160H180v160Zm440 0h160v-160H620v160ZM180-180h160v-160H180v160Zm440 0h160v-160H620v160Z\"/>\n",
              "  </svg>\n",
              "    </button>\n",
              "\n",
              "  <style>\n",
              "    .colab-df-container {\n",
              "      display:flex;\n",
              "      gap: 12px;\n",
              "    }\n",
              "\n",
              "    .colab-df-convert {\n",
              "      background-color: #E8F0FE;\n",
              "      border: none;\n",
              "      border-radius: 50%;\n",
              "      cursor: pointer;\n",
              "      display: none;\n",
              "      fill: #1967D2;\n",
              "      height: 32px;\n",
              "      padding: 0 0 0 0;\n",
              "      width: 32px;\n",
              "    }\n",
              "\n",
              "    .colab-df-convert:hover {\n",
              "      background-color: #E2EBFA;\n",
              "      box-shadow: 0px 1px 2px rgba(60, 64, 67, 0.3), 0px 1px 3px 1px rgba(60, 64, 67, 0.15);\n",
              "      fill: #174EA6;\n",
              "    }\n",
              "\n",
              "    .colab-df-buttons div {\n",
              "      margin-bottom: 4px;\n",
              "    }\n",
              "\n",
              "    [theme=dark] .colab-df-convert {\n",
              "      background-color: #3B4455;\n",
              "      fill: #D2E3FC;\n",
              "    }\n",
              "\n",
              "    [theme=dark] .colab-df-convert:hover {\n",
              "      background-color: #434B5C;\n",
              "      box-shadow: 0px 1px 3px 1px rgba(0, 0, 0, 0.15);\n",
              "      filter: drop-shadow(0px 1px 2px rgba(0, 0, 0, 0.3));\n",
              "      fill: #FFFFFF;\n",
              "    }\n",
              "  </style>\n",
              "\n",
              "    <script>\n",
              "      const buttonEl =\n",
              "        document.querySelector('#df-3670081a-127c-4f57-8a57-6b0ac7444673 button.colab-df-convert');\n",
              "      buttonEl.style.display =\n",
              "        google.colab.kernel.accessAllowed ? 'block' : 'none';\n",
              "\n",
              "      async function convertToInteractive(key) {\n",
              "        const element = document.querySelector('#df-3670081a-127c-4f57-8a57-6b0ac7444673');\n",
              "        const dataTable =\n",
              "          await google.colab.kernel.invokeFunction('convertToInteractive',\n",
              "                                                    [key], {});\n",
              "        if (!dataTable) return;\n",
              "\n",
              "        const docLinkHtml = 'Like what you see? Visit the ' +\n",
              "          '<a target=\"_blank\" href=https://colab.research.google.com/notebooks/data_table.ipynb>data table notebook</a>'\n",
              "          + ' to learn more about interactive tables.';\n",
              "        element.innerHTML = '';\n",
              "        dataTable['output_type'] = 'display_data';\n",
              "        await google.colab.output.renderOutput(dataTable, element);\n",
              "        const docLink = document.createElement('div');\n",
              "        docLink.innerHTML = docLinkHtml;\n",
              "        element.appendChild(docLink);\n",
              "      }\n",
              "    </script>\n",
              "  </div>\n",
              "\n",
              "\n",
              "<div id=\"df-40841f5e-c95b-4d09-87df-5003457a0f92\">\n",
              "  <button class=\"colab-df-quickchart\" onclick=\"quickchart('df-40841f5e-c95b-4d09-87df-5003457a0f92')\"\n",
              "            title=\"Suggest charts\"\n",
              "            style=\"display:none;\">\n",
              "\n",
              "<svg xmlns=\"http://www.w3.org/2000/svg\" height=\"24px\"viewBox=\"0 0 24 24\"\n",
              "     width=\"24px\">\n",
              "    <g>\n",
              "        <path d=\"M19 3H5c-1.1 0-2 .9-2 2v14c0 1.1.9 2 2 2h14c1.1 0 2-.9 2-2V5c0-1.1-.9-2-2-2zM9 17H7v-7h2v7zm4 0h-2V7h2v10zm4 0h-2v-4h2v4z\"/>\n",
              "    </g>\n",
              "</svg>\n",
              "  </button>\n",
              "\n",
              "<style>\n",
              "  .colab-df-quickchart {\n",
              "      --bg-color: #E8F0FE;\n",
              "      --fill-color: #1967D2;\n",
              "      --hover-bg-color: #E2EBFA;\n",
              "      --hover-fill-color: #174EA6;\n",
              "      --disabled-fill-color: #AAA;\n",
              "      --disabled-bg-color: #DDD;\n",
              "  }\n",
              "\n",
              "  [theme=dark] .colab-df-quickchart {\n",
              "      --bg-color: #3B4455;\n",
              "      --fill-color: #D2E3FC;\n",
              "      --hover-bg-color: #434B5C;\n",
              "      --hover-fill-color: #FFFFFF;\n",
              "      --disabled-bg-color: #3B4455;\n",
              "      --disabled-fill-color: #666;\n",
              "  }\n",
              "\n",
              "  .colab-df-quickchart {\n",
              "    background-color: var(--bg-color);\n",
              "    border: none;\n",
              "    border-radius: 50%;\n",
              "    cursor: pointer;\n",
              "    display: none;\n",
              "    fill: var(--fill-color);\n",
              "    height: 32px;\n",
              "    padding: 0;\n",
              "    width: 32px;\n",
              "  }\n",
              "\n",
              "  .colab-df-quickchart:hover {\n",
              "    background-color: var(--hover-bg-color);\n",
              "    box-shadow: 0 1px 2px rgba(60, 64, 67, 0.3), 0 1px 3px 1px rgba(60, 64, 67, 0.15);\n",
              "    fill: var(--button-hover-fill-color);\n",
              "  }\n",
              "\n",
              "  .colab-df-quickchart-complete:disabled,\n",
              "  .colab-df-quickchart-complete:disabled:hover {\n",
              "    background-color: var(--disabled-bg-color);\n",
              "    fill: var(--disabled-fill-color);\n",
              "    box-shadow: none;\n",
              "  }\n",
              "\n",
              "  .colab-df-spinner {\n",
              "    border: 2px solid var(--fill-color);\n",
              "    border-color: transparent;\n",
              "    border-bottom-color: var(--fill-color);\n",
              "    animation:\n",
              "      spin 1s steps(1) infinite;\n",
              "  }\n",
              "\n",
              "  @keyframes spin {\n",
              "    0% {\n",
              "      border-color: transparent;\n",
              "      border-bottom-color: var(--fill-color);\n",
              "      border-left-color: var(--fill-color);\n",
              "    }\n",
              "    20% {\n",
              "      border-color: transparent;\n",
              "      border-left-color: var(--fill-color);\n",
              "      border-top-color: var(--fill-color);\n",
              "    }\n",
              "    30% {\n",
              "      border-color: transparent;\n",
              "      border-left-color: var(--fill-color);\n",
              "      border-top-color: var(--fill-color);\n",
              "      border-right-color: var(--fill-color);\n",
              "    }\n",
              "    40% {\n",
              "      border-color: transparent;\n",
              "      border-right-color: var(--fill-color);\n",
              "      border-top-color: var(--fill-color);\n",
              "    }\n",
              "    60% {\n",
              "      border-color: transparent;\n",
              "      border-right-color: var(--fill-color);\n",
              "    }\n",
              "    80% {\n",
              "      border-color: transparent;\n",
              "      border-right-color: var(--fill-color);\n",
              "      border-bottom-color: var(--fill-color);\n",
              "    }\n",
              "    90% {\n",
              "      border-color: transparent;\n",
              "      border-bottom-color: var(--fill-color);\n",
              "    }\n",
              "  }\n",
              "</style>\n",
              "\n",
              "  <script>\n",
              "    async function quickchart(key) {\n",
              "      const quickchartButtonEl =\n",
              "        document.querySelector('#' + key + ' button');\n",
              "      quickchartButtonEl.disabled = true;  // To prevent multiple clicks.\n",
              "      quickchartButtonEl.classList.add('colab-df-spinner');\n",
              "      try {\n",
              "        const charts = await google.colab.kernel.invokeFunction(\n",
              "            'suggestCharts', [key], {});\n",
              "      } catch (error) {\n",
              "        console.error('Error during call to suggestCharts:', error);\n",
              "      }\n",
              "      quickchartButtonEl.classList.remove('colab-df-spinner');\n",
              "      quickchartButtonEl.classList.add('colab-df-quickchart-complete');\n",
              "    }\n",
              "    (() => {\n",
              "      let quickchartButtonEl =\n",
              "        document.querySelector('#df-40841f5e-c95b-4d09-87df-5003457a0f92 button');\n",
              "      quickchartButtonEl.style.display =\n",
              "        google.colab.kernel.accessAllowed ? 'block' : 'none';\n",
              "    })();\n",
              "  </script>\n",
              "</div>\n",
              "\n",
              "    </div>\n",
              "  </div>\n"
            ],
            "application/vnd.google.colaboratory.intrinsic+json": {
              "type": "dataframe",
              "summary": "{\n  \"name\": \"Iris\",\n  \"rows\": 8,\n  \"fields\": [\n    {\n      \"column\": \"Id\",\n      \"properties\": {\n        \"dtype\": \"number\",\n        \"std\": 53.756293020494844,\n        \"min\": 1.0,\n        \"max\": 150.0,\n        \"num_unique_values\": 6,\n        \"samples\": [\n          150.0,\n          75.5,\n          112.75\n        ],\n        \"semantic_type\": \"\",\n        \"description\": \"\"\n      }\n    },\n    {\n      \"column\": \"SepalLengthCm\",\n      \"properties\": {\n        \"dtype\": \"number\",\n        \"std\": 51.24711349471842,\n        \"min\": 0.8280661279778629,\n        \"max\": 150.0,\n        \"num_unique_values\": 8,\n        \"samples\": [\n          5.843333333333334,\n          5.8,\n          150.0\n        ],\n        \"semantic_type\": \"\",\n        \"description\": \"\"\n      }\n    },\n    {\n      \"column\": \"SepalWidthCm\",\n      \"properties\": {\n        \"dtype\": \"number\",\n        \"std\": 52.08647211421483,\n        \"min\": 0.4335943113621737,\n        \"max\": 150.0,\n        \"num_unique_values\": 8,\n        \"samples\": [\n          3.0540000000000003,\n          3.0,\n          150.0\n        ],\n        \"semantic_type\": \"\",\n        \"description\": \"\"\n      }\n    },\n    {\n      \"column\": \"PetalLengthCm\",\n      \"properties\": {\n        \"dtype\": \"number\",\n        \"std\": 51.835227940958106,\n        \"min\": 1.0,\n        \"max\": 150.0,\n        \"num_unique_values\": 8,\n        \"samples\": [\n          3.758666666666666,\n          4.35,\n          150.0\n        ],\n        \"semantic_type\": \"\",\n        \"description\": \"\"\n      }\n    },\n    {\n      \"column\": \"PetalWidthCm\",\n      \"properties\": {\n        \"dtype\": \"number\",\n        \"std\": 52.63663424340991,\n        \"min\": 0.1,\n        \"max\": 150.0,\n        \"num_unique_values\": 8,\n        \"samples\": [\n          1.1986666666666668,\n          1.3,\n          150.0\n        ],\n        \"semantic_type\": \"\",\n        \"description\": \"\"\n      }\n    }\n  ]\n}"
            }
          },
          "metadata": {},
          "execution_count": 59
        }
      ]
    },
    {
      "cell_type": "markdown",
      "source": [
        "2.2 Describiendo variable categórica"
      ],
      "metadata": {
        "id": "fx_FGV54kw3d"
      }
    },
    {
      "cell_type": "code",
      "source": [
        "Iris.describe(include=['O'])"
      ],
      "metadata": {
        "colab": {
          "base_uri": "https://localhost:8080/",
          "height": 175
        },
        "id": "c0EIB0N53k-e",
        "outputId": "869523cb-e8c6-4659-81b3-76ca2263f5af"
      },
      "execution_count": null,
      "outputs": [
        {
          "output_type": "execute_result",
          "data": {
            "text/plain": [
              "            Species\n",
              "count           150\n",
              "unique            3\n",
              "top     Iris-setosa\n",
              "freq             50"
            ],
            "text/html": [
              "\n",
              "  <div id=\"df-b6186927-60d3-4759-bf9a-8addbfbb6c11\" class=\"colab-df-container\">\n",
              "    <div>\n",
              "<style scoped>\n",
              "    .dataframe tbody tr th:only-of-type {\n",
              "        vertical-align: middle;\n",
              "    }\n",
              "\n",
              "    .dataframe tbody tr th {\n",
              "        vertical-align: top;\n",
              "    }\n",
              "\n",
              "    .dataframe thead th {\n",
              "        text-align: right;\n",
              "    }\n",
              "</style>\n",
              "<table border=\"1\" class=\"dataframe\">\n",
              "  <thead>\n",
              "    <tr style=\"text-align: right;\">\n",
              "      <th></th>\n",
              "      <th>Species</th>\n",
              "    </tr>\n",
              "  </thead>\n",
              "  <tbody>\n",
              "    <tr>\n",
              "      <th>count</th>\n",
              "      <td>150</td>\n",
              "    </tr>\n",
              "    <tr>\n",
              "      <th>unique</th>\n",
              "      <td>3</td>\n",
              "    </tr>\n",
              "    <tr>\n",
              "      <th>top</th>\n",
              "      <td>Iris-setosa</td>\n",
              "    </tr>\n",
              "    <tr>\n",
              "      <th>freq</th>\n",
              "      <td>50</td>\n",
              "    </tr>\n",
              "  </tbody>\n",
              "</table>\n",
              "</div>\n",
              "    <div class=\"colab-df-buttons\">\n",
              "\n",
              "  <div class=\"colab-df-container\">\n",
              "    <button class=\"colab-df-convert\" onclick=\"convertToInteractive('df-b6186927-60d3-4759-bf9a-8addbfbb6c11')\"\n",
              "            title=\"Convert this dataframe to an interactive table.\"\n",
              "            style=\"display:none;\">\n",
              "\n",
              "  <svg xmlns=\"http://www.w3.org/2000/svg\" height=\"24px\" viewBox=\"0 -960 960 960\">\n",
              "    <path d=\"M120-120v-720h720v720H120Zm60-500h600v-160H180v160Zm220 220h160v-160H400v160Zm0 220h160v-160H400v160ZM180-400h160v-160H180v160Zm440 0h160v-160H620v160ZM180-180h160v-160H180v160Zm440 0h160v-160H620v160Z\"/>\n",
              "  </svg>\n",
              "    </button>\n",
              "\n",
              "  <style>\n",
              "    .colab-df-container {\n",
              "      display:flex;\n",
              "      gap: 12px;\n",
              "    }\n",
              "\n",
              "    .colab-df-convert {\n",
              "      background-color: #E8F0FE;\n",
              "      border: none;\n",
              "      border-radius: 50%;\n",
              "      cursor: pointer;\n",
              "      display: none;\n",
              "      fill: #1967D2;\n",
              "      height: 32px;\n",
              "      padding: 0 0 0 0;\n",
              "      width: 32px;\n",
              "    }\n",
              "\n",
              "    .colab-df-convert:hover {\n",
              "      background-color: #E2EBFA;\n",
              "      box-shadow: 0px 1px 2px rgba(60, 64, 67, 0.3), 0px 1px 3px 1px rgba(60, 64, 67, 0.15);\n",
              "      fill: #174EA6;\n",
              "    }\n",
              "\n",
              "    .colab-df-buttons div {\n",
              "      margin-bottom: 4px;\n",
              "    }\n",
              "\n",
              "    [theme=dark] .colab-df-convert {\n",
              "      background-color: #3B4455;\n",
              "      fill: #D2E3FC;\n",
              "    }\n",
              "\n",
              "    [theme=dark] .colab-df-convert:hover {\n",
              "      background-color: #434B5C;\n",
              "      box-shadow: 0px 1px 3px 1px rgba(0, 0, 0, 0.15);\n",
              "      filter: drop-shadow(0px 1px 2px rgba(0, 0, 0, 0.3));\n",
              "      fill: #FFFFFF;\n",
              "    }\n",
              "  </style>\n",
              "\n",
              "    <script>\n",
              "      const buttonEl =\n",
              "        document.querySelector('#df-b6186927-60d3-4759-bf9a-8addbfbb6c11 button.colab-df-convert');\n",
              "      buttonEl.style.display =\n",
              "        google.colab.kernel.accessAllowed ? 'block' : 'none';\n",
              "\n",
              "      async function convertToInteractive(key) {\n",
              "        const element = document.querySelector('#df-b6186927-60d3-4759-bf9a-8addbfbb6c11');\n",
              "        const dataTable =\n",
              "          await google.colab.kernel.invokeFunction('convertToInteractive',\n",
              "                                                    [key], {});\n",
              "        if (!dataTable) return;\n",
              "\n",
              "        const docLinkHtml = 'Like what you see? Visit the ' +\n",
              "          '<a target=\"_blank\" href=https://colab.research.google.com/notebooks/data_table.ipynb>data table notebook</a>'\n",
              "          + ' to learn more about interactive tables.';\n",
              "        element.innerHTML = '';\n",
              "        dataTable['output_type'] = 'display_data';\n",
              "        await google.colab.output.renderOutput(dataTable, element);\n",
              "        const docLink = document.createElement('div');\n",
              "        docLink.innerHTML = docLinkHtml;\n",
              "        element.appendChild(docLink);\n",
              "      }\n",
              "    </script>\n",
              "  </div>\n",
              "\n",
              "\n",
              "<div id=\"df-1a16969d-d502-4fee-bbcb-5e0c6f5cf6ae\">\n",
              "  <button class=\"colab-df-quickchart\" onclick=\"quickchart('df-1a16969d-d502-4fee-bbcb-5e0c6f5cf6ae')\"\n",
              "            title=\"Suggest charts\"\n",
              "            style=\"display:none;\">\n",
              "\n",
              "<svg xmlns=\"http://www.w3.org/2000/svg\" height=\"24px\"viewBox=\"0 0 24 24\"\n",
              "     width=\"24px\">\n",
              "    <g>\n",
              "        <path d=\"M19 3H5c-1.1 0-2 .9-2 2v14c0 1.1.9 2 2 2h14c1.1 0 2-.9 2-2V5c0-1.1-.9-2-2-2zM9 17H7v-7h2v7zm4 0h-2V7h2v10zm4 0h-2v-4h2v4z\"/>\n",
              "    </g>\n",
              "</svg>\n",
              "  </button>\n",
              "\n",
              "<style>\n",
              "  .colab-df-quickchart {\n",
              "      --bg-color: #E8F0FE;\n",
              "      --fill-color: #1967D2;\n",
              "      --hover-bg-color: #E2EBFA;\n",
              "      --hover-fill-color: #174EA6;\n",
              "      --disabled-fill-color: #AAA;\n",
              "      --disabled-bg-color: #DDD;\n",
              "  }\n",
              "\n",
              "  [theme=dark] .colab-df-quickchart {\n",
              "      --bg-color: #3B4455;\n",
              "      --fill-color: #D2E3FC;\n",
              "      --hover-bg-color: #434B5C;\n",
              "      --hover-fill-color: #FFFFFF;\n",
              "      --disabled-bg-color: #3B4455;\n",
              "      --disabled-fill-color: #666;\n",
              "  }\n",
              "\n",
              "  .colab-df-quickchart {\n",
              "    background-color: var(--bg-color);\n",
              "    border: none;\n",
              "    border-radius: 50%;\n",
              "    cursor: pointer;\n",
              "    display: none;\n",
              "    fill: var(--fill-color);\n",
              "    height: 32px;\n",
              "    padding: 0;\n",
              "    width: 32px;\n",
              "  }\n",
              "\n",
              "  .colab-df-quickchart:hover {\n",
              "    background-color: var(--hover-bg-color);\n",
              "    box-shadow: 0 1px 2px rgba(60, 64, 67, 0.3), 0 1px 3px 1px rgba(60, 64, 67, 0.15);\n",
              "    fill: var(--button-hover-fill-color);\n",
              "  }\n",
              "\n",
              "  .colab-df-quickchart-complete:disabled,\n",
              "  .colab-df-quickchart-complete:disabled:hover {\n",
              "    background-color: var(--disabled-bg-color);\n",
              "    fill: var(--disabled-fill-color);\n",
              "    box-shadow: none;\n",
              "  }\n",
              "\n",
              "  .colab-df-spinner {\n",
              "    border: 2px solid var(--fill-color);\n",
              "    border-color: transparent;\n",
              "    border-bottom-color: var(--fill-color);\n",
              "    animation:\n",
              "      spin 1s steps(1) infinite;\n",
              "  }\n",
              "\n",
              "  @keyframes spin {\n",
              "    0% {\n",
              "      border-color: transparent;\n",
              "      border-bottom-color: var(--fill-color);\n",
              "      border-left-color: var(--fill-color);\n",
              "    }\n",
              "    20% {\n",
              "      border-color: transparent;\n",
              "      border-left-color: var(--fill-color);\n",
              "      border-top-color: var(--fill-color);\n",
              "    }\n",
              "    30% {\n",
              "      border-color: transparent;\n",
              "      border-left-color: var(--fill-color);\n",
              "      border-top-color: var(--fill-color);\n",
              "      border-right-color: var(--fill-color);\n",
              "    }\n",
              "    40% {\n",
              "      border-color: transparent;\n",
              "      border-right-color: var(--fill-color);\n",
              "      border-top-color: var(--fill-color);\n",
              "    }\n",
              "    60% {\n",
              "      border-color: transparent;\n",
              "      border-right-color: var(--fill-color);\n",
              "    }\n",
              "    80% {\n",
              "      border-color: transparent;\n",
              "      border-right-color: var(--fill-color);\n",
              "      border-bottom-color: var(--fill-color);\n",
              "    }\n",
              "    90% {\n",
              "      border-color: transparent;\n",
              "      border-bottom-color: var(--fill-color);\n",
              "    }\n",
              "  }\n",
              "</style>\n",
              "\n",
              "  <script>\n",
              "    async function quickchart(key) {\n",
              "      const quickchartButtonEl =\n",
              "        document.querySelector('#' + key + ' button');\n",
              "      quickchartButtonEl.disabled = true;  // To prevent multiple clicks.\n",
              "      quickchartButtonEl.classList.add('colab-df-spinner');\n",
              "      try {\n",
              "        const charts = await google.colab.kernel.invokeFunction(\n",
              "            'suggestCharts', [key], {});\n",
              "      } catch (error) {\n",
              "        console.error('Error during call to suggestCharts:', error);\n",
              "      }\n",
              "      quickchartButtonEl.classList.remove('colab-df-spinner');\n",
              "      quickchartButtonEl.classList.add('colab-df-quickchart-complete');\n",
              "    }\n",
              "    (() => {\n",
              "      let quickchartButtonEl =\n",
              "        document.querySelector('#df-1a16969d-d502-4fee-bbcb-5e0c6f5cf6ae button');\n",
              "      quickchartButtonEl.style.display =\n",
              "        google.colab.kernel.accessAllowed ? 'block' : 'none';\n",
              "    })();\n",
              "  </script>\n",
              "</div>\n",
              "\n",
              "    </div>\n",
              "  </div>\n"
            ],
            "application/vnd.google.colaboratory.intrinsic+json": {
              "type": "dataframe",
              "summary": "{\n  \"name\": \"Iris\",\n  \"rows\": 4,\n  \"fields\": [\n    {\n      \"column\": \"Species\",\n      \"properties\": {\n        \"dtype\": \"string\",\n        \"num_unique_values\": 4,\n        \"samples\": [\n          3,\n          \"50\",\n          \"150\"\n        ],\n        \"semantic_type\": \"\",\n        \"description\": \"\"\n      }\n    }\n  ]\n}"
            }
          },
          "metadata": {},
          "execution_count": 68
        }
      ]
    },
    {
      "cell_type": "markdown",
      "source": [
        "Realizando distribuciones y valores atípicos"
      ],
      "metadata": {
        "id": "Ei7UPFMzmtLt"
      }
    },
    {
      "cell_type": "markdown",
      "source": [
        "Importo la librería seaborn."
      ],
      "metadata": {
        "id": "UK2OybGWpg9y"
      }
    },
    {
      "cell_type": "code",
      "source": [
        "import seaborn as sns"
      ],
      "metadata": {
        "id": "gcqK3-AkpY37"
      },
      "execution_count": null,
      "outputs": []
    },
    {
      "cell_type": "code",
      "source": [
        "plt.figure(figsize=(10, 6))\n",
        "sns.boxplot(data=Iris)\n",
        "plt.show()"
      ],
      "metadata": {
        "colab": {
          "base_uri": "https://localhost:8080/",
          "height": 493
        },
        "id": "1lYSdKJSpzot",
        "outputId": "48347158-1e3d-4431-d9e5-8416655352be"
      },
      "execution_count": null,
      "outputs": [
        {
          "output_type": "display_data",
          "data": {
            "text/plain": [
              "<Figure size 1000x600 with 1 Axes>"
            ],
            "image/png": "[encoded data removed]"
          },
          "metadata": {}
        }
      ]
    },
    {
      "cell_type": "markdown",
      "source": [
        "Comentarios acerca de la gráfica:\n",
        "-Cada caja o columna represenata una variable. -La línea del centro en cada columna es la mediana. -La linea inferior y la superior son los cuartiles. Primer y tercer cuartil. -Los \"bigotes\" serían las líneas que indican la dispersión. En esta grafica no veo bigotes. -Los valores atipicos (outliers) son los puntos fuera de los bigotes, que tampoco observo en esta gráfica."
      ],
      "metadata": {
        "id": "lgHLoDAksTF9"
      }
    },
    {
      "cell_type": "markdown",
      "source": [
        "Creo el data frame para Iris.csv"
      ],
      "metadata": {
        "id": "nqeqazFJvV-M"
      }
    },
    {
      "cell_type": "code",
      "source": [
        "df = pd.DataFrame(Iris)\n",
        "print(df)\n",
        "df = pd.read_csv(\"Iris.csv\")\n",
        "print(df.head())"
      ],
      "metadata": {
        "colab": {
          "base_uri": "https://localhost:8080/"
        },
        "id": "OxZAtq8avAmY",
        "outputId": "70b83d92-2d95-4c81-e8a6-7e5156636857"
      },
      "execution_count": null,
      "outputs": [
        {
          "output_type": "stream",
          "name": "stdout",
          "text": [
            "      Id  SepalLengthCm  SepalWidthCm  PetalLengthCm  PetalWidthCm  \\\n",
            "0      1            5.1           3.5            1.4           0.2   \n",
            "1      2            4.9           3.0            1.4           0.2   \n",
            "2      3            4.7           3.2            1.3           0.2   \n",
            "3      4            4.6           3.1            1.5           0.2   \n",
            "4      5            5.0           3.6            1.4           0.2   \n",
            "..   ...            ...           ...            ...           ...   \n",
            "145  146            6.7           3.0            5.2           2.3   \n",
            "146  147            6.3           2.5            5.0           1.9   \n",
            "147  148            6.5           3.0            5.2           2.0   \n",
            "148  149            6.2           3.4            5.4           2.3   \n",
            "149  150            5.9           3.0            5.1           1.8   \n",
            "\n",
            "            Species  \n",
            "0       Iris-setosa  \n",
            "1       Iris-setosa  \n",
            "2       Iris-setosa  \n",
            "3       Iris-setosa  \n",
            "4       Iris-setosa  \n",
            "..              ...  \n",
            "145  Iris-virginica  \n",
            "146  Iris-virginica  \n",
            "147  Iris-virginica  \n",
            "148  Iris-virginica  \n",
            "149  Iris-virginica  \n",
            "\n",
            "[150 rows x 6 columns]\n",
            "   Id  SepalLengthCm  SepalWidthCm  PetalLengthCm  PetalWidthCm      Species\n",
            "0   1            5.1           3.5            1.4           0.2  Iris-setosa\n",
            "1   2            4.9           3.0            1.4           0.2  Iris-setosa\n",
            "2   3            4.7           3.2            1.3           0.2  Iris-setosa\n",
            "3   4            4.6           3.1            1.5           0.2  Iris-setosa\n",
            "4   5            5.0           3.6            1.4           0.2  Iris-setosa\n"
          ]
        }
      ]
    },
    {
      "cell_type": "markdown",
      "source": [
        "3. EDA Analisís exploratorio de datos.\n"
      ],
      "metadata": {
        "id": "noHCI-bWwqE_"
      }
    },
    {
      "cell_type": "markdown",
      "source": [
        "3.1 Comparar distribuciones entre especies"
      ],
      "metadata": {
        "id": "EthVi4G7y3V1"
      }
    },
    {
      "cell_type": "code",
      "source": [
        "Iris.groupby(\"Species\").describe()"
      ],
      "metadata": {
        "colab": {
          "base_uri": "https://localhost:8080/",
          "height": 308
        },
        "id": "m3ziDSCjw1AV",
        "outputId": "34a98f5b-2d23-4c23-b73c-e04616043d17"
      },
      "execution_count": null,
      "outputs": [
        {
          "output_type": "execute_result",
          "data": {
            "text/plain": [
              "                   Id                                                        \\\n",
              "                count   mean       std    min     25%    50%     75%    max   \n",
              "Species                                                                       \n",
              "Iris-setosa      50.0   25.5  14.57738    1.0   13.25   25.5   37.75   50.0   \n",
              "Iris-versicolor  50.0   75.5  14.57738   51.0   63.25   75.5   87.75  100.0   \n",
              "Iris-virginica   50.0  125.5  14.57738  101.0  113.25  125.5  137.75  150.0   \n",
              "\n",
              "                SepalLengthCm         ... PetalLengthCm      PetalWidthCm  \\\n",
              "                        count   mean  ...           75%  max        count   \n",
              "Species                               ...                                   \n",
              "Iris-setosa              50.0  5.006  ...         1.575  1.9         50.0   \n",
              "Iris-versicolor          50.0  5.936  ...         4.600  5.1         50.0   \n",
              "Iris-virginica           50.0  6.588  ...         5.875  6.9         50.0   \n",
              "\n",
              "                                                           \n",
              "                  mean       std  min  25%  50%  75%  max  \n",
              "Species                                                    \n",
              "Iris-setosa      0.244  0.107210  0.1  0.2  0.2  0.3  0.6  \n",
              "Iris-versicolor  1.326  0.197753  1.0  1.2  1.3  1.5  1.8  \n",
              "Iris-virginica   2.026  0.274650  1.4  1.8  2.0  2.3  2.5  \n",
              "\n",
              "[3 rows x 40 columns]"
            ],
            "text/html": [
              "\n",
              "  <div id=\"df-668199c1-91a1-4955-af0c-09f5fc7f07c6\" class=\"colab-df-container\">\n",
              "    <div>\n",
              "<style scoped>\n",
              "    .dataframe tbody tr th:only-of-type {\n",
              "        vertical-align: middle;\n",
              "    }\n",
              "\n",
              "    .dataframe tbody tr th {\n",
              "        vertical-align: top;\n",
              "    }\n",
              "\n",
              "    .dataframe thead tr th {\n",
              "        text-align: left;\n",
              "    }\n",
              "\n",
              "    .dataframe thead tr:last-of-type th {\n",
              "        text-align: right;\n",
              "    }\n",
              "</style>\n",
              "<table border=\"1\" class=\"dataframe\">\n",
              "  <thead>\n",
              "    <tr>\n",
              "      <th></th>\n",
              "      <th colspan=\"8\" halign=\"left\">Id</th>\n",
              "      <th colspan=\"2\" halign=\"left\">SepalLengthCm</th>\n",
              "      <th>...</th>\n",
              "      <th colspan=\"2\" halign=\"left\">PetalLengthCm</th>\n",
              "      <th colspan=\"8\" halign=\"left\">PetalWidthCm</th>\n",
              "    </tr>\n",
              "    <tr>\n",
              "      <th></th>\n",
              "      <th>count</th>\n",
              "      <th>mean</th>\n",
              "      <th>std</th>\n",
              "      <th>min</th>\n",
              "      <th>25%</th>\n",
              "      <th>50%</th>\n",
              "      <th>75%</th>\n",
              "      <th>max</th>\n",
              "      <th>count</th>\n",
              "      <th>mean</th>\n",
              "      <th>...</th>\n",
              "      <th>75%</th>\n",
              "      <th>max</th>\n",
              "      <th>count</th>\n",
              "      <th>mean</th>\n",
              "      <th>std</th>\n",
              "      <th>min</th>\n",
              "      <th>25%</th>\n",
              "      <th>50%</th>\n",
              "      <th>75%</th>\n",
              "      <th>max</th>\n",
              "    </tr>\n",
              "    <tr>\n",
              "      <th>Species</th>\n",
              "      <th></th>\n",
              "      <th></th>\n",
              "      <th></th>\n",
              "      <th></th>\n",
              "      <th></th>\n",
              "      <th></th>\n",
              "      <th></th>\n",
              "      <th></th>\n",
              "      <th></th>\n",
              "      <th></th>\n",
              "      <th></th>\n",
              "      <th></th>\n",
              "      <th></th>\n",
              "      <th></th>\n",
              "      <th></th>\n",
              "      <th></th>\n",
              "      <th></th>\n",
              "      <th></th>\n",
              "      <th></th>\n",
              "      <th></th>\n",
              "      <th></th>\n",
              "    </tr>\n",
              "  </thead>\n",
              "  <tbody>\n",
              "    <tr>\n",
              "      <th>Iris-setosa</th>\n",
              "      <td>50.0</td>\n",
              "      <td>25.5</td>\n",
              "      <td>14.57738</td>\n",
              "      <td>1.0</td>\n",
              "      <td>13.25</td>\n",
              "      <td>25.5</td>\n",
              "      <td>37.75</td>\n",
              "      <td>50.0</td>\n",
              "      <td>50.0</td>\n",
              "      <td>5.006</td>\n",
              "      <td>...</td>\n",
              "      <td>1.575</td>\n",
              "      <td>1.9</td>\n",
              "      <td>50.0</td>\n",
              "      <td>0.244</td>\n",
              "      <td>0.107210</td>\n",
              "      <td>0.1</td>\n",
              "      <td>0.2</td>\n",
              "      <td>0.2</td>\n",
              "      <td>0.3</td>\n",
              "      <td>0.6</td>\n",
              "    </tr>\n",
              "    <tr>\n",
              "      <th>Iris-versicolor</th>\n",
              "      <td>50.0</td>\n",
              "      <td>75.5</td>\n",
              "      <td>14.57738</td>\n",
              "      <td>51.0</td>\n",
              "      <td>63.25</td>\n",
              "      <td>75.5</td>\n",
              "      <td>87.75</td>\n",
              "      <td>100.0</td>\n",
              "      <td>50.0</td>\n",
              "      <td>5.936</td>\n",
              "      <td>...</td>\n",
              "      <td>4.600</td>\n",
              "      <td>5.1</td>\n",
              "      <td>50.0</td>\n",
              "      <td>1.326</td>\n",
              "      <td>0.197753</td>\n",
              "      <td>1.0</td>\n",
              "      <td>1.2</td>\n",
              "      <td>1.3</td>\n",
              "      <td>1.5</td>\n",
              "      <td>1.8</td>\n",
              "    </tr>\n",
              "    <tr>\n",
              "      <th>Iris-virginica</th>\n",
              "      <td>50.0</td>\n",
              "      <td>125.5</td>\n",
              "      <td>14.57738</td>\n",
              "      <td>101.0</td>\n",
              "      <td>113.25</td>\n",
              "      <td>125.5</td>\n",
              "      <td>137.75</td>\n",
              "      <td>150.0</td>\n",
              "      <td>50.0</td>\n",
              "      <td>6.588</td>\n",
              "      <td>...</td>\n",
              "      <td>5.875</td>\n",
              "      <td>6.9</td>\n",
              "      <td>50.0</td>\n",
              "      <td>2.026</td>\n",
              "      <td>0.274650</td>\n",
              "      <td>1.4</td>\n",
              "      <td>1.8</td>\n",
              "      <td>2.0</td>\n",
              "      <td>2.3</td>\n",
              "      <td>2.5</td>\n",
              "    </tr>\n",
              "  </tbody>\n",
              "</table>\n",
              "<p>3 rows × 40 columns</p>\n",
              "</div>\n",
              "    <div class=\"colab-df-buttons\">\n",
              "\n",
              "  <div class=\"colab-df-container\">\n",
              "    <button class=\"colab-df-convert\" onclick=\"convertToInteractive('df-668199c1-91a1-4955-af0c-09f5fc7f07c6')\"\n",
              "            title=\"Convert this dataframe to an interactive table.\"\n",
              "            style=\"display:none;\">\n",
              "\n",
              "  <svg xmlns=\"http://www.w3.org/2000/svg\" height=\"24px\" viewBox=\"0 -960 960 960\">\n",
              "    <path d=\"M120-120v-720h720v720H120Zm60-500h600v-160H180v160Zm220 220h160v-160H400v160Zm0 220h160v-160H400v160ZM180-400h160v-160H180v160Zm440 0h160v-160H620v160ZM180-180h160v-160H180v160Zm440 0h160v-160H620v160Z\"/>\n",
              "  </svg>\n",
              "    </button>\n",
              "\n",
              "  <style>\n",
              "    .colab-df-container {\n",
              "      display:flex;\n",
              "      gap: 12px;\n",
              "    }\n",
              "\n",
              "    .colab-df-convert {\n",
              "      background-color: #E8F0FE;\n",
              "      border: none;\n",
              "      border-radius: 50%;\n",
              "      cursor: pointer;\n",
              "      display: none;\n",
              "      fill: #1967D2;\n",
              "      height: 32px;\n",
              "      padding: 0 0 0 0;\n",
              "      width: 32px;\n",
              "    }\n",
              "\n",
              "    .colab-df-convert:hover {\n",
              "      background-color: #E2EBFA;\n",
              "      box-shadow: 0px 1px 2px rgba(60, 64, 67, 0.3), 0px 1px 3px 1px rgba(60, 64, 67, 0.15);\n",
              "      fill: #174EA6;\n",
              "    }\n",
              "\n",
              "    .colab-df-buttons div {\n",
              "      margin-bottom: 4px;\n",
              "    }\n",
              "\n",
              "    [theme=dark] .colab-df-convert {\n",
              "      background-color: #3B4455;\n",
              "      fill: #D2E3FC;\n",
              "    }\n",
              "\n",
              "    [theme=dark] .colab-df-convert:hover {\n",
              "      background-color: #434B5C;\n",
              "      box-shadow: 0px 1px 3px 1px rgba(0, 0, 0, 0.15);\n",
              "      filter: drop-shadow(0px 1px 2px rgba(0, 0, 0, 0.3));\n",
              "      fill: #FFFFFF;\n",
              "    }\n",
              "  </style>\n",
              "\n",
              "    <script>\n",
              "      const buttonEl =\n",
              "        document.querySelector('#df-668199c1-91a1-4955-af0c-09f5fc7f07c6 button.colab-df-convert');\n",
              "      buttonEl.style.display =\n",
              "        google.colab.kernel.accessAllowed ? 'block' : 'none';\n",
              "\n",
              "      async function convertToInteractive(key) {\n",
              "        const element = document.querySelector('#df-668199c1-91a1-4955-af0c-09f5fc7f07c6');\n",
              "        const dataTable =\n",
              "          await google.colab.kernel.invokeFunction('convertToInteractive',\n",
              "                                                    [key], {});\n",
              "        if (!dataTable) return;\n",
              "\n",
              "        const docLinkHtml = 'Like what you see? Visit the ' +\n",
              "          '<a target=\"_blank\" href=https://colab.research.google.com/notebooks/data_table.ipynb>data table notebook</a>'\n",
              "          + ' to learn more about interactive tables.';\n",
              "        element.innerHTML = '';\n",
              "        dataTable['output_type'] = 'display_data';\n",
              "        await google.colab.output.renderOutput(dataTable, element);\n",
              "        const docLink = document.createElement('div');\n",
              "        docLink.innerHTML = docLinkHtml;\n",
              "        element.appendChild(docLink);\n",
              "      }\n",
              "    </script>\n",
              "  </div>\n",
              "\n",
              "\n",
              "<div id=\"df-27260867-0097-4743-85c3-4b92f8baf9b5\">\n",
              "  <button class=\"colab-df-quickchart\" onclick=\"quickchart('df-27260867-0097-4743-85c3-4b92f8baf9b5')\"\n",
              "            title=\"Suggest charts\"\n",
              "            style=\"display:none;\">\n",
              "\n",
              "<svg xmlns=\"http://www.w3.org/2000/svg\" height=\"24px\"viewBox=\"0 0 24 24\"\n",
              "     width=\"24px\">\n",
              "    <g>\n",
              "        <path d=\"M19 3H5c-1.1 0-2 .9-2 2v14c0 1.1.9 2 2 2h14c1.1 0 2-.9 2-2V5c0-1.1-.9-2-2-2zM9 17H7v-7h2v7zm4 0h-2V7h2v10zm4 0h-2v-4h2v4z\"/>\n",
              "    </g>\n",
              "</svg>\n",
              "  </button>\n",
              "\n",
              "<style>\n",
              "  .colab-df-quickchart {\n",
              "      --bg-color: #E8F0FE;\n",
              "      --fill-color: #1967D2;\n",
              "      --hover-bg-color: #E2EBFA;\n",
              "      --hover-fill-color: #174EA6;\n",
              "      --disabled-fill-color: #AAA;\n",
              "      --disabled-bg-color: #DDD;\n",
              "  }\n",
              "\n",
              "  [theme=dark] .colab-df-quickchart {\n",
              "      --bg-color: #3B4455;\n",
              "      --fill-color: #D2E3FC;\n",
              "      --hover-bg-color: #434B5C;\n",
              "      --hover-fill-color: #FFFFFF;\n",
              "      --disabled-bg-color: #3B4455;\n",
              "      --disabled-fill-color: #666;\n",
              "  }\n",
              "\n",
              "  .colab-df-quickchart {\n",
              "    background-color: var(--bg-color);\n",
              "    border: none;\n",
              "    border-radius: 50%;\n",
              "    cursor: pointer;\n",
              "    display: none;\n",
              "    fill: var(--fill-color);\n",
              "    height: 32px;\n",
              "    padding: 0;\n",
              "    width: 32px;\n",
              "  }\n",
              "\n",
              "  .colab-df-quickchart:hover {\n",
              "    background-color: var(--hover-bg-color);\n",
              "    box-shadow: 0 1px 2px rgba(60, 64, 67, 0.3), 0 1px 3px 1px rgba(60, 64, 67, 0.15);\n",
              "    fill: var(--button-hover-fill-color);\n",
              "  }\n",
              "\n",
              "  .colab-df-quickchart-complete:disabled,\n",
              "  .colab-df-quickchart-complete:disabled:hover {\n",
              "    background-color: var(--disabled-bg-color);\n",
              "    fill: var(--disabled-fill-color);\n",
              "    box-shadow: none;\n",
              "  }\n",
              "\n",
              "  .colab-df-spinner {\n",
              "    border: 2px solid var(--fill-color);\n",
              "    border-color: transparent;\n",
              "    border-bottom-color: var(--fill-color);\n",
              "    animation:\n",
              "      spin 1s steps(1) infinite;\n",
              "  }\n",
              "\n",
              "  @keyframes spin {\n",
              "    0% {\n",
              "      border-color: transparent;\n",
              "      border-bottom-color: var(--fill-color);\n",
              "      border-left-color: var(--fill-color);\n",
              "    }\n",
              "    20% {\n",
              "      border-color: transparent;\n",
              "      border-left-color: var(--fill-color);\n",
              "      border-top-color: var(--fill-color);\n",
              "    }\n",
              "    30% {\n",
              "      border-color: transparent;\n",
              "      border-left-color: var(--fill-color);\n",
              "      border-top-color: var(--fill-color);\n",
              "      border-right-color: var(--fill-color);\n",
              "    }\n",
              "    40% {\n",
              "      border-color: transparent;\n",
              "      border-right-color: var(--fill-color);\n",
              "      border-top-color: var(--fill-color);\n",
              "    }\n",
              "    60% {\n",
              "      border-color: transparent;\n",
              "      border-right-color: var(--fill-color);\n",
              "    }\n",
              "    80% {\n",
              "      border-color: transparent;\n",
              "      border-right-color: var(--fill-color);\n",
              "      border-bottom-color: var(--fill-color);\n",
              "    }\n",
              "    90% {\n",
              "      border-color: transparent;\n",
              "      border-bottom-color: var(--fill-color);\n",
              "    }\n",
              "  }\n",
              "</style>\n",
              "\n",
              "  <script>\n",
              "    async function quickchart(key) {\n",
              "      const quickchartButtonEl =\n",
              "        document.querySelector('#' + key + ' button');\n",
              "      quickchartButtonEl.disabled = true;  // To prevent multiple clicks.\n",
              "      quickchartButtonEl.classList.add('colab-df-spinner');\n",
              "      try {\n",
              "        const charts = await google.colab.kernel.invokeFunction(\n",
              "            'suggestCharts', [key], {});\n",
              "      } catch (error) {\n",
              "        console.error('Error during call to suggestCharts:', error);\n",
              "      }\n",
              "      quickchartButtonEl.classList.remove('colab-df-spinner');\n",
              "      quickchartButtonEl.classList.add('colab-df-quickchart-complete');\n",
              "    }\n",
              "    (() => {\n",
              "      let quickchartButtonEl =\n",
              "        document.querySelector('#df-27260867-0097-4743-85c3-4b92f8baf9b5 button');\n",
              "      quickchartButtonEl.style.display =\n",
              "        google.colab.kernel.accessAllowed ? 'block' : 'none';\n",
              "    })();\n",
              "  </script>\n",
              "</div>\n",
              "\n",
              "    </div>\n",
              "  </div>\n"
            ],
            "application/vnd.google.colaboratory.intrinsic+json": {
              "type": "dataframe"
            }
          },
          "metadata": {},
          "execution_count": 69
        }
      ]
    },
    {
      "cell_type": "code",
      "source": [
        "Iris.groupby(['SepalLengthCm','Species']).count()['Id']"
      ],
      "metadata": {
        "colab": {
          "base_uri": "https://localhost:8080/",
          "height": 1000
        },
        "id": "EGoHaZwP5Ltu",
        "outputId": "408ad70e-ad0c-432a-ebc9-ffd6e5a30cc6"
      },
      "execution_count": null,
      "outputs": [
        {
          "output_type": "execute_result",
          "data": {
            "text/plain": [
              "SepalLengthCm  Species        \n",
              "4.3            Iris-setosa        1\n",
              "4.4            Iris-setosa        3\n",
              "4.5            Iris-setosa        1\n",
              "4.6            Iris-setosa        4\n",
              "4.7            Iris-setosa        2\n",
              "4.8            Iris-setosa        5\n",
              "4.9            Iris-setosa        4\n",
              "               Iris-versicolor    1\n",
              "               Iris-virginica     1\n",
              "5.0            Iris-setosa        8\n",
              "               Iris-versicolor    2\n",
              "5.1            Iris-setosa        8\n",
              "               Iris-versicolor    1\n",
              "5.2            Iris-setosa        3\n",
              "               Iris-versicolor    1\n",
              "5.3            Iris-setosa        1\n",
              "5.4            Iris-setosa        5\n",
              "               Iris-versicolor    1\n",
              "5.5            Iris-setosa        2\n",
              "               Iris-versicolor    5\n",
              "5.6            Iris-versicolor    5\n",
              "               Iris-virginica     1\n",
              "5.7            Iris-setosa        2\n",
              "               Iris-versicolor    5\n",
              "               Iris-virginica     1\n",
              "5.8            Iris-setosa        1\n",
              "               Iris-versicolor    3\n",
              "               Iris-virginica     3\n",
              "5.9            Iris-versicolor    2\n",
              "               Iris-virginica     1\n",
              "6.0            Iris-versicolor    4\n",
              "               Iris-virginica     2\n",
              "6.1            Iris-versicolor    4\n",
              "               Iris-virginica     2\n",
              "6.2            Iris-versicolor    2\n",
              "               Iris-virginica     2\n",
              "6.3            Iris-versicolor    3\n",
              "               Iris-virginica     6\n",
              "6.4            Iris-versicolor    2\n",
              "               Iris-virginica     5\n",
              "6.5            Iris-versicolor    1\n",
              "               Iris-virginica     4\n",
              "6.6            Iris-versicolor    2\n",
              "6.7            Iris-versicolor    3\n",
              "               Iris-virginica     5\n",
              "6.8            Iris-versicolor    1\n",
              "               Iris-virginica     2\n",
              "6.9            Iris-versicolor    1\n",
              "               Iris-virginica     3\n",
              "7.0            Iris-versicolor    1\n",
              "7.1            Iris-virginica     1\n",
              "7.2            Iris-virginica     3\n",
              "7.3            Iris-virginica     1\n",
              "7.4            Iris-virginica     1\n",
              "7.6            Iris-virginica     1\n",
              "7.7            Iris-virginica     4\n",
              "7.9            Iris-virginica     1\n",
              "Name: Id, dtype: int64"
            ],
            "text/html": [
              "<div>\n",
              "<style scoped>\n",
              "    .dataframe tbody tr th:only-of-type {\n",
              "        vertical-align: middle;\n",
              "    }\n",
              "\n",
              "    .dataframe tbody tr th {\n",
              "        vertical-align: top;\n",
              "    }\n",
              "\n",
              "    .dataframe thead th {\n",
              "        text-align: right;\n",
              "    }\n",
              "</style>\n",
              "<table border=\"1\" class=\"dataframe\">\n",
              "  <thead>\n",
              "    <tr style=\"text-align: right;\">\n",
              "      <th></th>\n",
              "      <th></th>\n",
              "      <th>Id</th>\n",
              "    </tr>\n",
              "    <tr>\n",
              "      <th>SepalLengthCm</th>\n",
              "      <th>Species</th>\n",
              "      <th></th>\n",
              "    </tr>\n",
              "  </thead>\n",
              "  <tbody>\n",
              "    <tr>\n",
              "      <th>4.3</th>\n",
              "      <th>Iris-setosa</th>\n",
              "      <td>1</td>\n",
              "    </tr>\n",
              "    <tr>\n",
              "      <th>4.4</th>\n",
              "      <th>Iris-setosa</th>\n",
              "      <td>3</td>\n",
              "    </tr>\n",
              "    <tr>\n",
              "      <th>4.5</th>\n",
              "      <th>Iris-setosa</th>\n",
              "      <td>1</td>\n",
              "    </tr>\n",
              "    <tr>\n",
              "      <th>4.6</th>\n",
              "      <th>Iris-setosa</th>\n",
              "      <td>4</td>\n",
              "    </tr>\n",
              "    <tr>\n",
              "      <th>4.7</th>\n",
              "      <th>Iris-setosa</th>\n",
              "      <td>2</td>\n",
              "    </tr>\n",
              "    <tr>\n",
              "      <th>4.8</th>\n",
              "      <th>Iris-setosa</th>\n",
              "      <td>5</td>\n",
              "    </tr>\n",
              "    <tr>\n",
              "      <th rowspan=\"3\" valign=\"top\">4.9</th>\n",
              "      <th>Iris-setosa</th>\n",
              "      <td>4</td>\n",
              "    </tr>\n",
              "    <tr>\n",
              "      <th>Iris-versicolor</th>\n",
              "      <td>1</td>\n",
              "    </tr>\n",
              "    <tr>\n",
              "      <th>Iris-virginica</th>\n",
              "      <td>1</td>\n",
              "    </tr>\n",
              "    <tr>\n",
              "      <th rowspan=\"2\" valign=\"top\">5.0</th>\n",
              "      <th>Iris-setosa</th>\n",
              "      <td>8</td>\n",
              "    </tr>\n",
              "    <tr>\n",
              "      <th>Iris-versicolor</th>\n",
              "      <td>2</td>\n",
              "    </tr>\n",
              "    <tr>\n",
              "      <th rowspan=\"2\" valign=\"top\">5.1</th>\n",
              "      <th>Iris-setosa</th>\n",
              "      <td>8</td>\n",
              "    </tr>\n",
              "    <tr>\n",
              "      <th>Iris-versicolor</th>\n",
              "      <td>1</td>\n",
              "    </tr>\n",
              "    <tr>\n",
              "      <th rowspan=\"2\" valign=\"top\">5.2</th>\n",
              "      <th>Iris-setosa</th>\n",
              "      <td>3</td>\n",
              "    </tr>\n",
              "    <tr>\n",
              "      <th>Iris-versicolor</th>\n",
              "      <td>1</td>\n",
              "    </tr>\n",
              "    <tr>\n",
              "      <th>5.3</th>\n",
              "      <th>Iris-setosa</th>\n",
              "      <td>1</td>\n",
              "    </tr>\n",
              "    <tr>\n",
              "      <th rowspan=\"2\" valign=\"top\">5.4</th>\n",
              "      <th>Iris-setosa</th>\n",
              "      <td>5</td>\n",
              "    </tr>\n",
              "    <tr>\n",
              "      <th>Iris-versicolor</th>\n",
              "      <td>1</td>\n",
              "    </tr>\n",
              "    <tr>\n",
              "      <th rowspan=\"2\" valign=\"top\">5.5</th>\n",
              "      <th>Iris-setosa</th>\n",
              "      <td>2</td>\n",
              "    </tr>\n",
              "    <tr>\n",
              "      <th>Iris-versicolor</th>\n",
              "      <td>5</td>\n",
              "    </tr>\n",
              "    <tr>\n",
              "      <th rowspan=\"2\" valign=\"top\">5.6</th>\n",
              "      <th>Iris-versicolor</th>\n",
              "      <td>5</td>\n",
              "    </tr>\n",
              "    <tr>\n",
              "      <th>Iris-virginica</th>\n",
              "      <td>1</td>\n",
              "    </tr>\n",
              "    <tr>\n",
              "      <th rowspan=\"3\" valign=\"top\">5.7</th>\n",
              "      <th>Iris-setosa</th>\n",
              "      <td>2</td>\n",
              "    </tr>\n",
              "    <tr>\n",
              "      <th>Iris-versicolor</th>\n",
              "      <td>5</td>\n",
              "    </tr>\n",
              "    <tr>\n",
              "      <th>Iris-virginica</th>\n",
              "      <td>1</td>\n",
              "    </tr>\n",
              "    <tr>\n",
              "      <th rowspan=\"3\" valign=\"top\">5.8</th>\n",
              "      <th>Iris-setosa</th>\n",
              "      <td>1</td>\n",
              "    </tr>\n",
              "    <tr>\n",
              "      <th>Iris-versicolor</th>\n",
              "      <td>3</td>\n",
              "    </tr>\n",
              "    <tr>\n",
              "      <th>Iris-virginica</th>\n",
              "      <td>3</td>\n",
              "    </tr>\n",
              "    <tr>\n",
              "      <th rowspan=\"2\" valign=\"top\">5.9</th>\n",
              "      <th>Iris-versicolor</th>\n",
              "      <td>2</td>\n",
              "    </tr>\n",
              "    <tr>\n",
              "      <th>Iris-virginica</th>\n",
              "      <td>1</td>\n",
              "    </tr>\n",
              "    <tr>\n",
              "      <th rowspan=\"2\" valign=\"top\">6.0</th>\n",
              "      <th>Iris-versicolor</th>\n",
              "      <td>4</td>\n",
              "    </tr>\n",
              "    <tr>\n",
              "      <th>Iris-virginica</th>\n",
              "      <td>2</td>\n",
              "    </tr>\n",
              "    <tr>\n",
              "      <th rowspan=\"2\" valign=\"top\">6.1</th>\n",
              "      <th>Iris-versicolor</th>\n",
              "      <td>4</td>\n",
              "    </tr>\n",
              "    <tr>\n",
              "      <th>Iris-virginica</th>\n",
              "      <td>2</td>\n",
              "    </tr>\n",
              "    <tr>\n",
              "      <th rowspan=\"2\" valign=\"top\">6.2</th>\n",
              "      <th>Iris-versicolor</th>\n",
              "      <td>2</td>\n",
              "    </tr>\n",
              "    <tr>\n",
              "      <th>Iris-virginica</th>\n",
              "      <td>2</td>\n",
              "    </tr>\n",
              "    <tr>\n",
              "      <th rowspan=\"2\" valign=\"top\">6.3</th>\n",
              "      <th>Iris-versicolor</th>\n",
              "      <td>3</td>\n",
              "    </tr>\n",
              "    <tr>\n",
              "      <th>Iris-virginica</th>\n",
              "      <td>6</td>\n",
              "    </tr>\n",
              "    <tr>\n",
              "      <th rowspan=\"2\" valign=\"top\">6.4</th>\n",
              "      <th>Iris-versicolor</th>\n",
              "      <td>2</td>\n",
              "    </tr>\n",
              "    <tr>\n",
              "      <th>Iris-virginica</th>\n",
              "      <td>5</td>\n",
              "    </tr>\n",
              "    <tr>\n",
              "      <th rowspan=\"2\" valign=\"top\">6.5</th>\n",
              "      <th>Iris-versicolor</th>\n",
              "      <td>1</td>\n",
              "    </tr>\n",
              "    <tr>\n",
              "      <th>Iris-virginica</th>\n",
              "      <td>4</td>\n",
              "    </tr>\n",
              "    <tr>\n",
              "      <th>6.6</th>\n",
              "      <th>Iris-versicolor</th>\n",
              "      <td>2</td>\n",
              "    </tr>\n",
              "    <tr>\n",
              "      <th rowspan=\"2\" valign=\"top\">6.7</th>\n",
              "      <th>Iris-versicolor</th>\n",
              "      <td>3</td>\n",
              "    </tr>\n",
              "    <tr>\n",
              "      <th>Iris-virginica</th>\n",
              "      <td>5</td>\n",
              "    </tr>\n",
              "    <tr>\n",
              "      <th rowspan=\"2\" valign=\"top\">6.8</th>\n",
              "      <th>Iris-versicolor</th>\n",
              "      <td>1</td>\n",
              "    </tr>\n",
              "    <tr>\n",
              "      <th>Iris-virginica</th>\n",
              "      <td>2</td>\n",
              "    </tr>\n",
              "    <tr>\n",
              "      <th rowspan=\"2\" valign=\"top\">6.9</th>\n",
              "      <th>Iris-versicolor</th>\n",
              "      <td>1</td>\n",
              "    </tr>\n",
              "    <tr>\n",
              "      <th>Iris-virginica</th>\n",
              "      <td>3</td>\n",
              "    </tr>\n",
              "    <tr>\n",
              "      <th>7.0</th>\n",
              "      <th>Iris-versicolor</th>\n",
              "      <td>1</td>\n",
              "    </tr>\n",
              "    <tr>\n",
              "      <th>7.1</th>\n",
              "      <th>Iris-virginica</th>\n",
              "      <td>1</td>\n",
              "    </tr>\n",
              "    <tr>\n",
              "      <th>7.2</th>\n",
              "      <th>Iris-virginica</th>\n",
              "      <td>3</td>\n",
              "    </tr>\n",
              "    <tr>\n",
              "      <th>7.3</th>\n",
              "      <th>Iris-virginica</th>\n",
              "      <td>1</td>\n",
              "    </tr>\n",
              "    <tr>\n",
              "      <th>7.4</th>\n",
              "      <th>Iris-virginica</th>\n",
              "      <td>1</td>\n",
              "    </tr>\n",
              "    <tr>\n",
              "      <th>7.6</th>\n",
              "      <th>Iris-virginica</th>\n",
              "      <td>1</td>\n",
              "    </tr>\n",
              "    <tr>\n",
              "      <th>7.7</th>\n",
              "      <th>Iris-virginica</th>\n",
              "      <td>4</td>\n",
              "    </tr>\n",
              "    <tr>\n",
              "      <th>7.9</th>\n",
              "      <th>Iris-virginica</th>\n",
              "      <td>1</td>\n",
              "    </tr>\n",
              "  </tbody>\n",
              "</table>\n",
              "</div><br><label><b>dtype:</b> int64</label>"
            ]
          },
          "metadata": {},
          "execution_count": 73
        }
      ]
    },
    {
      "cell_type": "markdown",
      "source": [
        "3.2 Realizando la matriz de correlaciones"
      ],
      "metadata": {
        "id": "1tvjm4wX7HM-"
      }
    },
    {
      "cell_type": "code",
      "source": [
        "matriz = df.corr(numeric_only=True)\n",
        "print(matriz)"
      ],
      "metadata": {
        "colab": {
          "base_uri": "https://localhost:8080/"
        },
        "id": "pcdEaNT77K-6",
        "outputId": "6ac3982b-8310-4424-97e3-676947ef2c4d"
      },
      "execution_count": null,
      "outputs": [
        {
          "output_type": "stream",
          "name": "stdout",
          "text": [
            "                     Id  SepalLengthCm  SepalWidthCm  PetalLengthCm  \\\n",
            "Id             1.000000       0.716676     -0.397729       0.882747   \n",
            "SepalLengthCm  0.716676       1.000000     -0.109369       0.871754   \n",
            "SepalWidthCm  -0.397729      -0.109369      1.000000      -0.420516   \n",
            "PetalLengthCm  0.882747       0.871754     -0.420516       1.000000   \n",
            "PetalWidthCm   0.899759       0.817954     -0.356544       0.962757   \n",
            "\n",
            "               PetalWidthCm  \n",
            "Id                 0.899759  \n",
            "SepalLengthCm      0.817954  \n",
            "SepalWidthCm      -0.356544  \n",
            "PetalLengthCm      0.962757  \n",
            "PetalWidthCm       1.000000  \n"
          ]
        }
      ]
    },
    {
      "cell_type": "markdown",
      "source": [
        "3.3. Realizar Boxplots por cada variable\n"
      ],
      "metadata": {
        "id": "F7d7oRwo8FmK"
      }
    },
    {
      "cell_type": "markdown",
      "source": [
        "Boxplot Species Vs SepalLengthCm"
      ],
      "metadata": {
        "id": "nX3h3xtw959S"
      }
    },
    {
      "cell_type": "code",
      "source": [
        "grouped_SepalLengthCm = Iris.groupby(['Species','SepalLengthCm']).count()['Id']\n",
        "print(grouped_SepalLengthCm)\n",
        "(grouped_SepalLengthCm.unstack(level=0).plot.bar())\n",
        "plt.show()"
      ],
      "metadata": {
        "colab": {
          "base_uri": "https://localhost:8080/",
          "height": 1000
        },
        "id": "wvS8j_W583Qt",
        "outputId": "4fd90b68-bfac-414e-c59e-414a9709b4b5"
      },
      "execution_count": null,
      "outputs": [
        {
          "output_type": "stream",
          "name": "stdout",
          "text": [
            "Species          SepalLengthCm\n",
            "Iris-setosa      4.3              1\n",
            "                 4.4              3\n",
            "                 4.5              1\n",
            "                 4.6              4\n",
            "                 4.7              2\n",
            "                 4.8              5\n",
            "                 4.9              4\n",
            "                 5.0              8\n",
            "                 5.1              8\n",
            "                 5.2              3\n",
            "                 5.3              1\n",
            "                 5.4              5\n",
            "                 5.5              2\n",
            "                 5.7              2\n",
            "                 5.8              1\n",
            "Iris-versicolor  4.9              1\n",
            "                 5.0              2\n",
            "                 5.1              1\n",
            "                 5.2              1\n",
            "                 5.4              1\n",
            "                 5.5              5\n",
            "                 5.6              5\n",
            "                 5.7              5\n",
            "                 5.8              3\n",
            "                 5.9              2\n",
            "                 6.0              4\n",
            "                 6.1              4\n",
            "                 6.2              2\n",
            "                 6.3              3\n",
            "                 6.4              2\n",
            "                 6.5              1\n",
            "                 6.6              2\n",
            "                 6.7              3\n",
            "                 6.8              1\n",
            "                 6.9              1\n",
            "                 7.0              1\n",
            "Iris-virginica   4.9              1\n",
            "                 5.6              1\n",
            "                 5.7              1\n",
            "                 5.8              3\n",
            "                 5.9              1\n",
            "                 6.0              2\n",
            "                 6.1              2\n",
            "                 6.2              2\n",
            "                 6.3              6\n",
            "                 6.4              5\n",
            "                 6.5              4\n",
            "                 6.7              5\n",
            "                 6.8              2\n",
            "                 6.9              3\n",
            "                 7.1              1\n",
            "                 7.2              3\n",
            "                 7.3              1\n",
            "                 7.4              1\n",
            "                 7.6              1\n",
            "                 7.7              4\n",
            "                 7.9              1\n",
            "Name: Id, dtype: int64\n"
          ]
        },
        {
          "output_type": "display_data",
          "data": {
            "text/plain": [
              "<Figure size 640x480 with 1 Axes>"
            ],
            "image/png": "[encoded data removed]"
          },
          "metadata": {}
        }
      ]
    },
    {
      "cell_type": "markdown",
      "source": [
        "Boxplot Species Vs SepalWidthCm"
      ],
      "metadata": {
        "id": "BnqgPKkg-F5R"
      }
    },
    {
      "cell_type": "code",
      "source": [
        "grouped_SepalWidthCm = Iris.groupby(['Species','SepalWidthCm']).count()['Id']\n",
        "print(grouped_SepalWidthCm)\n",
        "(grouped_SepalWidthCm.unstack(level=0).plot.bar())\n",
        "plt.show()"
      ],
      "metadata": {
        "colab": {
          "base_uri": "https://localhost:8080/",
          "height": 1000
        },
        "id": "CGg8uCwh-VSw",
        "outputId": "8c11c8cb-79ce-405e-fabb-69c9ec9f5b10"
      },
      "execution_count": null,
      "outputs": [
        {
          "output_type": "stream",
          "name": "stdout",
          "text": [
            "Species          SepalWidthCm\n",
            "Iris-setosa      2.3              1\n",
            "                 2.9              1\n",
            "                 3.0              6\n",
            "                 3.1              5\n",
            "                 3.2              5\n",
            "                 3.3              2\n",
            "                 3.4              9\n",
            "                 3.5              6\n",
            "                 3.6              2\n",
            "                 3.7              3\n",
            "                 3.8              4\n",
            "                 3.9              2\n",
            "                 4.0              1\n",
            "                 4.1              1\n",
            "                 4.2              1\n",
            "                 4.4              1\n",
            "Iris-versicolor  2.0              1\n",
            "                 2.2              2\n",
            "                 2.3              3\n",
            "                 2.4              3\n",
            "                 2.5              4\n",
            "                 2.6              3\n",
            "                 2.7              5\n",
            "                 2.8              6\n",
            "                 2.9              7\n",
            "                 3.0              8\n",
            "                 3.1              3\n",
            "                 3.2              3\n",
            "                 3.3              1\n",
            "                 3.4              1\n",
            "Iris-virginica   2.2              1\n",
            "                 2.5              4\n",
            "                 2.6              2\n",
            "                 2.7              4\n",
            "                 2.8              8\n",
            "                 2.9              2\n",
            "                 3.0             12\n",
            "                 3.1              4\n",
            "                 3.2              5\n",
            "                 3.3              3\n",
            "                 3.4              2\n",
            "                 3.6              1\n",
            "                 3.8              2\n",
            "Name: Id, dtype: int64\n"
          ]
        },
        {
          "output_type": "display_data",
          "data": {
            "text/plain": [
              "<Figure size 640x480 with 1 Axes>"
            ],
            "image/png": "[encoded data removed]"
          },
          "metadata": {}
        }
      ]
    },
    {
      "cell_type": "markdown",
      "source": [
        "Boxplot Species Vs PetalLengthCm"
      ],
      "metadata": {
        "id": "I45mvdsc-sC5"
      }
    },
    {
      "cell_type": "code",
      "source": [
        "grouped_PetalLengthCm = Iris.groupby(['Species','PetalLengthCm']).count()['Id']\n",
        "print(grouped_PetalLengthCm)\n",
        "(grouped_PetalLengthCm.unstack(level=0).plot.bar())\n",
        "plt.show()"
      ],
      "metadata": {
        "colab": {
          "base_uri": "https://localhost:8080/",
          "height": 1000
        },
        "id": "0FSLj1UK-xEL",
        "outputId": "8a6f1b6b-2667-492e-e7e9-e8f32d81fb82"
      },
      "execution_count": null,
      "outputs": [
        {
          "output_type": "stream",
          "name": "stdout",
          "text": [
            "Species          PetalLengthCm\n",
            "Iris-setosa      1.0               1\n",
            "                 1.1               1\n",
            "                 1.2               2\n",
            "                 1.3               7\n",
            "                 1.4              12\n",
            "                 1.5              14\n",
            "                 1.6               7\n",
            "                 1.7               4\n",
            "                 1.9               2\n",
            "Iris-versicolor  3.0               1\n",
            "                 3.3               2\n",
            "                 3.5               2\n",
            "                 3.6               1\n",
            "                 3.7               1\n",
            "                 3.8               1\n",
            "                 3.9               3\n",
            "                 4.0               5\n",
            "                 4.1               3\n",
            "                 4.2               4\n",
            "                 4.3               2\n",
            "                 4.4               4\n",
            "                 4.5               7\n",
            "                 4.6               3\n",
            "                 4.7               5\n",
            "                 4.8               2\n",
            "                 4.9               2\n",
            "                 5.0               1\n",
            "                 5.1               1\n",
            "Iris-virginica   4.5               1\n",
            "                 4.8               2\n",
            "                 4.9               3\n",
            "                 5.0               3\n",
            "                 5.1               7\n",
            "                 5.2               2\n",
            "                 5.3               2\n",
            "                 5.4               2\n",
            "                 5.5               3\n",
            "                 5.6               6\n",
            "                 5.7               3\n",
            "                 5.8               3\n",
            "                 5.9               2\n",
            "                 6.0               2\n",
            "                 6.1               3\n",
            "                 6.3               1\n",
            "                 6.4               1\n",
            "                 6.6               1\n",
            "                 6.7               2\n",
            "                 6.9               1\n",
            "Name: Id, dtype: int64\n"
          ]
        },
        {
          "output_type": "display_data",
          "data": {
            "text/plain": [
              "<Figure size 640x480 with 1 Axes>"
            ],
            "image/png": "[encoded data removed]"
          },
          "metadata": {}
        }
      ]
    },
    {
      "cell_type": "markdown",
      "source": [
        "Boxplot Species Vs PetalWidthCm"
      ],
      "metadata": {
        "id": "JV3_NLnC_AEf"
      }
    },
    {
      "cell_type": "code",
      "source": [
        "grouped_PetalWidthCm = Iris.groupby(['Species','PetalWidthCm']).count()['Id']\n",
        "print(grouped_PetalWidthCm)\n",
        "(grouped_PetalWidthCm.unstack(level=0).plot.bar())\n",
        "plt.show()"
      ],
      "metadata": {
        "colab": {
          "base_uri": "https://localhost:8080/",
          "height": 961
        },
        "id": "itizGHDC_DiT",
        "outputId": "5707652e-f72b-4b08-914d-e02931029902"
      },
      "execution_count": null,
      "outputs": [
        {
          "output_type": "stream",
          "name": "stdout",
          "text": [
            "Species          PetalWidthCm\n",
            "Iris-setosa      0.1              6\n",
            "                 0.2             28\n",
            "                 0.3              7\n",
            "                 0.4              7\n",
            "                 0.5              1\n",
            "                 0.6              1\n",
            "Iris-versicolor  1.0              7\n",
            "                 1.1              3\n",
            "                 1.2              5\n",
            "                 1.3             13\n",
            "                 1.4              7\n",
            "                 1.5             10\n",
            "                 1.6              3\n",
            "                 1.7              1\n",
            "                 1.8              1\n",
            "Iris-virginica   1.4              1\n",
            "                 1.5              2\n",
            "                 1.6              1\n",
            "                 1.7              1\n",
            "                 1.8             11\n",
            "                 1.9              5\n",
            "                 2.0              6\n",
            "                 2.1              6\n",
            "                 2.2              3\n",
            "                 2.3              8\n",
            "                 2.4              3\n",
            "                 2.5              3\n",
            "Name: Id, dtype: int64\n"
          ]
        },
        {
          "output_type": "display_data",
          "data": {
            "text/plain": [
              "<Figure size 640x480 with 1 Axes>"
            ],
            "image/png": "[encoded data removed]"
          },
          "metadata": {}
        }
      ]
    },
    {
      "cell_type": "markdown",
      "source": [
        "**Ejercicio 2 **\n",
        "Rating de cocinas"
      ],
      "metadata": {
        "id": "_dfkVJkJ4ERE"
      }
    },
    {
      "cell_type": "markdown",
      "source": [
        "Imprtando la biblioteca pandas y cargando datos"
      ],
      "metadata": {
        "id": "ki66u4-86OPa"
      }
    },
    {
      "cell_type": "code",
      "source": [
        "import pandas as pd\n",
        "Cuisine = pd.read_csv(\"Cuisine_rating.csv\")\n",
        "print(Cuisine.head())"
      ],
      "metadata": {
        "colab": {
          "base_uri": "https://localhost:8080/"
        },
        "id": "76eIH2X655kn",
        "outputId": "d34d09f4-b809-404d-dfea-276aafb97598"
      },
      "execution_count": null,
      "outputs": [
        {
          "output_type": "stream",
          "name": "stdout",
          "text": [
            "   User ID  Area code            Location  Gender   YOB Marital Status  \\\n",
            "0        1        153  Upper East Side,NY  Female  2006         Single   \n",
            "1        2        123       St. George,NY  Female  1991        Married   \n",
            "2        3        122  Upper West Side,NY    Male  1977         Single   \n",
            "3        4        153  Upper East Side,NY  Female  1956        Married   \n",
            "4        5        129     Central Park,NY    Male  1997         Single   \n",
            "\n",
            "       Activity  Budget  Cuisines  Alcohol     Smoker  Food Rating  \\\n",
            "0  Professional       3  Japanese     Never     Never            5   \n",
            "1       Student       3    Indian     Never  Socially            1   \n",
            "2       Student       5   Seafood     Often     Often            5   \n",
            "3  Professional       5  Japanese     Never  Socially            3   \n",
            "4       Student       4  Filipino  Socially     Never            2   \n",
            "\n",
            "   Service Rating  Overall Rating Often A S  \n",
            "0               4             4.5        No  \n",
            "1               1             1.0        No  \n",
            "2               5             5.0       Yes  \n",
            "3               1             2.0        No  \n",
            "4               4             3.0        No  \n"
          ]
        }
      ]
    },
    {
      "cell_type": "markdown",
      "source": [
        "Generando el Data frame, importo primero la biblioteca Numpy y matplotlib"
      ],
      "metadata": {
        "id": "3vFEZBq-6Z6l"
      }
    },
    {
      "cell_type": "code",
      "source": [
        "import numpy as np\n",
        "import matplotlib.pyplot as plt"
      ],
      "metadata": {
        "id": "QumFkEq96-Cl"
      },
      "execution_count": null,
      "outputs": []
    },
    {
      "cell_type": "markdown",
      "source": [
        "Código para Data frame"
      ],
      "metadata": {
        "id": "TPDjRaHz7FZx"
      }
    },
    {
      "cell_type": "code",
      "source": [
        "df = pd.DataFrame(Cuisine)\n",
        "print(df)\n",
        "df = pd.read_csv(\"Cuisine_rating.csv\")\n",
        "print(df.head())"
      ],
      "metadata": {
        "colab": {
          "base_uri": "https://localhost:8080/"
        },
        "id": "QKohbI8a7Ogy",
        "outputId": "6351f3df-d914-45de-ed85-b82749374e1e"
      },
      "execution_count": null,
      "outputs": [
        {
          "output_type": "stream",
          "name": "stdout",
          "text": [
            "     User ID  Area code            Location  Gender   YOB Marital Status  \\\n",
            "0          1        153  Upper East Side,NY  Female  2006         Single   \n",
            "1          2        123       St. George,NY  Female  1991        Married   \n",
            "2          3        122  Upper West Side,NY    Male  1977         Single   \n",
            "3          4        153  Upper East Side,NY  Female  1956        Married   \n",
            "4          5        129     Central Park,NY    Male  1997         Single   \n",
            "..       ...        ...                 ...     ...   ...            ...   \n",
            "195      196        175       St. George,NY  Female  1982         Single   \n",
            "196      197        170  Upper West Side,NY  Female  2000        Married   \n",
            "197      198        160       St. George,NY  Female  2006         Single   \n",
            "198      199        130       St. George,NY    Male  2002        Married   \n",
            "199      200        140  Upper East Side,NY    Male  2005        Married   \n",
            "\n",
            "         Activity  Budget  Cuisines  Alcohol     Smoker  Food Rating  \\\n",
            "0    Professional       3  Japanese     Never     Never            5   \n",
            "1         Student       3    Indian     Never  Socially            1   \n",
            "2         Student       5   Seafood     Often     Often            5   \n",
            "3    Professional       5  Japanese     Never  Socially            3   \n",
            "4         Student       4  Filipino  Socially     Never            2   \n",
            "..            ...     ...       ...       ...       ...          ...   \n",
            "195  Professional       4    French     Never  Socially            1   \n",
            "196       Student       4   Chinese     Never     Often            1   \n",
            "197  Professional       5  Japanese     Never     Often            5   \n",
            "198       Student       3  Filipino     Never  Socially            3   \n",
            "199       Student       4    French     Never     Never            3   \n",
            "\n",
            "     Service Rating  Overall Rating Often A S  \n",
            "0                 4             4.5        No  \n",
            "1                 1             1.0        No  \n",
            "2                 5             5.0       Yes  \n",
            "3                 1             2.0        No  \n",
            "4                 4             3.0        No  \n",
            "..              ...             ...       ...  \n",
            "195               2             1.5        No  \n",
            "196               2             1.5        No  \n",
            "197               2             3.5        No  \n",
            "198               2             2.5        No  \n",
            "199               2             2.5        No  \n",
            "\n",
            "[200 rows x 15 columns]\n",
            "   User ID  Area code            Location  Gender   YOB Marital Status  \\\n",
            "0        1        153  Upper East Side,NY  Female  2006         Single   \n",
            "1        2        123       St. George,NY  Female  1991        Married   \n",
            "2        3        122  Upper West Side,NY    Male  1977         Single   \n",
            "3        4        153  Upper East Side,NY  Female  1956        Married   \n",
            "4        5        129     Central Park,NY    Male  1997         Single   \n",
            "\n",
            "       Activity  Budget  Cuisines  Alcohol     Smoker  Food Rating  \\\n",
            "0  Professional       3  Japanese     Never     Never            5   \n",
            "1       Student       3    Indian     Never  Socially            1   \n",
            "2       Student       5   Seafood     Often     Often            5   \n",
            "3  Professional       5  Japanese     Never  Socially            3   \n",
            "4       Student       4  Filipino  Socially     Never            2   \n",
            "\n",
            "   Service Rating  Overall Rating Often A S  \n",
            "0               4             4.5        No  \n",
            "1               1             1.0        No  \n",
            "2               5             5.0       Yes  \n",
            "3               1             2.0        No  \n",
            "4               4             3.0        No  \n"
          ]
        }
      ]
    },
    {
      "cell_type": "markdown",
      "source": [
        "Explorando que columnas tienen los datos"
      ],
      "metadata": {
        "id": "Ah0zklR88Lia"
      }
    },
    {
      "cell_type": "code",
      "source": [
        "Cuisine.columns"
      ],
      "metadata": {
        "colab": {
          "base_uri": "https://localhost:8080/"
        },
        "id": "PXgQ9u__8IN4",
        "outputId": "716726fe-97d9-4a2b-b522-e94f9a244677"
      },
      "execution_count": null,
      "outputs": [
        {
          "output_type": "execute_result",
          "data": {
            "text/plain": [
              "Index(['User ID', 'Area code', 'Location', 'Gender', 'YOB', 'Marital Status',\n",
              "       'Activity', 'Budget', 'Cuisines', 'Alcohol ', 'Smoker', 'Food Rating',\n",
              "       'Service Rating', 'Overall Rating', 'Often A S'],\n",
              "      dtype='object')"
            ]
          },
          "metadata": {},
          "execution_count": 8
        }
      ]
    },
    {
      "cell_type": "markdown",
      "source": [
        "Revisando si hay datos nulos"
      ],
      "metadata": {
        "id": "2LrkeH368TpF"
      }
    },
    {
      "cell_type": "code",
      "source": [
        "Cuisine.info()"
      ],
      "metadata": {
        "colab": {
          "base_uri": "https://localhost:8080/"
        },
        "id": "HodWb4-v8WPO",
        "outputId": "5c31b986-2468-476d-b6ba-c6ec768f8531"
      },
      "execution_count": null,
      "outputs": [
        {
          "output_type": "stream",
          "name": "stdout",
          "text": [
            "<class 'pandas.core.frame.DataFrame'>\n",
            "RangeIndex: 200 entries, 0 to 199\n",
            "Data columns (total 15 columns):\n",
            " #   Column          Non-Null Count  Dtype  \n",
            "---  ------          --------------  -----  \n",
            " 0   User ID         200 non-null    int64  \n",
            " 1   Area code       200 non-null    int64  \n",
            " 2   Location        200 non-null    object \n",
            " 3   Gender          200 non-null    object \n",
            " 4   YOB             200 non-null    int64  \n",
            " 5   Marital Status  200 non-null    object \n",
            " 6   Activity        200 non-null    object \n",
            " 7   Budget          200 non-null    int64  \n",
            " 8   Cuisines        200 non-null    object \n",
            " 9   Alcohol         200 non-null    object \n",
            " 10  Smoker          200 non-null    object \n",
            " 11  Food Rating     200 non-null    int64  \n",
            " 12  Service Rating  200 non-null    int64  \n",
            " 13  Overall Rating  200 non-null    float64\n",
            " 14  Often A S       200 non-null    object \n",
            "dtypes: float64(1), int64(6), object(8)\n",
            "memory usage: 23.6+ KB\n"
          ]
        }
      ]
    }
  ]
}