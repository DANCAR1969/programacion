{
  "cells": [
    {
      "cell_type": "markdown",
      "metadata": {
        "id": "view-in-github",
        "colab_type": "text"
      },
      "source": [
        "<a href=\"https://colab.research.google.com/github/DANCAR1969/programacion/blob/master/diccionario2.ipynb\" target=\"_parent\"><img src=\"https://colab.research.google.com/assets/colab-badge.svg\" alt=\"Open In Colab\"/></a>"
      ]
    },
    {
      "cell_type": "markdown",
      "metadata": {
        "id": "VAWF7qk7J2Ca"
      },
      "source": [
        "Desarrollo para interactividad con el usuario   enfocado  a la carecterizaicon del diccionario"
      ]
    },
    {
      "cell_type": "code",
      "execution_count": null,
      "metadata": {
        "colab": {
          "background_save": true,
          "base_uri": "https://localhost:8080/"
        },
        "id": "4TZnKjWEKNeq",
        "outputId": "894c5c15-843f-4e8d-c0a1-550e3a8f1342"
      },
      "outputs": [
        {
          "name": "stdout",
          "output_type": "stream",
          "text": [
            "\\Menu de Opciones\n",
            "1. Agregar valor  al diccionario\n",
            "2. Eliminar el diccionario\n",
            "3. Acceder a un valor del diccionario\n",
            "4. Mostrar todo el diccionario\n",
            "5. Salir\n"
          ]
        }
      ],
      "source": [
        "def mostrar_menu():\n",
        "  print (\"\\Menu de Opciones\")\n",
        "  print (\"1. Agregar valor  al diccionario\")\n",
        "  print (\"2. Eliminar el diccionario\")\n",
        "  print (\"3. Acceder a un valor del diccionario\")\n",
        "  print (\"4. Mostrar todo el diccionario\")\n",
        "  print (\"5. Salir\")\n",
        "\n",
        "def agregar_valor(diccionario):\n",
        "  clave = input(\"Ingrese la clave: \")\n",
        "  valor = input(\"Ingrese el valor: \")\n",
        "  if clave in diccionario:\n",
        "    diccionario[clave].add (valor)\n",
        "  else:\n",
        "    diccionario[clave] = {valor}\n",
        "    print(f\"valor agregado: {clave}: {diccionario[clave]}\")\n",
        "\n",
        "def eliminar_valor(diccionario):\n",
        "  clave= input(\"Ingrese la clave del valor a eliminar: \")\n",
        "  if clave in diccionario:\n",
        "    valor = input(\"Ingrese el valor a eliminar: \")\n",
        "    if valor in diccionario[clave]:\n",
        "      diccionario[clave].remove(valor)\n",
        "      if not diccionario[clave]:\n",
        "        del diccionario[clave]\n",
        "        print(\"f valor eliminado: {valor}\")\n",
        "      else:\n",
        "        print(\"valor no encontrado\")\n",
        "  else:\n",
        "    print(\"clave no encontrada\")\n",
        "\n",
        "def acceder_valor(diccionario):\n",
        "  clave = input(\"Ingrese la clave del valor a acceder: \")\n",
        "  if clave in diccionario:\n",
        "    print(f\" valores asociados a {clave}: \")\n",
        "  else:\n",
        "    print(\"clave no encontrada\")\n",
        "\n",
        "def main():\n",
        "  diccionario = {}\n",
        "  while True:\n",
        "    mostrar_menu()\n",
        "    opcion = input(\"Seleccione una opción: \")\n",
        "    if opcion == \"1\":\n",
        "      agregar_valor(diccionario)\n",
        "    elif opcion == \"2\":\n",
        "        eliminar_valor(diccionario)\n",
        "    elif opcion == \"3\":\n",
        "      acceder_valor(diccionario)\n",
        "    elif opcion == \"4\" :\n",
        "        print(f\"contenido del diccionario: {diccionario}\")\n",
        "    elif opcion == \"5\" :\n",
        "       print(\"Saliendo del programa\")\n",
        "       break\n",
        "    else:(\"opcion no valida, intente de nuevo\")\n",
        "if __name__ == \"__main__\":\n",
        "  main()\n"
      ]
    }
  ],
  "metadata": {
    "colab": {
      "provenance": [],
      "authorship_tag": "ABX9TyM1aB6yYvFUn5xvkXh89zKg",
      "include_colab_link": true
    },
    "kernelspec": {
      "display_name": "Python 3",
      "name": "python3"
    },
    "language_info": {
      "name": "python"
    }
  },
  "nbformat": 4,
  "nbformat_minor": 0
}