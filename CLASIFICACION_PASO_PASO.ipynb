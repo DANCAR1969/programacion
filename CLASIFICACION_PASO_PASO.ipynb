{
  "nbformat": 4,
  "nbformat_minor": 0,
  "metadata": {
    "colab": {
      "provenance": [],
      "authorship_tag": "ABX9TyM6ew5z1iBkeNPjjeHSowIo",
      "include_colab_link": true
    },
    "kernelspec": {
      "name": "python3",
      "display_name": "Python 3"
    },
    "language_info": {
      "name": "python"
    }
  },
  "cells": [
    {
      "cell_type": "markdown",
      "metadata": {
        "id": "view-in-github",
        "colab_type": "text"
      },
      "source": [
        "<a href=\"https://colab.research.google.com/github/DANCAR1969/programacion/blob/master/CLASIFICACION_PASO_PASO.ipynb\" target=\"_parent\"><img src=\"https://colab.research.google.com/assets/colab-badge.svg\" alt=\"Open In Colab\"/></a>"
      ]
    },
    {
      "cell_type": "markdown",
      "source": [
        " Es un ejemplo clásico de aprendizaje supervisado de clasificación ya que este código entrena una red neuronal para reconocer dígitos escritos a mano (del 0 al 9), usando el conjunto de datos MNIST.\n",
        "\n",
        " Primero carga y normaliza las imágenes, luego construye un modelo con capas densas, lo entrena con datos etiquetados, y finalmente evalúa su precisión. También muestra ejemplos visuales con la etiqueta real y la predicción realizada por el modelo."
      ],
      "metadata": {
        "id": "tvQ9Sen1zasn"
      }
    },
    {
      "cell_type": "markdown",
      "source": [
        "Paso 1: Importar librerías"
      ],
      "metadata": {
        "id": "cBbstkiXgzDV"
      }
    },
    {
      "cell_type": "code",
      "source": [
        "import tensorflow as tf\n",
        "import matplotlib.pyplot as plt\n",
        "import numpy as np"
      ],
      "metadata": {
        "id": "Loi5sqcIzva6"
      },
      "execution_count": null,
      "outputs": []
    },
    {
      "cell_type": "markdown",
      "source": [
        "tensorflow: Biblioteca de Machine Learning que permite crear, entrenar y evaluar modelos.\n",
        "\n",
        "matplotlib.pyplot: Para visualizar imágenes de los dígitos.\n",
        "\n",
        "numpy: Para operaciones numéricas, especialmente matrices y vectores."
      ],
      "metadata": {
        "id": "7eYnEp-k1CLe"
      }
    },
    {
      "cell_type": "markdown",
      "source": [
        "Paso 2: Cargar el dataset de MNIST"
      ],
      "metadata": {
        "id": "Mx41hmxyg3-c"
      }
    },
    {
      "cell_type": "code",
      "source": [
        "mnist = tf.keras.datasets.mnist\n",
        "(x_train, y_train), (x_test, y_test) = mnist.load_data()"
      ],
      "metadata": {
        "id": "wTjTjnBD1K7u"
      },
      "execution_count": null,
      "outputs": []
    },
    {
      "cell_type": "markdown",
      "source": [
        "Se importa el dataset MNIST directamente desde tensorflow.keras.datasets.\n",
        "\n",
        "Este dataset contiene:\n",
        "\n",
        "x_train: 60,000 imágenes (28x28 píxeles) para entrenar.\n",
        "\n",
        "y_train: Etiquetas (números del 0 al 9) para esas imágenes.\n",
        "\n",
        "x_test: 10,000 imágenes nuevas para evaluar el modelo.\n",
        "\n",
        "y_test: Etiquetas verdaderas para comparar contra la predicción."
      ],
      "metadata": {
        "id": "Vyn4z3kchVgg"
      }
    },
    {
      "cell_type": "markdown",
      "source": [
        "Paso 3: Normalizar las imágenes"
      ],
      "metadata": {
        "id": "zENjNkrDhnor"
      }
    },
    {
      "cell_type": "code",
      "source": [
        "x_train, x_test = x_train / 255.0, x_test / 255.0"
      ],
      "metadata": {
        "id": "i0x_jjYIh5bk"
      },
      "execution_count": null,
      "outputs": []
    },
    {
      "cell_type": "markdown",
      "source": [
        "Cada pixel tiene un valor entre 0 y 255. Lo dividimos por 255 para que esté entre 0 y 1.\n",
        "\n",
        "Esto mejora la velocidad y precisión del entrenamiento (mejor comportamiento del gradiente descendente)."
      ],
      "metadata": {
        "id": "X6Zfb2Hdh_me"
      }
    },
    {
      "cell_type": "markdown",
      "source": [
        "Paso 4: Crear el modelo"
      ],
      "metadata": {
        "id": "CkY2Bie_iQcY"
      }
    },
    {
      "cell_type": "code",
      "source": [
        "model = tf.keras.models.Sequential([\n",
        "    tf.keras.layers.Flatten(input_shape=(28, 28)),\n",
        "    tf.keras.layers.Dense(128, activation='relu'),\n",
        "    tf.keras.layers.Dropout(0.2),\n",
        "    tf.keras.layers.Dense(10, activation='softmax')\n",
        "])"
      ],
      "metadata": {
        "id": "veH4scs3iYUZ"
      },
      "execution_count": null,
      "outputs": []
    },
    {
      "cell_type": "markdown",
      "source": [
        "Sequential: Es una pila lineal de capas (input → hidden → output).\n",
        "\n",
        "Flatten: Convierte la imagen 28x28 (matriz) en un vector de 784 elementos.\n",
        "\n",
        "Dense(128, activation='relu'): Capa totalmente conectada con 128 neuronas y función ReLU (activa solo valores positivos).\n",
        "\n",
        "Dropout(0.2): Apaga aleatoriamente el 20% de las neuronas durante cada paso de entrenamiento, para evitar sobreajuste.\n",
        "\n",
        "Dense(10, activation='softmax'): Capa de salida con 10 neuronas (una por dígito). softmax convierte la salida en probabilidades que suman 1."
      ],
      "metadata": {
        "id": "w7mku5yCiddp"
      }
    },
    {
      "cell_type": "markdown",
      "source": [
        "Paso 5: Compilar el modelo"
      ],
      "metadata": {
        "id": "LhtPLtsUiorS"
      }
    },
    {
      "cell_type": "code",
      "source": [
        "model.compile(optimizer='adam',\n",
        "              loss='sparse_categorical_crossentropy',\n",
        "              metrics=['accuracy'])\n"
      ],
      "metadata": {
        "id": "QqRmXcqqi-9T"
      },
      "execution_count": null,
      "outputs": []
    },
    {
      "cell_type": "markdown",
      "source": [
        "optimizer='adam': Algoritmo eficiente de ajuste de pesos (aprendizaje).\n",
        "\n",
        "loss='sparse_categorical_crossentropy': Función de pérdida para clasificación multiclase con etiquetas enteras (0 al 9).\n",
        "\n",
        "metrics=['accuracy']: Se mide la precisión como métrica de evaluación.\n",
        "\n"
      ],
      "metadata": {
        "id": "lbNoV3cLjDlO"
      }
    },
    {
      "cell_type": "markdown",
      "source": [
        "Paso 6: Entrenar el modelo"
      ],
      "metadata": {
        "id": "UTBu9xEijKT_"
      }
    },
    {
      "cell_type": "code",
      "source": [
        "model.fit(x_train, y_train, epochs=5)\n"
      ],
      "metadata": {
        "id": "eqBOrGKojWGo"
      },
      "execution_count": null,
      "outputs": []
    },
    {
      "cell_type": "markdown",
      "source": [
        "El modelo ajusta sus pesos para aprender a predecir correctamente.\n",
        "\n",
        "Se entrena durante 5 épocas (vueltas completas al conjunto de entrenamiento).\n",
        "\n",
        "Internamente realiza miles de iteraciones (batches) para mejorar."
      ],
      "metadata": {
        "id": "VWU6dZRjjaYT"
      }
    },
    {
      "cell_type": "markdown",
      "source": [
        "Paso 7: Evaluar el modelo"
      ],
      "metadata": {
        "id": "b8sz1KfRjiNK"
      }
    },
    {
      "cell_type": "code",
      "source": [
        "test_loss, test_acc = model.evaluate(x_test, y_test, verbose=2)\n",
        "print('\\nPrecisión en el conjunto de prueba:', test_acc)\n"
      ],
      "metadata": {
        "id": "VQx5LyfBiNG_"
      },
      "execution_count": null,
      "outputs": []
    },
    {
      "cell_type": "markdown",
      "source": [
        "Se evalúa el modelo con datos que nunca ha visto.\n",
        "\n",
        "test_loss: Muestra qué tan lejos están las predicciones del valor real.\n",
        "\n",
        "test_acc: Precisión final del modelo en el conjunto de prueba."
      ],
      "metadata": {
        "id": "UPHlX5BajqhT"
      }
    },
    {
      "cell_type": "markdown",
      "source": [
        "Paso 8: Mostrar predicciones con imágenes"
      ],
      "metadata": {
        "id": "ZGpvWTQpjwEU"
      }
    },
    {
      "cell_type": "code",
      "source": [
        "predictions = model.predict(x_test)\n"
      ],
      "metadata": {
        "id": "b8jW12SFj5Dm"
      },
      "execution_count": null,
      "outputs": []
    },
    {
      "cell_type": "markdown",
      "source": [
        "El modelo predice probabilidades para cada clase (0 al 9).\n",
        "\n",
        "Se obtiene un array de 10 probabilidades por imagen."
      ],
      "metadata": {
        "id": "JQ82pYZzkHK_"
      }
    },
    {
      "cell_type": "code",
      "source": [
        "for i in range(5): # LINE1\n",
        "    plt.figure() #LINE2\n",
        "    plt.imshow(x_test[i], cmap=plt.cm.binary) #LINE3\n",
        "    plt.title(f\"Etiqueta Real: {y_test[i]} - Predicción: {np.argmax(predictions[i])}\") #LINE 4\n",
        "    plt.show() # LINE 5\n"
      ],
      "metadata": {
        "id": "NQ0iy948kLbY"
      },
      "execution_count": null,
      "outputs": []
    },
    {
      "cell_type": "markdown",
      "source": [
        "LINE1: Esta línea crea un bucle for que se ejecutará 5 veces, con i tomando los valores del 0 al 4. Para mostrar las primeras 5 imágenes del conjunto de prueba (x_test) junto con:\n",
        "\n",
        "Su etiqueta real (y_test[i])\n",
        "Su predicción del modelo (predictions[i])"
      ],
      "metadata": {
        "id": "d-fIGmLRkSuw"
      }
    },
    {
      "cell_type": "markdown",
      "source": [
        "LINE2: Esta línea crea una nueva figura de Matplotlib.\n",
        "Es necesaria para que cada imagen se muestre en una ventana/gráfico diferente, evitando que se sobrepongan."
      ],
      "metadata": {
        "id": "x6UQcQblhXfC"
      }
    },
    {
      "cell_type": "markdown",
      "source": [
        "LINE3: x_test[i]: Es una imagen en formato de matriz (por ejemplo, 28x28 píxeles si es MNIST).\n",
        "\n",
        "imshow(): Función que muestra una imagen en escala de grises o colores.\n",
        "\n",
        "cmap=plt.cm.binary: Se usa un colormap binario, que renderiza la imagen en blanco y negro (útil para imágenes de dígitos)."
      ],
      "metadata": {
        "id": "fY-zAtYjh7pY"
      }
    },
    {
      "cell_type": "markdown",
      "source": [
        "LINE4:Agrega un título encima de la imagen, con información de:\n",
        "\n",
        "Etiqueta real: y_test[i] (por ejemplo, el dígito correcto que debería ser).\n",
        "\n",
        "Predicción del modelo: np.argmax(predictions[i])\n",
        "\n",
        "predictions[i] contiene las probabilidades de cada clase (ejemplo: [0.1, 0.05, 0.8, ...]).\n",
        "\n",
        "np.argmax() devuelve el índice de la clase con mayor probabilidad, es decir, la predicción final del modelo."
      ],
      "metadata": {
        "id": "1gJC1ESxiia2"
      }
    },
    {
      "cell_type": "markdown",
      "source": [
        "LINE5: Muestra la figura en pantalla.\n",
        "Esta línea es necesaria en Google Colab y otros notebooks para que el gráfico aparezca correctamente.\n",
        "\n"
      ],
      "metadata": {
        "id": "w3BwUERgjS6G"
      }
    }
  ]
}